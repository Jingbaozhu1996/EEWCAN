{
 "cells": [
  {
   "cell_type": "markdown",
   "metadata": {},
   "source": [
    "# Import Library"
   ]
  },
  {
   "cell_type": "code",
   "execution_count": 1,
   "metadata": {},
   "outputs": [
    {
     "name": "stderr",
     "output_type": "stream",
     "text": [
      "C:\\Users\\zhujingbao\\Anaconda3\\lib\\site-packages\\sklearn\\ensemble\\weight_boosting.py:29: DeprecationWarning: numpy.core.umath_tests is an internal NumPy module and should not be imported. It will be removed in a future NumPy release.\n",
      "  from numpy.core.umath_tests import inner1d\n"
     ]
    }
   ],
   "source": [
    "# 导入库\n",
    "import numpy as np  # numpy库\n",
    "from sklearn.linear_model import BayesianRidge, LinearRegression, ElasticNet  # 批量导入要实现的回归算法\n",
    "from sklearn.svm import SVR  # SVM中的回归算法\n",
    "from sklearn.svm import LinearSVR  # SVM中的回归算法\n",
    "from sklearn.ensemble.gradient_boosting import GradientBoostingRegressor  # 集成算法\n",
    "from sklearn.model_selection import cross_val_score  # 交叉检验\n",
    "from sklearn.metrics import explained_variance_score, mean_absolute_error, mean_squared_error, r2_score  # 批量导入指标算法\n",
    "import pandas as pd  # 导入pandas\n",
    "import matplotlib.pyplot as plt  # 导入图形展示库\n",
    "import xlwt\n",
    "from sklearn.model_selection import train_test_split\n",
    "from sklearn.preprocessing import StandardScaler\n",
    "import joblib  # 添加模型保存库"
   ]
  },
  {
   "cell_type": "markdown",
   "metadata": {},
   "source": [
    "# Data processing"
   ]
  },
  {
   "cell_type": "code",
   "execution_count": 2,
   "metadata": {},
   "outputs": [],
   "source": [
    "#读取表头\n",
    "workbook = xlwt.Workbook(encoding='utf-8')\n",
    "#创建表\n",
    "worksheet = workbook.add_sheet('sheet1')\n",
    "\n"
   ]
  },
  {
   "cell_type": "code",
   "execution_count": 3,
   "metadata": {},
   "outputs": [],
   "source": [
    "train_data = pd.read_csv(open(r'\\SVM-Mag train.csv',encoding='UTF-8'))\n",
    "X_train = train_data.iloc[:, [0,1,2,3,4,5,6,7,8,9,10,11,12]].values\n",
    "y_train = train_data.iloc[:, 13].values    #导入数据  iloc通过行号获取行数据\n",
    "\n"
   ]
  },
  {
   "cell_type": "markdown",
   "metadata": {},
   "source": [
    "# SVM-Mag architecture, training and testing"
   ]
  },
  {
   "cell_type": "code",
   "execution_count": 4,
   "metadata": {},
   "outputs": [
    {
     "name": "stdout",
     "output_type": "stream",
     "text": [
      "SVR(C=6.732, cache_size=200, coef0=0.0, degree=3, epsilon=0.016296,\n",
      "  gamma=0.153, kernel='rbf', max_iter=-1, shrinking=True, tol=0.001,\n",
      "  verbose=False)\n",
      "----------------------------------------------------------------------\n",
      "cross validation result:\n",
      "            0         1        2         3         4         5\n",
      "SVR  0.822789  0.844952  0.81791  0.807897  0.844484  0.840554\n",
      "----------------------------------------------------------------------\n",
      "regression metrics:\n",
      "           ev       mae       mse        r2\n",
      "SVR  0.905238  0.216377  0.097452  0.904908\n",
      "----------------------------------------------------------------------\n",
      "short name \t full name\n",
      "ev \t explained_variance\n",
      "mae \t mean_absolute_error\n",
      "mse \t mean_squared_error\n",
      "r2 \t r2\n",
      "----------------------------------------------------------------------\n",
      "训练标准差STD= 0.31162993635110364\n",
      "训练误差均值MEAN= -0.018394716686662392\n",
      "训练平均绝对误差MAE= 0.21637691061131434\n",
      "训练RMSE= 0.3121723607755425\n",
      "训练MAPE= 5.075397211348305\n",
      "训练r2 score: 0.9049082198037318\n"
     ]
    }
   ],
   "source": [
    "from sklearn import metrics\n",
    "from sklearn.metrics import r2_score\n",
    "\n",
    "# 训练回归模型\n",
    "n_folds = 6  # 设置交叉检验的次数\n",
    "model_svr = SVR(C=6.732,gamma=0.153,epsilon=0.016296)  # 建立支持向量机回归模型对象 ,gamma=0.153,epsilon=0.022\n",
    "model_names = [ 'SVR']  # 不同模型的名称列表\n",
    "model_dic = [ model_svr]  # 不同回归模型对象的集合\n",
    "cv_score_list = []  # 交叉检验结果列表\n",
    "pre_y_list = []  # 各个回归模型预测的y值列表\n",
    "for model in model_dic:  # 读出每个回归模型对象\n",
    "    scores = cross_val_score(model, X_train, y_train, cv=n_folds)  # 将每个回归模型导入交叉检验模型中做训练检验\n",
    "    cv_score_list.append(scores)  # 将交叉检验结果存入结果列表\n",
    "    pre_y_list.append(model.fit(X_train, y_train).predict(X_train))  # 将回归训练中得到的预测y存入列表\n",
    "print(model_svr)\n",
    "joblib.dump(model_svr, 'SVM_Mag.pkl')  # 保存完整模型\n",
    "\n",
    "# 模型效果指标评估\n",
    "n_samples, n_features = X_train.shape  # 总样本量506,总特征数13\n",
    "#print(n_samples, n_features)\n",
    "model_metrics_name = [explained_variance_score, mean_absolute_error, mean_squared_error, r2_score]  # 回归评估指标对象集\n",
    "model_metrics_list = []  # 回归评估指标列表\n",
    "for i in range(1):  # 循环每个模型索引\n",
    "    tmp_list = []  # 每个内循环的临时结果列表\n",
    "    for m in model_metrics_name:  # 循环每个指标对象\n",
    "        tmp_score = m(y_train, pre_y_list[i])  # 计算每个回归指标结果\n",
    "        tmp_list.append(tmp_score)  # 将结果存入每个内循环的临时结果列表\n",
    "    model_metrics_list.append(tmp_list)  # 将结果存入回归评估指标列表\n",
    "df1 = pd.DataFrame(cv_score_list, index=model_names)  # 建立交叉检验的数据框\n",
    "df2 = pd.DataFrame(model_metrics_list, index=model_names, columns=['ev', 'mae', 'mse', 'r2'])  # 建立回归指标的数据框\n",
    "#print ('samples: %d \\t features: %d' % (n_samples, n_features))  # 打印输出样本量和特征数量\n",
    "print (70 * '-')  # 打印分隔线\n",
    "print ('cross validation result:')  # 打印输出标题\n",
    "print (df1)  # 打印输出交叉检验的数据框\n",
    "print (70 * '-')  # 打印分隔线\n",
    "print ('regression metrics:')  # 打印输出标题\n",
    "print (df2)  # 打印输出回归指标的数据框\n",
    "print (70 * '-')  # 打印分隔线\n",
    "print ('short name \\t full name')  # 打印输出缩写和全名标题\n",
    "print ('ev \\t explained_variance')\n",
    "print ('mae \\t mean_absolute_error')\n",
    "print ('mse \\t mean_squared_error')\n",
    "print ('r2 \\t r2')\n",
    "print (70 * '-')  # 打印分隔线\n",
    "      \n",
    "\n",
    "train_prediction=pre_y_list[i]\n",
    "print(\"训练标准差STD=\",np.std(train_prediction-y_train))\n",
    "print(\"训练误差均值MEAN=\",np.mean(train_prediction-y_train))\n",
    "print(\"训练平均绝对误差MAE=\",metrics.mean_absolute_error(train_prediction, y_train))\n",
    "print(\"训练RMSE=\",metrics.mean_squared_error(train_prediction, y_train)**0.5)\n",
    "print(\"训练MAPE=\",np.mean(np.abs((y_train - train_prediction) / y_train)) * 100)\n",
    "print(\"训练r2 score:\", r2_score(y_train.ravel(), train_prediction))"
   ]
  },
  {
   "cell_type": "code",
   "execution_count": 5,
   "metadata": {},
   "outputs": [
    {
     "name": "stdout",
     "output_type": "stream",
     "text": [
      "Dual coefficients (alpha_i * y_i): [[-2.68656361 -6.732      -6.732      ...  6.732      -6.732\n",
      "   1.60923822]]\n",
      "Support vectors: [[1.59183630e-02 6.31928780e-02 1.28865615e+00 ... 1.57433098e-01\n",
      "  3.08113660e-01 1.06980095e+00]\n",
      " [7.70024000e-04 3.68946400e-03 7.59707120e-02 ... 1.69080227e-01\n",
      "  3.05138477e-01 1.30721834e+00]\n",
      " [2.41554400e-03 9.98891300e-03 2.13842550e-01 ... 2.89345305e-01\n",
      "  2.93497205e-01 1.10163900e+00]\n",
      " ...\n",
      " [1.37364990e-02 2.70475300e-02 2.20742807e-01 ... 3.35635550e+00\n",
      "  7.69876242e-01 2.31635680e+00]\n",
      " [1.76111200e-03 9.12709200e-03 1.68156820e-01 ... 3.60820212e-01\n",
      "  3.41034117e-01 1.12750366e+00]\n",
      " [1.20055940e-02 2.47069310e-02 1.29721595e-01 ... 3.51996503e+00\n",
      "  1.19670303e+00 2.29167481e+00]]\n",
      "Number of support vectors: 44042\n",
      "Number of features: 13\n",
      "Total parameters: 616589\n"
     ]
    }
   ],
   "source": [
    "# 支持向量的系数（dual_coef_）\n",
    "print(\"Dual coefficients (alpha_i * y_i):\", model_svr.dual_coef_)\n",
    "# 支持向量\n",
    "print(\"Support vectors:\", model_svr.support_vectors_)\n",
    "\n",
    "# 2. 获取参数量\n",
    "n_support_vectors = model_svr.support_vectors_.shape[0]\n",
    "n_features = model_svr.support_vectors_.shape[1]\n",
    "total_params = n_support_vectors * (n_features + 1) + 1  # 支持向量 + dual_coef + 偏置项\n",
    " \n",
    "print(\"Number of support vectors:\", n_support_vectors)\n",
    "print(\"Number of features:\", n_features)\n",
    "print(\"Total parameters:\", total_params)"
   ]
  },
  {
   "cell_type": "code",
   "execution_count": 6,
   "metadata": {},
   "outputs": [
    {
     "name": "stdout",
     "output_type": "stream",
     "text": [
      "Model size (MB): 4.873309135437012\n"
     ]
    }
   ],
   "source": [
    "import pickle\n",
    "import os\n",
    "# 序列化模型并计算大小\n",
    "with open('model.pkl', 'wb') as f:\n",
    "    pickle.dump(model_svr, f)\n",
    "size_mb = os.path.getsize('model.pkl') / 1024**2\n",
    "print(\"Model size (MB):\", size_mb)\n",
    "os.remove('model.pkl')  # 清理临时文件"
   ]
  },
  {
   "cell_type": "code",
   "execution_count": 7,
   "metadata": {},
   "outputs": [
    {
     "data": {
      "image/png": "[encoded data removed]",
      "text/plain": [
       "<Figure size 360x360 with 1 Axes>"
      ]
     },
     "metadata": {
      "needs_background": "light"
     },
     "output_type": "display_data"
    }
   ],
   "source": [
    "#训练结果\n",
    "plt.figure(figsize=(5, 5))\n",
    "plt.axis('equal')\n",
    "\n",
    "x3 = np.arange(2.5, 8.9, 0.01)\n",
    "y3=x3\n",
    "plt.plot(x3, y3, \"black\")\n",
    "\n",
    "plt.plot(y_train,train_prediction,'.')\n",
    "plt.xlim(2.5, 8.9)\n",
    "plt.ylim(2.5, 8.9)\n",
    "plt.show()"
   ]
  },
  {
   "cell_type": "code",
   "execution_count": 22,
   "metadata": {},
   "outputs": [],
   "source": [
    "test_data = pd.read_csv(open(r'\\SVM-Mag test.csv',encoding='UTF-8'))\n",
    "X_test = test_data.iloc[:, [0,1,2,3,4,5,6,7,8,9,10,11,12]].values\n",
    "y_test = test_data.iloc[:, 13].values    #导入数据  iloc通过行号获取行数据"
   ]
  },
  {
   "cell_type": "code",
   "execution_count": 23,
   "metadata": {},
   "outputs": [
    {
     "name": "stdout",
     "output_type": "stream",
     "text": [
      "Elapsed time: 1.57 ms\n"
     ]
    }
   ],
   "source": [
    "X_test=X_test[1,:].reshape(1, -1)\n",
    "y_test=y_test[1]\n",
    "\n",
    "import time\n",
    "start_time = time.perf_counter()  # 记录开始时间\n",
    "zhenli_prediction=model_svr.predict(X_test)\n",
    "end_time = time.perf_counter()  # 记录结束时间\n",
    "elapsed_time_ms = (end_time - start_time) * 1000  # 转换为毫秒\n",
    "print(f\"Elapsed time: {elapsed_time_ms:.2f} ms\")"
   ]
  },
  {
   "cell_type": "code",
   "execution_count": 8,
   "metadata": {},
   "outputs": [],
   "source": [
    "#震例\n",
    "test_data = pd.read_csv(open(r'\\SVM-Mag test.csv',encoding='UTF-8'))\n",
    "X_test = test_data.iloc[:, [0,1,2,3,4,5,6,7,8,9,10,11,12]].values\n",
    "y_zhenli1 = test_data.iloc[:, 13].values    #导入数据  iloc通过行号获取行数据"
   ]
  },
  {
   "cell_type": "code",
   "execution_count": 9,
   "metadata": {},
   "outputs": [],
   "source": [
    "zhenli_prediction=model_svr.predict(X_test)"
   ]
  },
  {
   "cell_type": "code",
   "execution_count": 10,
   "metadata": {},
   "outputs": [
    {
     "name": "stdout",
     "output_type": "stream",
     "text": [
      "测试标准差STD= 0.4209963481701144\n",
      "测试误差均值MEAN= -0.05886039169219447\n",
      "测试平均绝对误差MAE= 0.311850408288545\n",
      "测试RMSE= 0.4250911324442451\n",
      "测试MAPE= 7.108653905237762\n",
      "测试r2 score: 0.8121532086080465\n"
     ]
    }
   ],
   "source": [
    "from sklearn import metrics\n",
    "from sklearn.metrics import r2_score\n",
    "#print(len(y_zhenli1-zhenli_prediction))\n",
    "\n",
    "print(\"测试标准差STD=\",np.std(zhenli_prediction-y_zhenli1))\n",
    "print(\"测试误差均值MEAN=\",np.mean(zhenli_prediction-y_zhenli1))\n",
    "print(\"测试平均绝对误差MAE=\",metrics.mean_absolute_error(zhenli_prediction, y_zhenli1))\n",
    "print(\"测试RMSE=\",metrics.mean_squared_error(zhenli_prediction, y_zhenli1)**0.5)\n",
    "print(\"测试MAPE=\",np.mean(np.abs((y_zhenli1 - zhenli_prediction) / y_zhenli1)) * 100)\n",
    "print(\"测试r2 score:\", r2_score(y_zhenli1.ravel(), zhenli_prediction))"
   ]
  },
  {
   "cell_type": "code",
   "execution_count": 11,
   "metadata": {},
   "outputs": [
    {
     "data": {
      "image/png": "[encoded data removed]",
      "text/plain": [
       "<Figure size 360x360 with 1 Axes>"
      ]
     },
     "metadata": {
      "needs_background": "light"
     },
     "output_type": "display_data"
    }
   ],
   "source": [
    "#测试结果\n",
    "plt.figure(figsize=(5, 5))\n",
    "plt.axis('equal')\n",
    "\n",
    "x3 = np.arange(2.5, 8.9, 0.01)\n",
    "y3=x3\n",
    "plt.plot(x3, y3, \"black\")\n",
    "\n",
    "plt.plot(y_zhenli1,zhenli_prediction,'.')\n",
    "plt.xlim(2.5, 8.9)\n",
    "plt.ylim(2.5, 8.9)\n",
    "plt.show()"
   ]
  },
  {
   "cell_type": "markdown",
   "metadata": {},
   "source": [
    "# Test on the Chinese strong-ground motion data"
   ]
  },
  {
   "cell_type": "code",
   "execution_count": 12,
   "metadata": {},
   "outputs": [],
   "source": [
    "#中国地区应用\n",
    "test_data_CH = pd.read_csv(open(r'\\SVM-Mag test in China.csv',encoding='UTF-8'))\n",
    "X_test_CH = test_data_CH.iloc[:, [0,1,2,3,4,5,6,7,8,9,10,11,12]].values\n",
    "y_zhenli1_CH = test_data_CH.iloc[:, 13].values    #导入数据  iloc通过行号获取行数据"
   ]
  },
  {
   "cell_type": "code",
   "execution_count": 13,
   "metadata": {},
   "outputs": [],
   "source": [
    "zhenli_prediction_CH=model_svr.predict(X_test_CH)"
   ]
  },
  {
   "cell_type": "code",
   "execution_count": 14,
   "metadata": {},
   "outputs": [
    {
     "name": "stdout",
     "output_type": "stream",
     "text": [
      "测试标准差STD= 0.604311964904095\n",
      "测试误差均值MEAN= 0.45424712907036746\n",
      "测试平均绝对误差MAE= 0.6102076724260408\n",
      "测试RMSE= 0.7559982838571258\n",
      "测试MAPE= 14.445923448370968\n",
      "测试r2 score: 0.10744931485397313\n"
     ]
    }
   ],
   "source": [
    "from sklearn import metrics\n",
    "from sklearn.metrics import r2_score\n",
    "#print(len(y_zhenli1_CH-zhenli_prediction_CH))\n",
    "\n",
    "print(\"测试标准差STD=\",np.std(zhenli_prediction_CH-y_zhenli1_CH))\n",
    "print(\"测试误差均值MEAN=\",np.mean(zhenli_prediction_CH-y_zhenli1_CH))\n",
    "print(\"测试平均绝对误差MAE=\",metrics.mean_absolute_error(zhenli_prediction_CH, y_zhenli1_CH))\n",
    "print(\"测试RMSE=\",metrics.mean_squared_error(zhenli_prediction_CH, y_zhenli1_CH)**0.5)\n",
    "print(\"测试MAPE=\",np.mean(np.abs((y_zhenli1_CH - zhenli_prediction_CH) / y_zhenli1_CH)) * 100)\n",
    "print(\"测试r2 score:\", r2_score(y_zhenli1_CH.ravel(), zhenli_prediction_CH))"
   ]
  },
  {
   "cell_type": "code",
   "execution_count": 15,
   "metadata": {},
   "outputs": [
    {
     "data": {
      "image/png": "[encoded data removed]",
      "text/plain": [
       "<Figure size 360x360 with 1 Axes>"
      ]
     },
     "metadata": {
      "needs_background": "light"
     },
     "output_type": "display_data"
    }
   ],
   "source": [
    "#测试结果\n",
    "plt.figure(figsize=(5, 5))\n",
    "plt.axis('equal')\n",
    "\n",
    "x3 = np.arange(2.5, 8.9, 0.01)\n",
    "y3=x3\n",
    "plt.plot(x3, y3, \"black\")\n",
    "\n",
    "plt.plot(y_zhenli1_CH,zhenli_prediction_CH,'.')\n",
    "plt.xlim(2.5, 8.9)\n",
    "plt.ylim(2.5, 8.9)\n",
    "plt.show()"
   ]
  },
  {
   "cell_type": "code",
   "execution_count": null,
   "metadata": {},
   "outputs": [],
   "source": []
  },
  {
   "cell_type": "code",
   "execution_count": null,
   "metadata": {},
   "outputs": [],
   "source": []
  },
  {
   "cell_type": "code",
   "execution_count": null,
   "metadata": {},
   "outputs": [],
   "source": []
  }
 ],
 "metadata": {
  "kernelspec": {
   "display_name": "Python 3",
   "language": "python",
   "name": "python3"
  },
  "language_info": {
   "codemirror_mode": {
    "name": "ipython",
    "version": 3
   },
   "file_extension": ".py",
   "mimetype": "text/x-python",
   "name": "python",
   "nbconvert_exporter": "python",
   "pygments_lexer": "ipython3",
   "version": "3.7.0"
  }
 },
 "nbformat": 4,
 "nbformat_minor": 2
}
