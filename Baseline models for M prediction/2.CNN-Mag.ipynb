{
 "cells": [
  {
   "cell_type": "markdown",
   "metadata": {},
   "source": [
    "# Import Library"
   ]
  },
  {
   "cell_type": "code",
   "execution_count": 1,
   "metadata": {},
   "outputs": [],
   "source": [
    "import numpy as np\n",
    "import pandas as pd\n",
    "from datetime import date, timedelta\n",
    "import os\n",
    "import random\n",
    "import matplotlib.pyplot as plt\n",
    "from tqdm import tqdm\n",
    "from scipy.stats import skew, kurtosis\n",
    "\n",
    "from sklearn.preprocessing import StandardScaler\n",
    "from sklearn.metrics import mean_squared_error\n",
    "from tensorflow.keras import layers,Sequential,losses,optimizers,datasets\n",
    "\n",
    "import tensorflow as tf\n",
    "from tensorflow import keras\n",
    "from tensorflow.keras.layers import *\n",
    "from tensorflow.keras.models import *\n",
    "from tensorflow.keras.optimizers import *\n",
    "from tensorflow.keras.callbacks import *\n",
    "from tensorflow.keras import backend as K\n",
    "\n",
    "def setup_seed(seed):\n",
    "    random.seed(seed)  # 为python设置随机种子\n",
    "    np.random.seed(seed)  # 为numpy设置随机种子\n",
    "    tf.random.set_seed(seed)  # tf cpu fix seed\n",
    "    os.environ['TF_DETERMINISTIC_OPS'] = '1'  # tf gpu fix seed, please `pip install tensorflow-determinism` first\n",
    "\n",
    "setup_seed(2020)\n",
    "\n",
    "\n",
    "seed = 2020\n",
    "random.seed = 2020\n",
    "np.random.seed = 2020\n",
    "tf.seed = 2020\n",
    "tf.random.set_seed(2020)"
   ]
  },
  {
   "cell_type": "markdown",
   "metadata": {},
   "source": [
    "# Data processing"
   ]
  },
  {
   "cell_type": "code",
   "execution_count": 2,
   "metadata": {},
   "outputs": [],
   "source": [
    "import scipy.io as scio\n",
    "import pandas as pd\n",
    "\n",
    "#input\n",
    "feature1 = r'\\Training dataset\\ACC_UD.mat'\n",
    "data1 = scio.loadmat(feature1)\n",
    "AA=data1['ACC_UD']\n",
    "A=AA[:,0:300]\n",
    "\n",
    "feature2 = r'\\Training dataset\\ACC_EW.mat'\n",
    "data2 = scio.loadmat(feature2)\n",
    "BB=data2['ACC_EW']\n",
    "B=BB[:,0:300]\n",
    "\n",
    "feature3 = r'\\Training dataset\\ACC_NS.mat'\n",
    "data3 = scio.loadmat(feature3)\n",
    "CC=data3['ACC_NS']\n",
    "C=CC[:,0:300]\n",
    "\n",
    "\n",
    "\n",
    "\n",
    "label = pd.read_csv(open(r'\\Training dataset\\lable.csv',encoding='UTF-8'))\n"
   ]
  },
  {
   "cell_type": "code",
   "execution_count": 3,
   "metadata": {},
   "outputs": [],
   "source": [
    "raw_data1=np.hstack((A,B))\n",
    "train_xx=np.hstack((raw_data1,C))\n",
    "\n",
    "\n",
    "#print(train_xx.shape)\n",
    "\n",
    "\n",
    "y_data=label.iloc[:,[1,3]].values  #知识嵌入\n",
    "#y_data=label.iloc[:,[12]].values    #导入数据  iloc通过行号获取行数据\n",
    "#print(y_data[0])\n",
    "#print(y_data.shape)"
   ]
  },
  {
   "cell_type": "code",
   "execution_count": 4,
   "metadata": {},
   "outputs": [],
   "source": [
    "train_y=y_data[:,[1]] #y_train_lable\n",
    "dis_train=y_data[:,[0]] #train_site_distance\n",
    "\n",
    "\n",
    "#print(train_y.shape)\n",
    "#print(dis_train.shape)\n",
    "\n"
   ]
  },
  {
   "cell_type": "code",
   "execution_count": 5,
   "metadata": {},
   "outputs": [],
   "source": [
    "train_x=[]\n",
    "for i in range(len(train_xx)):\n",
    "    train_x.append(np.array(train_xx[i].reshape(3,1,300)).T)"
   ]
  },
  {
   "cell_type": "code",
   "execution_count": 6,
   "metadata": {},
   "outputs": [],
   "source": [
    "train_dis=[]\n",
    "for i in range(len(dis_train)):\n",
    "    train_dis.append(np.array(dis_train[i].reshape(1,1,1)).T)"
   ]
  },
  {
   "cell_type": "code",
   "execution_count": 7,
   "metadata": {},
   "outputs": [],
   "source": [
    "train_x=np.array(train_x)\n",
    "train_dis=np.array(train_dis)\n",
    "#test_x=np.array(test_x)"
   ]
  },
  {
   "cell_type": "code",
   "execution_count": 8,
   "metadata": {},
   "outputs": [],
   "source": [
    "#3#  ##Reshaping\n",
    "train_x = np.reshape(train_x, (train_x.shape[0], 300, 3))\n",
    "train_dis = np.reshape(train_dis, (train_dis.shape[0], 1, 1))\n",
    "#test_x = np.reshape(test_x, (test_x.shape[0], 300, 9))\n",
    "#print(\"0\",train_x.shape[0])\n",
    "#print(\"1\",train_x.shape[1])\n",
    "#print(train_x.shape)\n",
    "#print(train_x)"
   ]
  },
  {
   "cell_type": "markdown",
   "metadata": {},
   "source": [
    "# CNN-Mag architecture, training and testing"
   ]
  },
  {
   "cell_type": "code",
   "execution_count": 9,
   "metadata": {},
   "outputs": [],
   "source": [
    "def LocalEncoder(x):\n",
    "\n",
    "\n",
    "    e = tf.keras.layers.Conv1D(16,kernel_size=2,strides=1,    #  2第一个卷积层, 124个 4x4 卷积核  2020   10 0.251 \n",
    "                  kernel_initializer=keras.initializers.TruncatedNormal(mean=0.0, stddev=0.05, seed=2020),\\\n",
    "                  bias_initializer=keras.initializers.Zeros(),\\\n",
    "                  input_shape = (300,9),padding=\"same\")(x) \n",
    "    e = tf.keras.layers.ReLU()(e) # 激活函数ReLU \n",
    "    e = tf.keras.layers.BatchNormalization()(e) \n",
    "    e = tf.keras.layers.MaxPooling1D(pool_size=2,strides=2,padding=\"same\")(e) # 高宽各减半的池化层  pool_size=2\n",
    "\n",
    "\n",
    "    e = tf.keras.layers.Conv1D(32,kernel_size=2,strides=1,   # 第二个卷积层, 32 个 4x4 卷积核     50 0.329\n",
    "                  kernel_initializer=keras.initializers.TruncatedNormal(mean=0.0, stddev=0.05, seed=2020),\\\n",
    "                  bias_initializer=keras.initializers.Zeros(),\\\n",
    "                  padding=\"same\")(e) \n",
    "    e = tf.keras.layers.ReLU()(e) # 激活函数ReLU \n",
    "    e = tf.keras.layers.MaxPooling1D(pool_size=2,strides=2,padding=\"same\")(e) # 高宽各减半的池化层  pool_size=2\n",
    "    \n",
    "    e = tf.keras.layers.Conv1D(64,kernel_size=2,strides=1,   # 第二个卷积层, 32 个 4x4 卷积核     50 0.329\n",
    "                  kernel_initializer=keras.initializers.TruncatedNormal(mean=0.0, stddev=0.05, seed=2020),\\\n",
    "                  bias_initializer=keras.initializers.Zeros(),\\\n",
    "                  padding=\"same\")(e) \n",
    "    e = tf.keras.layers.ReLU()(e) # 激活函数ReLU \n",
    "    e = tf.keras.layers.MaxPooling1D(pool_size=2,strides=2,padding=\"same\")(e) # 高宽各减半的池化层  pool_size=2\n",
    "    \n",
    "    e = tf.keras.layers.Conv1D(128,kernel_size=2,strides=1,   # 第二个卷积层, 32 个 4x4 卷积核     50 0.329\n",
    "                  kernel_initializer=keras.initializers.TruncatedNormal(mean=0.0, stddev=0.05, seed=2020),\\\n",
    "                  bias_initializer=keras.initializers.Zeros(),\\\n",
    "                  padding=\"same\")(e) \n",
    "    e = tf.keras.layers.ReLU()(e) # 激活函数ReLU \n",
    "    e = tf.keras.layers.MaxPooling1D(pool_size=2,strides=2,padding=\"same\")(e) # 高宽各减半的池化层  pool_size=2\n",
    "    \n",
    "    \n",
    "    e = tf.keras.layers.Conv1D(256,kernel_size=2,strides=1,   # 第二个卷积层, 32 个 4x4 卷积核     50 0.329\n",
    "                  kernel_initializer=keras.initializers.TruncatedNormal(mean=0.0, stddev=0.05, seed=2020),\\\n",
    "                  bias_initializer=keras.initializers.Zeros(),\\\n",
    "                  padding=\"same\")(e) \n",
    "    e = tf.keras.layers.ReLU()(e) # 激活函数ReLU \n",
    "    e = tf.keras.layers.MaxPooling1D(pool_size=2,strides=2,padding=\"same\")(e) # 高宽各减半的池化层  pool_size=2\n",
    "    \n",
    "\n",
    "    e = tf.keras.layers.Conv1D(512,kernel_size=2,strides=1,   # 第二个卷积层, 32 个 4x4 卷积核     50 0.329\n",
    "                  kernel_initializer=keras.initializers.TruncatedNormal(mean=0.0, stddev=0.05, seed=2020),\\\n",
    "                  bias_initializer=keras.initializers.Zeros(),\\\n",
    "                  padding=\"same\")(e) \n",
    "    e = tf.keras.layers.ReLU()(e) # 激活函数ReLU\n",
    "    e = tf.keras.layers.MaxPooling1D(pool_size=2,strides=2,padding=\"same\")(e) # 高宽各减半的池化层  pool_size=2\n",
    "    \n",
    "    \n",
    "    e = tf.keras.layers.Conv1D(1024,kernel_size=2,strides=1,   # 第二个卷积层, 32 个 4x4 卷积核     50 0.329\n",
    "                  kernel_initializer=keras.initializers.TruncatedNormal(mean=0.0, stddev=0.05, seed=2020),\\\n",
    "                  bias_initializer=keras.initializers.Zeros(),\\\n",
    "                  padding=\"same\")(e) \n",
    "    e = tf.keras.layers.ReLU()(e) # 激活函数ReLU\n",
    "    e = tf.keras.layers.MaxPooling1D(pool_size=2,strides=2,padding=\"same\")(e) # 高宽各减半的池化层  pool_size=2\n",
    "    \n",
    "    e = tf.keras.layers.Conv1D(2048,kernel_size=2,strides=1,   # 第二个卷积层, 32 个 4x4 卷积核     50 0.329\n",
    "                  kernel_initializer=keras.initializers.TruncatedNormal(mean=0.0, stddev=0.05, seed=2020),\\\n",
    "                  bias_initializer=keras.initializers.Zeros(),\\\n",
    "                  padding=\"same\")(e) \n",
    "    e = tf.keras.layers.ReLU()(e) # 激活函数ReLU  \n",
    "    e = tf.keras.layers.MaxPooling1D(pool_size=2,strides=2,padding=\"same\")(e) # 高宽各减半的池化层  pool_size=2\n",
    "    \n",
    "    \n",
    "    return e\n",
    "    \n",
    "    "
   ]
  },
  {
   "cell_type": "code",
   "execution_count": 10,
   "metadata": {},
   "outputs": [],
   "source": [
    "seed=50\n",
    "#50 17.20 1.32\n",
    "drop_rate = 0.2\n",
    "def get_model():\n",
    "\n",
    "    inp1 = Input(shape=(300, 3), name='input_layer') \n",
    "\n",
    "    x1 = LocalEncoder(inp1)\n",
    "\n",
    "\n",
    "    e = tf.keras.layers.Flatten()(x1) # 打平层，方便全连接层处理 \n",
    "\n",
    "    e = layers.Dropout(rate=0.5)(e) #0.458\n",
    "    e = tf.keras.layers.Dense(512,activation='relu')(e) # 全连接层，14节点  0.340 \n",
    "    e = tf.keras.layers.Dense(256,activation='relu')(e) # 全连接层，14节点  0.340 \n",
    "    e = tf.keras.layers.Dense(128,activation='relu')(e) # 全连接层，14节点  0.340 \n",
    "    e = tf.keras.layers.Dense(64,activation='relu')(e) # 全连接层，14节点  0.340 \n",
    "    e = tf.keras.layers.Dense(32,activation='relu')(e) # 全连接层，14节点  0.340 \n",
    "    o = tf.keras.layers.Dense(1)(e) # 全连接层，10 个节点 \n",
    "    \n",
    "    \n",
    "\n",
    "    rms = optimizers.Adam(lr=0.001, beta_1=0.9, beta_2=0.999, epsilon=1e-08)\n",
    "    model = Model(inp1, o)\n",
    "    model.compile(optimizer = rms, loss = 'mean_squared_error')\n",
    "\n",
    "    return model"
   ]
  },
  {
   "cell_type": "code",
   "execution_count": 11,
   "metadata": {},
   "outputs": [
    {
     "name": "stdout",
     "output_type": "stream",
     "text": [
      "Model: \"functional_1\"\n",
      "_________________________________________________________________\n",
      "Layer (type)                 Output Shape              Param #   \n",
      "=================================================================\n",
      "input_layer (InputLayer)     [(None, 300, 3)]          0         \n",
      "_________________________________________________________________\n",
      "conv1d (Conv1D)              (None, 300, 16)           112       \n",
      "_________________________________________________________________\n",
      "re_lu (ReLU)                 (None, 300, 16)           0         \n",
      "_________________________________________________________________\n",
      "batch_normalization (BatchNo (None, 300, 16)           64        \n",
      "_________________________________________________________________\n",
      "max_pooling1d (MaxPooling1D) (None, 150, 16)           0         \n",
      "_________________________________________________________________\n",
      "conv1d_1 (Conv1D)            (None, 150, 32)           1056      \n",
      "_________________________________________________________________\n",
      "re_lu_1 (ReLU)               (None, 150, 32)           0         \n",
      "_________________________________________________________________\n",
      "max_pooling1d_1 (MaxPooling1 (None, 75, 32)            0         \n",
      "_________________________________________________________________\n",
      "conv1d_2 (Conv1D)            (None, 75, 64)            4160      \n",
      "_________________________________________________________________\n",
      "re_lu_2 (ReLU)               (None, 75, 64)            0         \n",
      "_________________________________________________________________\n",
      "max_pooling1d_2 (MaxPooling1 (None, 38, 64)            0         \n",
      "_________________________________________________________________\n",
      "conv1d_3 (Conv1D)            (None, 38, 128)           16512     \n",
      "_________________________________________________________________\n",
      "re_lu_3 (ReLU)               (None, 38, 128)           0         \n",
      "_________________________________________________________________\n",
      "max_pooling1d_3 (MaxPooling1 (None, 19, 128)           0         \n",
      "_________________________________________________________________\n",
      "conv1d_4 (Conv1D)            (None, 19, 256)           65792     \n",
      "_________________________________________________________________\n",
      "re_lu_4 (ReLU)               (None, 19, 256)           0         \n",
      "_________________________________________________________________\n",
      "max_pooling1d_4 (MaxPooling1 (None, 10, 256)           0         \n",
      "_________________________________________________________________\n",
      "conv1d_5 (Conv1D)            (None, 10, 512)           262656    \n",
      "_________________________________________________________________\n",
      "re_lu_5 (ReLU)               (None, 10, 512)           0         \n",
      "_________________________________________________________________\n",
      "max_pooling1d_5 (MaxPooling1 (None, 5, 512)            0         \n",
      "_________________________________________________________________\n",
      "conv1d_6 (Conv1D)            (None, 5, 1024)           1049600   \n",
      "_________________________________________________________________\n",
      "re_lu_6 (ReLU)               (None, 5, 1024)           0         \n",
      "_________________________________________________________________\n",
      "max_pooling1d_6 (MaxPooling1 (None, 3, 1024)           0         \n",
      "_________________________________________________________________\n",
      "conv1d_7 (Conv1D)            (None, 3, 2048)           4196352   \n",
      "_________________________________________________________________\n",
      "re_lu_7 (ReLU)               (None, 3, 2048)           0         \n",
      "_________________________________________________________________\n",
      "max_pooling1d_7 (MaxPooling1 (None, 2, 2048)           0         \n",
      "_________________________________________________________________\n",
      "flatten (Flatten)            (None, 4096)              0         \n",
      "_________________________________________________________________\n",
      "dropout (Dropout)            (None, 4096)              0         \n",
      "_________________________________________________________________\n",
      "dense (Dense)                (None, 512)               2097664   \n",
      "_________________________________________________________________\n",
      "dense_1 (Dense)              (None, 256)               131328    \n",
      "_________________________________________________________________\n",
      "dense_2 (Dense)              (None, 128)               32896     \n",
      "_________________________________________________________________\n",
      "dense_3 (Dense)              (None, 64)                8256      \n",
      "_________________________________________________________________\n",
      "dense_4 (Dense)              (None, 32)                2080      \n",
      "_________________________________________________________________\n",
      "dense_5 (Dense)              (None, 1)                 33        \n",
      "=================================================================\n",
      "Total params: 7,868,561\n",
      "Trainable params: 7,868,529\n",
      "Non-trainable params: 32\n",
      "_________________________________________________________________\n"
     ]
    }
   ],
   "source": [
    "model = get_model()\n",
    "model.summary() "
   ]
  },
  {
   "cell_type": "code",
   "execution_count": 12,
   "metadata": {},
   "outputs": [
    {
     "name": "stdout",
     "output_type": "stream",
     "text": [
      "Epoch 1/300\n",
      "  2/162 [..............................] - ETA: 5s - loss: 19.4752WARNING:tensorflow:Callbacks method `on_train_batch_end` is slow compared to the batch time (batch time: 0.0250s vs `on_train_batch_end` time: 0.0388s). Check your callbacks.\n",
      "162/162 [==============================] - 16s 100ms/step - loss: 1.6060 - val_loss: 0.8811\n",
      "Epoch 2/300\n",
      "162/162 [==============================] - 16s 98ms/step - loss: 0.5266 - val_loss: 0.5961\n",
      "Epoch 3/300\n",
      "162/162 [==============================] - 16s 99ms/step - loss: 0.4443 - val_loss: 0.3833\n",
      "Epoch 4/300\n",
      "162/162 [==============================] - 16s 99ms/step - loss: 0.3922 - val_loss: 0.3706\n",
      "Epoch 5/300\n",
      "162/162 [==============================] - 16s 99ms/step - loss: 0.3325 - val_loss: 0.2590\n",
      "Epoch 6/300\n",
      "162/162 [==============================] - 16s 99ms/step - loss: 0.3049 - val_loss: 0.3115\n",
      "Epoch 7/300\n",
      "162/162 [==============================] - 16s 100ms/step - loss: 0.2895 - val_loss: 0.3506\n",
      "Epoch 8/300\n",
      "162/162 [==============================] - 16s 99ms/step - loss: 0.2703 - val_loss: 0.2997\n",
      "Epoch 9/300\n",
      "162/162 [==============================] - 16s 99ms/step - loss: 0.2555 - val_loss: 0.2619\n",
      "Epoch 10/300\n",
      "162/162 [==============================] - 16s 99ms/step - loss: 0.2489 - val_loss: 0.2775\n",
      "Epoch 11/300\n",
      "162/162 [==============================] - 16s 99ms/step - loss: 0.2025 - val_loss: 0.2098\n",
      "Epoch 12/300\n",
      "162/162 [==============================] - 16s 99ms/step - loss: 0.1919 - val_loss: 0.2155\n",
      "Epoch 13/300\n",
      "162/162 [==============================] - 16s 99ms/step - loss: 0.1901 - val_loss: 0.2118\n",
      "Epoch 14/300\n",
      "162/162 [==============================] - 16s 99ms/step - loss: 0.1878 - val_loss: 0.1990\n",
      "Epoch 15/300\n",
      "162/162 [==============================] - 16s 99ms/step - loss: 0.1843 - val_loss: 0.2055\n",
      "Epoch 16/300\n",
      "162/162 [==============================] - 16s 99ms/step - loss: 0.1817 - val_loss: 0.1978\n",
      "Epoch 17/300\n",
      "162/162 [==============================] - 16s 99ms/step - loss: 0.1807 - val_loss: 0.2045\n",
      "Epoch 18/300\n",
      "162/162 [==============================] - 16s 99ms/step - loss: 0.1794 - val_loss: 0.2029\n",
      "Epoch 19/300\n",
      "162/162 [==============================] - 16s 99ms/step - loss: 0.1749 - val_loss: 0.2049\n",
      "Epoch 20/300\n",
      "162/162 [==============================] - 16s 99ms/step - loss: 0.1736 - val_loss: 0.2027\n",
      "Epoch 21/300\n",
      "162/162 [==============================] - 16s 99ms/step - loss: 0.1703 - val_loss: 0.2040\n",
      "Epoch 22/300\n",
      "162/162 [==============================] - 16s 99ms/step - loss: 0.1637 - val_loss: 0.2010\n",
      "Epoch 23/300\n",
      "162/162 [==============================] - 16s 99ms/step - loss: 0.1615 - val_loss: 0.2047\n",
      "Epoch 24/300\n",
      "162/162 [==============================] - 16s 99ms/step - loss: 0.1627 - val_loss: 0.1966\n",
      "Epoch 25/300\n",
      "162/162 [==============================] - 16s 99ms/step - loss: 0.1617 - val_loss: 0.1984\n",
      "Epoch 26/300\n",
      "162/162 [==============================] - 16s 99ms/step - loss: 0.1620 - val_loss: 0.2064\n",
      "Epoch 27/300\n",
      "162/162 [==============================] - 16s 99ms/step - loss: 0.1625 - val_loss: 0.1995\n",
      "Epoch 28/300\n",
      "162/162 [==============================] - 16s 99ms/step - loss: 0.1617 - val_loss: 0.2030\n",
      "Epoch 29/300\n",
      "162/162 [==============================] - 16s 99ms/step - loss: 0.1600 - val_loss: 0.2043\n",
      "Epoch 30/300\n",
      "162/162 [==============================] - 16s 99ms/step - loss: 0.1597 - val_loss: 0.2000\n",
      "Epoch 31/300\n",
      "162/162 [==============================] - 16s 99ms/step - loss: 0.1586 - val_loss: 0.1999\n",
      "Epoch 32/300\n",
      "162/162 [==============================] - 16s 99ms/step - loss: 0.1598 - val_loss: 0.2003\n",
      "Epoch 33/300\n",
      "162/162 [==============================] - 16s 99ms/step - loss: 0.1601 - val_loss: 0.2008\n",
      "Epoch 34/300\n",
      "162/162 [==============================] - 16s 99ms/step - loss: 0.1607 - val_loss: 0.2014\n"
     ]
    }
   ],
   "source": [
    "from keras.callbacks import EarlyStopping\n",
    "from keras.callbacks import ReduceLROnPlateau\n",
    "lr_reducer = ReduceLROnPlateau(monitor=\"val_loss\",\n",
    "                               factor=0.1,\n",
    "                                cooldown= 0,\n",
    "                                patience= 5,\n",
    "                                min_lr=0.1e-7)\n",
    "early_stopping_monitor = EarlyStopping(monitor= 'val_loss', patience = 10) #10  17.20 1.32\n",
    "callbacks = [lr_reducer, early_stopping_monitor]\n",
    "\n",
    "\n",
    "\n",
    "\n",
    "model = get_model()\n",
    "model.fit(train_x, train_y, epochs=300, batch_size=256,  \n",
    "            validation_split=0.1, callbacks=callbacks)  #256 ,train_physics  ,test_physics ,train_physics\n",
    "\n",
    "pred_train_all = model.predict(train_x).ravel()\n",
    "#pred_test_all = model.predict(test_x).ravel()  ##ravel() 转换成1列\n",
    "\n",
    "\n",
    "#pred_valid_all = scaler_seq.inverse_transform(pred_valid_all)\n",
    "#reverse_valid = scaler_seq.inverse_transform(y_valid)\n",
    "#pred_test_all = scaler_seq.inverse_transform(pred_test_all)\n",
    "#reverse_test = scaler_seq.inverse_transform(y_test)"
   ]
  },
  {
   "cell_type": "code",
   "execution_count": 13,
   "metadata": {},
   "outputs": [],
   "source": [
    "# 保存权重（推荐方式）\n",
    "model.save_weights(\"CNN_Mag_weights.h5\")  # HDF5格式"
   ]
  },
  {
   "cell_type": "code",
   "execution_count": 14,
   "metadata": {},
   "outputs": [
    {
     "name": "stdout",
     "output_type": "stream",
     "text": [
      "Model size (MB): 30.016178131103516\n"
     ]
    }
   ],
   "source": [
    "def get_model_size_mb(model):\n",
    "    params = model.count_params()\n",
    "    # 假设所有参数为float32（4字节）\n",
    "    size_mb = params * 4 / 1024**2\n",
    "    return size_mb\n",
    " \n",
    "print(\"Model size (MB):\", get_model_size_mb(model))"
   ]
  },
  {
   "cell_type": "code",
   "execution_count": null,
   "metadata": {},
   "outputs": [],
   "source": []
  },
  {
   "cell_type": "code",
   "execution_count": 15,
   "metadata": {
    "scrolled": true
   },
   "outputs": [
    {
     "name": "stdout",
     "output_type": "stream",
     "text": [
      "训练标准差STD= 0.38938384283318533\n",
      "训练误差均值MEAN= -0.01640650017208292\n",
      "训练平均绝对误差MAE= 0.2859615057248036\n",
      "训练RMSE= 0.3897293295447949\n",
      "训练MAPE= 6.58238898879864\n",
      "训练r2 score: 0.851789060196693\n"
     ]
    },
    {
     "data": {
      "image/png": "[encoded data removed]",
      "text/plain": [
       "<Figure size 360x360 with 1 Axes>"
      ]
     },
     "metadata": {
      "needs_background": "light"
     },
     "output_type": "display_data"
    }
   ],
   "source": [
    "from sklearn import metrics\n",
    "from sklearn.metrics import r2_score\n",
    "print(\"训练标准差STD=\",np.std(pred_train_all-train_y.ravel()))\n",
    "print(\"训练误差均值MEAN=\",np.mean(pred_train_all-train_y.ravel()))\n",
    "print(\"训练平均绝对误差MAE=\",metrics.mean_absolute_error(pred_train_all, train_y.ravel()))\n",
    "print(\"训练RMSE=\",metrics.mean_squared_error(pred_train_all, train_y.ravel())**0.5)\n",
    "print(\"训练MAPE=\",np.mean(np.abs((train_y.ravel() - pred_train_all) / train_y.ravel())) * 100)\n",
    "print(\"训练r2 score:\", r2_score(train_y.ravel(), pred_train_all))\n",
    "\n",
    "\n",
    "plt.figure(figsize=(5, 5))\n",
    "plt.axis('equal')\n",
    "\n",
    "x3 = np.arange(2.5, 8, 0.01)\n",
    "y3=x3\n",
    "plt.plot(x3, y3, \"black\")\n",
    "plt.plot(train_y.ravel(),pred_train_all,'.')\n",
    "plt.xlim(2.5, 8)\n",
    "plt.ylim(2.5, 8)\n",
    "plt.show()"
   ]
  },
  {
   "cell_type": "code",
   "execution_count": 16,
   "metadata": {},
   "outputs": [],
   "source": [
    "#########################保存训练结果####################################\n",
    "pred_train_all=pred_train_all.reshape(pred_train_all.shape[0],1)\n",
    "\n",
    "#y_score_tr=y_score_tr.reshape(y_score_tr.shape[0],1)\n",
    "#print(pred_train_all.shape)\n",
    "#print(train_y.shape)\n",
    "\n",
    "tr_result=np.concatenate((train_y,pred_train_all),axis=1)\n",
    "\n",
    "#print(tr_result.shape)\n",
    "\n",
    "data_tr = pd.DataFrame(tr_result) #将数组转换为dataframe结构\n",
    "data_tr.columns=['True M','Pred M']\n",
    "writer_tr = pd.ExcelWriter(r'\\CNN-Mag\\magtrain.xls')   # 写入Excel文件\n",
    "\n",
    "data_tr.to_excel(writer_tr,float_format='%.5f',index=False)   ## ‘page_1’是写入excel的sheet名\n",
    "writer_tr.save()\n",
    "writer_tr.close()\n",
    "#########################保存训练结果####################################"
   ]
  },
  {
   "cell_type": "code",
   "execution_count": 17,
   "metadata": {},
   "outputs": [],
   "source": [
    "#震例\n",
    "import scipy.io as scio\n",
    "import pandas as pd\n",
    "\n",
    "#input\n",
    "feature1z = r'\\Test dataset\\ACC_UD.mat'\n",
    "data1z = scio.loadmat(feature1z)\n",
    "AAz=data1z['ACC_UD']\n",
    "Az=AAz[:,0:300]\n",
    "\n",
    "feature2z = r'\\Test dataset\\ACC_EW.mat'\n",
    "data2z = scio.loadmat(feature2z)\n",
    "BBz=data2z['ACC_EW']\n",
    "Bz=BBz[:,0:300]\n",
    "\n",
    "feature3z = r'\\Test dataset\\ACC_NS.mat'\n",
    "data3z = scio.loadmat(feature3z)\n",
    "CCz=data3z['ACC_NS']\n",
    "Cz=CCz[:,0:300]\n",
    "\n",
    "feature4z = r'\\Test dataset\\VEL_UD.mat'\n",
    "data4z = scio.loadmat(feature4z)\n",
    "DDz=data4z['VEL_UD']\n",
    "Dz=DDz[:,0:300]\n",
    "\n",
    "feature5z = r'\\Test dataset\\VEL_EW.mat'\n",
    "data5z = scio.loadmat(feature5z)\n",
    "EEz=data5z['VEL_EW']\n",
    "Ez=EEz[:,0:300]\n",
    "\n",
    "feature6z = r'\\Test dataset\\VEL_NS.mat'\n",
    "data6z = scio.loadmat(feature6z)\n",
    "FFz=data6z['VEL_NS']\n",
    "Fz=FFz[:,0:300]\n",
    "\n",
    "feature7z = r'\\Test dataset\\DIS_UD.mat'\n",
    "data7z = scio.loadmat(feature7z)\n",
    "GGz=data7z['DIS_UD']\n",
    "Gz=GGz[:,0:300]\n",
    "\n",
    "feature8z = r'\\Test dataset\\DIS_EW.mat'\n",
    "data8z = scio.loadmat(feature8z)\n",
    "HHz=data8z['DIS_EW']\n",
    "Hz=HHz[:,0:300]\n",
    "\n",
    "feature9z = r'\\Test dataset\\DIS_NS.mat'\n",
    "data9z = scio.loadmat(feature9z)\n",
    "IIz=data9z['DIS_NS']\n",
    "Iz=IIz[:,0:300]\n",
    "\n",
    "\n",
    "labelz = pd.read_csv(open(r'\\Test dataset\\lable.csv',encoding='UTF-8'))\n"
   ]
  },
  {
   "cell_type": "code",
   "execution_count": 18,
   "metadata": {},
   "outputs": [],
   "source": [
    "raw_data1z=np.hstack((Az,Bz))\n",
    "x_dataz=np.hstack((raw_data1z,Cz))\n",
    "\n",
    "\n",
    "y_dataz=labelz.iloc[:,[1,3]].values  #知识嵌入\n",
    "#y_data=label.iloc[:,[12]].values    #导入数据  iloc通过行号获取行数据\n",
    "#print(y_dataz[0])\n",
    "#print(y_dataz.shape)"
   ]
  },
  {
   "cell_type": "code",
   "execution_count": 19,
   "metadata": {},
   "outputs": [],
   "source": [
    "zhenli_y=y_dataz[:,[1]] #y_train_lable\n",
    "dis_zhenli=y_dataz[:,[0]] #train_site_distance\n",
    "\n"
   ]
  },
  {
   "cell_type": "code",
   "execution_count": 20,
   "metadata": {},
   "outputs": [],
   "source": [
    "zhenli_x=[]\n",
    "for i in range(len(x_dataz)):\n",
    "    zhenli_x.append(np.array(x_dataz[i].reshape(3,1,300)).T)"
   ]
  },
  {
   "cell_type": "code",
   "execution_count": 21,
   "metadata": {},
   "outputs": [],
   "source": [
    "zhenli_dis=[]\n",
    "for i in range(len(dis_zhenli)):\n",
    "    zhenli_dis.append(np.array(dis_zhenli[i].reshape(1,1,1)).T)\n",
    "\n"
   ]
  },
  {
   "cell_type": "code",
   "execution_count": 22,
   "metadata": {},
   "outputs": [],
   "source": [
    "zhenli_x=np.array(zhenli_x)\n",
    "zhenli_dis=np.array(zhenli_dis)"
   ]
  },
  {
   "cell_type": "code",
   "execution_count": 23,
   "metadata": {},
   "outputs": [],
   "source": [
    "zhenli_x = np.reshape(zhenli_x, (zhenli_x.shape[0], 300, 3))\n",
    "zhenli_dis = np.reshape(zhenli_dis, (zhenli_dis.shape[0], 1, 1))"
   ]
  },
  {
   "cell_type": "code",
   "execution_count": 22,
   "metadata": {},
   "outputs": [
    {
     "name": "stdout",
     "output_type": "stream",
     "text": [
      "(1, 300, 3)\n"
     ]
    }
   ],
   "source": [
    "zhenli_x1=zhenli_x[0]\n",
    "zhenli_x1=zhenli_x1.reshape(1, 300, 3)\n",
    "print(zhenli_x1.shape)"
   ]
  },
  {
   "cell_type": "code",
   "execution_count": 24,
   "metadata": {},
   "outputs": [
    {
     "name": "stdout",
     "output_type": "stream",
     "text": [
      "Elapsed time: 37.40 ms\n"
     ]
    }
   ],
   "source": [
    "import time\n",
    "start_time = time.perf_counter()  # 记录开始时间\n",
    "pred_zhenli_all = model.predict(zhenli_x1).ravel()  ##ravel() 转换成1列\n",
    "end_time = time.perf_counter()  # 记录结束时间\n",
    "elapsed_time_ms = (end_time - start_time) * 1000  # 转换为毫秒\n",
    "print(f\"Elapsed time: {elapsed_time_ms:.2f} ms\")"
   ]
  },
  {
   "cell_type": "code",
   "execution_count": 24,
   "metadata": {},
   "outputs": [],
   "source": [
    "pred_zhenli_all = model.predict(zhenli_x).ravel()  ##ravel() 转换成1列"
   ]
  },
  {
   "cell_type": "code",
   "execution_count": 25,
   "metadata": {
    "scrolled": true
   },
   "outputs": [
    {
     "name": "stdout",
     "output_type": "stream",
     "text": [
      "震例标准差STD= 0.4101542762102362\n",
      "震例误差均值MEAN= -0.0563336766833301\n",
      "震例平均绝对误差MAE= 0.31000491607570924\n",
      "震例RMSE= 0.4140048470998917\n",
      "震例MAPE= 7.152259387470786\n",
      "震例r2 score: 0.8218234515077907\n"
     ]
    },
    {
     "data": {
      "image/png": "[encoded data removed]",
      "text/plain": [
       "<Figure size 360x360 with 1 Axes>"
      ]
     },
     "metadata": {
      "needs_background": "light"
     },
     "output_type": "display_data"
    }
   ],
   "source": [
    "print(\"震例标准差STD=\",np.std(pred_zhenli_all-zhenli_y.ravel()))\n",
    "print(\"震例误差均值MEAN=\",np.mean(pred_zhenli_all-zhenli_y.ravel()))\n",
    "print(\"震例平均绝对误差MAE=\",metrics.mean_absolute_error(pred_zhenli_all, zhenli_y.ravel()))\n",
    "print(\"震例RMSE=\",metrics.mean_squared_error(pred_zhenli_all, zhenli_y.ravel())**0.5)\n",
    "print(\"震例MAPE=\",np.mean(np.abs((zhenli_y.ravel() - pred_zhenli_all) / zhenli_y.ravel())) * 100)\n",
    "print(\"震例r2 score:\", r2_score(zhenli_y.ravel(), pred_zhenli_all))\n",
    "\n",
    "\n",
    "plt.figure(figsize=(5, 5))\n",
    "plt.axis('equal')\n",
    "\n",
    "x3 = np.arange(2.5, 8, 0.01)\n",
    "y3=x3\n",
    "plt.plot(x3, y3, \"black\")\n",
    "plt.plot(zhenli_y.ravel(),pred_zhenli_all,'.')\n",
    "plt.xlim(2.5, 8)\n",
    "plt.ylim(2.5, 8)\n",
    "plt.show()  "
   ]
  },
  {
   "cell_type": "code",
   "execution_count": 26,
   "metadata": {},
   "outputs": [],
   "source": [
    "#########################保存震例结果####################################\n",
    "pred_zhenli_all=pred_zhenli_all.reshape(pred_zhenli_all.shape[0],1)\n",
    "\n",
    "#print(pred_zhenli_all.shape)\n",
    "#print(zhenli_y.shape)\n",
    "\n",
    "tz_result=np.concatenate((zhenli_y,pred_zhenli_all),axis=1)\n",
    "\n",
    "#print(tz_result.shape)\n",
    "\n",
    "data_tz = pd.DataFrame(tz_result) #将数组转换为dataframe结构\n",
    "data_tz.columns=['True M','Pred M']\n",
    "writer_tz = pd.ExcelWriter(r'\\CNN-Mag\\magtest.xls')   # 写入Excel文件\n",
    "\n",
    "data_tz.to_excel(writer_tz,float_format='%.5f',index=False)   ## ‘page_1’是写入excel的sheet名\n",
    "writer_tz.save()\n",
    "writer_tz.close()\n",
    "#########################保存震例结果####################################"
   ]
  },
  {
   "cell_type": "markdown",
   "metadata": {},
   "source": [
    "# Test on the Chinese strong-ground motion data"
   ]
  },
  {
   "cell_type": "code",
   "execution_count": 27,
   "metadata": {},
   "outputs": [],
   "source": [
    "#在中国地区的应用\n",
    "import scipy.io as scio\n",
    "import pandas as pd\n",
    "\n",
    "#input\n",
    "feature1z_CH = r'\\Chinese strong-ground motion test dataset\\ACC_UD.mat'\n",
    "data1z_CH = scio.loadmat(feature1z_CH)\n",
    "AAz_CH=data1z_CH['ACC_UD']\n",
    "Az_CH=AAz_CH[:,0:300]\n",
    "\n",
    "feature2z_CH = r'\\Chinese strong-ground motion test dataset\\ACC_EW.mat'\n",
    "data2z_CH = scio.loadmat(feature2z_CH)\n",
    "BBz_CH=data2z_CH['ACC_EW']\n",
    "Bz_CH=BBz_CH[:,0:300]\n",
    "\n",
    "feature3z_CH = r'\\Chinese strong-ground motion test dataset\\ACC_NS.mat'\n",
    "data3z_CH = scio.loadmat(feature3z_CH)\n",
    "CCz_CH=data3z_CH['ACC_NS']\n",
    "Cz_CH=CCz_CH[:,0:300]\n",
    "\n",
    "feature4z_CH = r'\\Chinese strong-ground motion test dataset\\VEL_UD.mat'\n",
    "data4z_CH = scio.loadmat(feature4z_CH)\n",
    "DDz_CH=data4z_CH['VEL_UD']\n",
    "Dz_CH=DDz_CH[:,0:300]\n",
    "\n",
    "feature5z_CH = r'\\Chinese strong-ground motion test dataset\\VEL_EW.mat'\n",
    "data5z_CH = scio.loadmat(feature5z_CH)\n",
    "EEz_CH=data5z_CH['VEL_EW']\n",
    "Ez_CH=EEz_CH[:,0:300]\n",
    "\n",
    "feature6z_CH = r'\\Chinese strong-ground motion test dataset\\VEL_NS.mat'\n",
    "data6z_CH = scio.loadmat(feature6z_CH)\n",
    "FFz_CH=data6z_CH['VEL_NS']\n",
    "Fz_CH=FFz_CH[:,0:300]\n",
    "\n",
    "feature7z_CH = r'\\Chinese strong-ground motion test dataset\\DIS_UD.mat'\n",
    "data7z_CH = scio.loadmat(feature7z_CH)\n",
    "GGz_CH=data7z_CH['DIS_UD']\n",
    "Gz_CH=GGz_CH[:,0:300]\n",
    "\n",
    "feature8z_CH = r'\\Chinese strong-ground motion test dataset\\DIS_EW.mat'\n",
    "data8z_CH = scio.loadmat(feature8z_CH)\n",
    "HHz_CH=data8z_CH['DIS_EW']\n",
    "Hz_CH=HHz_CH[:,0:300]\n",
    "\n",
    "feature9z_CH = r'\\Chinese strong-ground motion test dataset\\DIS_NS.mat'\n",
    "data9z_CH = scio.loadmat(feature9z_CH)\n",
    "IIz_CH=data9z_CH['DIS_NS']\n",
    "Iz_CH=IIz_CH[:,0:300]\n",
    "\n",
    "\n",
    "labelz_CH = pd.read_csv(open(r'\\Chinese strong-ground motion test dataset\\lable.csv',encoding='UTF-8'))\n"
   ]
  },
  {
   "cell_type": "code",
   "execution_count": 28,
   "metadata": {},
   "outputs": [],
   "source": [
    "raw_data1z_CH=np.hstack((Az_CH,Bz_CH))\n",
    "x_dataz_CH=np.hstack((raw_data1z_CH,Cz_CH))\n",
    "\n",
    "\n",
    "y_dataz_CH=labelz_CH.iloc[:,[1,3]].values  #知识嵌入\n",
    "#y_data=label.iloc[:,[12]].values    #导入数据  iloc通过行号获取行数据\n",
    "#print(y_dataz_CH[0])\n",
    "#print(y_dataz_CH.shape)"
   ]
  },
  {
   "cell_type": "code",
   "execution_count": 29,
   "metadata": {},
   "outputs": [],
   "source": [
    "zhenli_y_CH=y_dataz_CH[:,[1]] #y_train_lable\n",
    "dis_zhenli_CH=y_dataz_CH[:,[0]] #train_site_distance"
   ]
  },
  {
   "cell_type": "code",
   "execution_count": 30,
   "metadata": {},
   "outputs": [],
   "source": [
    "zhenli_x_CH=[]\n",
    "for i in range(len(x_dataz_CH)):\n",
    "    zhenli_x_CH.append(np.array(x_dataz_CH[i].reshape(3,1,300)).T)"
   ]
  },
  {
   "cell_type": "code",
   "execution_count": 31,
   "metadata": {},
   "outputs": [],
   "source": [
    "zhenli_x_CH=np.array(zhenli_x_CH)\n",
    "zhenli_x_CH = np.reshape(zhenli_x_CH, (zhenli_x_CH.shape[0], 300, 3))"
   ]
  },
  {
   "cell_type": "code",
   "execution_count": 32,
   "metadata": {},
   "outputs": [],
   "source": [
    "pred_zhenli_all_CH = model.predict(zhenli_x_CH).ravel()  ##ravel() 转换成1列"
   ]
  },
  {
   "cell_type": "code",
   "execution_count": 33,
   "metadata": {},
   "outputs": [
    {
     "name": "stdout",
     "output_type": "stream",
     "text": [
      "震例标准差STD= 0.4764866011110386\n",
      "震例误差均值MEAN= 0.19033949803402814\n",
      "震例平均绝对误差MAE= 0.3992924476900107\n",
      "震例RMSE= 0.5130970722487079\n",
      "震例MAPE= 9.182550809765676\n",
      "震例r2 score: 0.5888594225194465\n"
     ]
    },
    {
     "data": {
      "image/png": "[encoded data removed]",
      "text/plain": [
       "<Figure size 360x360 with 1 Axes>"
      ]
     },
     "metadata": {
      "needs_background": "light"
     },
     "output_type": "display_data"
    }
   ],
   "source": [
    "print(\"震例标准差STD=\",np.std(pred_zhenli_all_CH-zhenli_y_CH.ravel()))\n",
    "print(\"震例误差均值MEAN=\",np.mean(pred_zhenli_all_CH-zhenli_y_CH.ravel()))\n",
    "print(\"震例平均绝对误差MAE=\",metrics.mean_absolute_error(pred_zhenli_all_CH, zhenli_y_CH.ravel()))\n",
    "print(\"震例RMSE=\",metrics.mean_squared_error(pred_zhenli_all_CH, zhenli_y_CH.ravel())**0.5)\n",
    "print(\"震例MAPE=\",np.mean(np.abs((zhenli_y_CH.ravel() - pred_zhenli_all_CH) / zhenli_y_CH.ravel())) * 100)\n",
    "print(\"震例r2 score:\", r2_score(zhenli_y_CH.ravel(), pred_zhenli_all_CH))\n",
    "\n",
    "\n",
    "plt.figure(figsize=(5, 5))\n",
    "plt.axis('equal')\n",
    "\n",
    "x3 = np.arange(2.5, 8, 0.01)\n",
    "y3=x3\n",
    "plt.plot(x3, y3, \"black\")\n",
    "plt.plot(zhenli_y_CH.ravel(),pred_zhenli_all_CH,'.')\n",
    "plt.xlim(2.5, 8)\n",
    "plt.ylim(2.5, 8)\n",
    "plt.show()  "
   ]
  },
  {
   "cell_type": "code",
   "execution_count": null,
   "metadata": {},
   "outputs": [],
   "source": []
  },
  {
   "cell_type": "code",
   "execution_count": null,
   "metadata": {},
   "outputs": [],
   "source": []
  }
 ],
 "metadata": {
  "kernelspec": {
   "display_name": "Python 3",
   "language": "python",
   "name": "python3"
  },
  "language_info": {
   "codemirror_mode": {
    "name": "ipython",
    "version": 3
   },
   "file_extension": ".py",
   "mimetype": "text/x-python",
   "name": "python",
   "nbconvert_exporter": "python",
   "pygments_lexer": "ipython3",
   "version": "3.7.0"
  }
 },
 "nbformat": 4,
 "nbformat_minor": 2
}
