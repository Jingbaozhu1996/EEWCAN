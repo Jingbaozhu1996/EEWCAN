{
 "cells": [
  {
   "cell_type": "markdown",
   "metadata": {},
   "source": [
    "# Import Library"
   ]
  },
  {
   "cell_type": "code",
   "execution_count": 1,
   "metadata": {},
   "outputs": [],
   "source": [
    "import numpy as np\n",
    "import pandas as pd\n",
    "from datetime import date, timedelta\n",
    "import os\n",
    "import random\n",
    "import matplotlib.pyplot as plt\n",
    "from tqdm import tqdm\n",
    "from scipy.stats import skew, kurtosis\n",
    "\n",
    "from sklearn.preprocessing import StandardScaler\n",
    "from sklearn.metrics import mean_squared_error\n",
    "from tensorflow.keras import layers,Sequential,losses,optimizers,datasets\n",
    "\n",
    "import tensorflow as tf\n",
    "from tensorflow import keras\n",
    "from tensorflow.keras.layers import *\n",
    "from tensorflow.keras.models import *\n",
    "from tensorflow.keras.optimizers import *\n",
    "from tensorflow.keras.callbacks import *\n",
    "from tensorflow.keras import backend as K\n",
    "\n",
    "def setup_seed(seed):\n",
    "    random.seed(seed)  # 为python设置随机种子\n",
    "    np.random.seed(seed)  # 为numpy设置随机种子\n",
    "    tf.random.set_seed(seed)  # tf cpu fix seed\n",
    "    os.environ['TF_DETERMINISTIC_OPS'] = '1'  # tf gpu fix seed, please `pip install tensorflow-determinism` first\n",
    "\n",
    "setup_seed(2020)\n",
    "\n",
    "\n",
    "seed = 2020\n",
    "random.seed = 2020\n",
    "np.random.seed = 2020\n",
    "tf.seed = 2020\n",
    "tf.random.set_seed(2020)"
   ]
  },
  {
   "cell_type": "markdown",
   "metadata": {},
   "source": [
    "# Data processing"
   ]
  },
  {
   "cell_type": "code",
   "execution_count": 2,
   "metadata": {},
   "outputs": [],
   "source": [
    "import scipy.io as scio\n",
    "import pandas as pd\n",
    "\n",
    "#input\n",
    "feature1 = r'\\Training dataset\\ACC_UD.mat'\n",
    "data1 = scio.loadmat(feature1)\n",
    "AA=data1['ACC_UD']\n",
    "A=AA[:,0:300]\n",
    "\n",
    "feature2 = r'\\Training dataset\\ACC_EW.mat'\n",
    "data2 = scio.loadmat(feature2)\n",
    "BB=data2['ACC_EW']\n",
    "B=BB[:,0:300]\n",
    "\n",
    "feature3 = r'\\Training dataset\\ACC_NS.mat'\n",
    "data3 = scio.loadmat(feature3)\n",
    "CC=data3['ACC_NS']\n",
    "C=CC[:,0:300]\n",
    "\n",
    "feature4 = r'\\Training dataset\\VEL_UD.mat'\n",
    "data4 = scio.loadmat(feature4)\n",
    "DD=data4['VEL_UD']\n",
    "D=DD[:,0:300]\n",
    "\n",
    "feature5 = r'\\Training dataset\\VEL_EW.mat'\n",
    "data5 = scio.loadmat(feature5)\n",
    "EE=data5['VEL_EW']\n",
    "E=EE[:,0:300]\n",
    "\n",
    "feature6 = r'\\Training dataset\\VEL_NS.mat'\n",
    "data6 = scio.loadmat(feature6)\n",
    "FF=data6['VEL_NS']\n",
    "F=FF[:,0:300]\n",
    "\n",
    "feature7 = r'\\Training dataset\\DIS_UD.mat'\n",
    "data7 = scio.loadmat(feature7)\n",
    "GG=data7['DIS_UD']\n",
    "G=GG[:,0:300]\n",
    "\n",
    "feature8 = r'\\Training dataset\\DIS_EW.mat'\n",
    "data8 = scio.loadmat(feature8)\n",
    "HH=data8['DIS_EW']\n",
    "H=HH[:,0:300]\n",
    "\n",
    "feature9 = r'\\Training dataset\\DIS_NS.mat'\n",
    "data9 = scio.loadmat(feature9)\n",
    "II=data9['DIS_NS']\n",
    "I=II[:,0:300]\n",
    "\n",
    "\n",
    "label = pd.read_csv(open(r'\\Training dataset\\lable.csv',encoding='UTF-8'))\n"
   ]
  },
  {
   "cell_type": "code",
   "execution_count": 3,
   "metadata": {},
   "outputs": [],
   "source": [
    "raw_data1=np.hstack((A,B))\n",
    "train_xx=np.hstack((raw_data1,C))\n",
    "\n",
    "\n",
    "#print(train_xx.shape)\n",
    "\n",
    "\n",
    "y_data=label.iloc[:,[1,3]].values  #知识嵌入\n",
    "#y_data=label.iloc[:,[12]].values    #导入数据  iloc通过行号获取行数据\n",
    "#print(y_data[0])\n",
    "#print(y_data.shape)"
   ]
  },
  {
   "cell_type": "code",
   "execution_count": 4,
   "metadata": {},
   "outputs": [],
   "source": [
    "train_y=y_data[:,[1]] #y_train_lable\n",
    "dis_train=y_data[:,[0]] #train_site_distance\n",
    "\n",
    "\n",
    "#print(train_y.shape)\n",
    "#print(dis_train.shape)\n",
    "\n"
   ]
  },
  {
   "cell_type": "code",
   "execution_count": 5,
   "metadata": {},
   "outputs": [],
   "source": [
    "train_x=[]\n",
    "for i in range(len(train_xx)):\n",
    "    train_x.append(np.array(train_xx[i].reshape(3,1,300)).T)"
   ]
  },
  {
   "cell_type": "code",
   "execution_count": 6,
   "metadata": {},
   "outputs": [],
   "source": [
    "train_dis=[]\n",
    "for i in range(len(dis_train)):\n",
    "    train_dis.append(np.array(dis_train[i].reshape(1,1,1)).T)"
   ]
  },
  {
   "cell_type": "code",
   "execution_count": 7,
   "metadata": {},
   "outputs": [],
   "source": [
    "train_x=np.array(train_x)\n",
    "train_dis=np.array(train_dis)\n",
    "#test_x=np.array(test_x)"
   ]
  },
  {
   "cell_type": "code",
   "execution_count": 8,
   "metadata": {},
   "outputs": [],
   "source": [
    "#3#  ##Reshaping\n",
    "train_x = np.reshape(train_x, (train_x.shape[0], 300, 3))\n",
    "train_dis = np.reshape(train_dis, (train_dis.shape[0], 1, 1))\n",
    "#test_x = np.reshape(test_x, (test_x.shape[0], 300, 9))\n",
    "#print(\"0\",train_x.shape[0])\n",
    "#print(\"1\",train_x.shape[1])\n",
    "#print(train_x.shape)\n",
    "#print(train_x)"
   ]
  },
  {
   "cell_type": "markdown",
   "metadata": {},
   "source": [
    "# LSTM-Mag architecture, training and testing"
   ]
  },
  {
   "cell_type": "code",
   "execution_count": 9,
   "metadata": {},
   "outputs": [],
   "source": [
    "def LocalEncoder(x):\n",
    "\n",
    "\n",
    "    e = tf.keras.layers.Bidirectional(LSTM(units = 100,kernel_regularizer=regularizers.l2(0.005),\n",
    "                                                use_bias=True, return_sequences = True,\n",
    "                                                name='GRU_1', #activation='relu',\n",
    "                                               ))(x)\n",
    "\n",
    "    e = tf.keras.layers.Bidirectional(LSTM(units = 50,kernel_regularizer=regularizers.l2(0.005),\n",
    "                                                use_bias=True, return_sequences = True,\n",
    "                                                name='GRU_1', #activation='relu',\n",
    "                                               ))(x)\n",
    "    \n",
    "    return e\n",
    "    \n",
    "    "
   ]
  },
  {
   "cell_type": "code",
   "execution_count": 10,
   "metadata": {},
   "outputs": [],
   "source": [
    "seed=50\n",
    "from keras import regularizers \n",
    "from keras import initializers\n",
    "#50 17.20 1.32\n",
    "drop_rate = 0.2\n",
    "def get_model():\n",
    "\n",
    "    inp1 = Input(shape=(300, 3), name='input_layer') \n",
    "\n",
    "    x1 = LocalEncoder(inp1)\n",
    "\n",
    "\n",
    "    e = tf.keras.layers.Flatten()(x1) # 打平层，方便全连接层处理\n",
    "    e = layers.Dropout(rate=0.5)(e) #0.458\n",
    "\n",
    "    e = tf.keras.layers.Dense(30,activation='relu')(e) # 全连接层，14节点  0.340 \n",
    "    e = tf.keras.layers.Dense(10,activation='relu')(e) # 全连接层，14节点  0.340 \n",
    "    o = tf.keras.layers.Dense(1)(e) # 全连接层，10 个节点 \n",
    "    \n",
    "    \n",
    "\n",
    "    rms = optimizers.Adam(lr=0.001, beta_1=0.9, beta_2=0.999, epsilon=1e-08)\n",
    "    model = Model(inp1, o)\n",
    "    model.compile(optimizer = rms, loss = 'mean_squared_error')\n",
    "\n",
    "    return model"
   ]
  },
  {
   "cell_type": "code",
   "execution_count": 11,
   "metadata": {},
   "outputs": [
    {
     "name": "stdout",
     "output_type": "stream",
     "text": [
      "Model: \"functional_1\"\n",
      "_________________________________________________________________\n",
      "Layer (type)                 Output Shape              Param #   \n",
      "=================================================================\n",
      "input_layer (InputLayer)     [(None, 300, 3)]          0         \n",
      "_________________________________________________________________\n",
      "bidirectional_1 (Bidirection (None, 300, 100)          21600     \n",
      "_________________________________________________________________\n",
      "flatten (Flatten)            (None, 30000)             0         \n",
      "_________________________________________________________________\n",
      "dropout (Dropout)            (None, 30000)             0         \n",
      "_________________________________________________________________\n",
      "dense (Dense)                (None, 30)                900030    \n",
      "_________________________________________________________________\n",
      "dense_1 (Dense)              (None, 10)                310       \n",
      "_________________________________________________________________\n",
      "dense_2 (Dense)              (None, 1)                 11        \n",
      "=================================================================\n",
      "Total params: 921,951\n",
      "Trainable params: 921,951\n",
      "Non-trainable params: 0\n",
      "_________________________________________________________________\n"
     ]
    }
   ],
   "source": [
    "model = get_model()\n",
    "model.summary() "
   ]
  },
  {
   "cell_type": "code",
   "execution_count": 12,
   "metadata": {},
   "outputs": [
    {
     "name": "stdout",
     "output_type": "stream",
     "text": [
      "Epoch 1/300\n",
      "162/162 [==============================] - 13s 77ms/step - loss: 1.6024 - val_loss: 0.6646\n",
      "Epoch 2/300\n",
      "162/162 [==============================] - 13s 80ms/step - loss: 0.4716 - val_loss: 0.4042\n",
      "Epoch 3/300\n",
      "162/162 [==============================] - 13s 81ms/step - loss: 0.3908 - val_loss: 0.3822\n",
      "Epoch 4/300\n",
      "162/162 [==============================] - 14s 85ms/step - loss: 0.3578 - val_loss: 0.3485\n",
      "Epoch 5/300\n",
      "162/162 [==============================] - 14s 84ms/step - loss: 0.3755 - val_loss: 0.4318\n",
      "Epoch 6/300\n",
      "162/162 [==============================] - 14s 85ms/step - loss: 0.3647 - val_loss: 0.3443\n",
      "Epoch 7/300\n",
      "162/162 [==============================] - 14s 85ms/step - loss: 0.3331 - val_loss: 0.4081\n",
      "Epoch 8/300\n",
      "162/162 [==============================] - 14s 84ms/step - loss: 0.3795 - val_loss: 0.3769\n",
      "Epoch 9/300\n",
      "162/162 [==============================] - 14s 84ms/step - loss: 0.3327 - val_loss: 0.3587\n",
      "Epoch 10/300\n",
      "162/162 [==============================] - 14s 84ms/step - loss: 0.3219 - val_loss: 0.3287\n",
      "Epoch 11/300\n",
      "162/162 [==============================] - 14s 84ms/step - loss: 0.3018 - val_loss: 0.3254\n",
      "Epoch 12/300\n",
      "162/162 [==============================] - 14s 84ms/step - loss: 0.2896 - val_loss: 0.2924\n",
      "Epoch 13/300\n",
      "162/162 [==============================] - 14s 84ms/step - loss: 0.2792 - val_loss: 0.2944\n",
      "Epoch 14/300\n",
      "162/162 [==============================] - 14s 84ms/step - loss: 0.2749 - val_loss: 0.2913\n",
      "Epoch 15/300\n",
      "162/162 [==============================] - 14s 83ms/step - loss: 0.2716 - val_loss: 0.3066\n",
      "Epoch 16/300\n",
      "162/162 [==============================] - 14s 85ms/step - loss: 0.2624 - val_loss: 0.2716\n",
      "Epoch 17/300\n",
      "162/162 [==============================] - 14s 83ms/step - loss: 0.2558 - val_loss: 0.2851\n",
      "Epoch 18/300\n",
      "162/162 [==============================] - 14s 84ms/step - loss: 0.2548 - val_loss: 0.2624\n",
      "Epoch 19/300\n",
      "162/162 [==============================] - 14s 84ms/step - loss: 0.2524 - val_loss: 0.2881\n",
      "Epoch 20/300\n",
      "162/162 [==============================] - 14s 84ms/step - loss: 0.2471 - val_loss: 0.2675\n",
      "Epoch 21/300\n",
      "162/162 [==============================] - 14s 84ms/step - loss: 0.2397 - val_loss: 0.2572\n",
      "Epoch 22/300\n",
      "162/162 [==============================] - 14s 84ms/step - loss: 0.2344 - val_loss: 0.2566\n",
      "Epoch 23/300\n",
      "162/162 [==============================] - 14s 84ms/step - loss: 0.2432 - val_loss: 0.2640\n",
      "Epoch 24/300\n",
      "162/162 [==============================] - 14s 84ms/step - loss: 0.2356 - val_loss: 0.2615\n",
      "Epoch 25/300\n",
      "162/162 [==============================] - 14s 84ms/step - loss: 0.2316 - val_loss: 0.2746\n",
      "Epoch 26/300\n",
      "162/162 [==============================] - 14s 85ms/step - loss: 0.2309 - val_loss: 0.2542\n",
      "Epoch 27/300\n",
      "162/162 [==============================] - 14s 84ms/step - loss: 0.2261 - val_loss: 0.2540\n",
      "Epoch 28/300\n",
      "162/162 [==============================] - 14s 85ms/step - loss: 0.2280 - val_loss: 0.2540\n",
      "Epoch 29/300\n",
      "162/162 [==============================] - 14s 84ms/step - loss: 0.2209 - val_loss: 0.2443\n",
      "Epoch 30/300\n",
      "162/162 [==============================] - 14s 84ms/step - loss: 0.2263 - val_loss: 0.2543\n",
      "Epoch 31/300\n",
      "162/162 [==============================] - 14s 84ms/step - loss: 0.2221 - val_loss: 0.2471\n",
      "Epoch 32/300\n",
      "162/162 [==============================] - 14s 84ms/step - loss: 0.2173 - val_loss: 0.2394\n",
      "Epoch 33/300\n",
      "162/162 [==============================] - 14s 84ms/step - loss: 0.2360 - val_loss: 0.3163\n",
      "Epoch 34/300\n",
      "162/162 [==============================] - 14s 84ms/step - loss: 0.2301 - val_loss: 0.2601\n",
      "Epoch 35/300\n",
      "162/162 [==============================] - 14s 84ms/step - loss: 0.2089 - val_loss: 0.2607\n",
      "Epoch 36/300\n",
      "162/162 [==============================] - 14s 85ms/step - loss: 0.2132 - val_loss: 0.2724\n",
      "Epoch 37/300\n",
      "162/162 [==============================] - 14s 85ms/step - loss: 0.2116 - val_loss: 0.2484\n",
      "Epoch 38/300\n",
      "162/162 [==============================] - 14s 84ms/step - loss: 0.1940 - val_loss: 0.2361\n",
      "Epoch 39/300\n",
      "162/162 [==============================] - 14s 84ms/step - loss: 0.1887 - val_loss: 0.2355\n",
      "Epoch 40/300\n",
      "162/162 [==============================] - 14s 84ms/step - loss: 0.1868 - val_loss: 0.2375\n",
      "Epoch 41/300\n",
      "162/162 [==============================] - 14s 85ms/step - loss: 0.1857 - val_loss: 0.2360\n",
      "Epoch 42/300\n",
      "162/162 [==============================] - 14s 84ms/step - loss: 0.1855 - val_loss: 0.2331\n",
      "Epoch 43/300\n",
      "162/162 [==============================] - 14s 84ms/step - loss: 0.1842 - val_loss: 0.2312\n",
      "Epoch 44/300\n",
      "162/162 [==============================] - 14s 84ms/step - loss: 0.1835 - val_loss: 0.2340\n",
      "Epoch 45/300\n",
      "162/162 [==============================] - 14s 84ms/step - loss: 0.1836 - val_loss: 0.2317\n",
      "Epoch 46/300\n",
      "162/162 [==============================] - 14s 84ms/step - loss: 0.1835 - val_loss: 0.2309\n",
      "Epoch 47/300\n",
      "162/162 [==============================] - 14s 84ms/step - loss: 0.1826 - val_loss: 0.2324\n",
      "Epoch 48/300\n",
      "162/162 [==============================] - 14s 84ms/step - loss: 0.1831 - val_loss: 0.2365\n",
      "Epoch 49/300\n",
      "162/162 [==============================] - 14s 84ms/step - loss: 0.1824 - val_loss: 0.2369\n",
      "Epoch 50/300\n",
      "162/162 [==============================] - 14s 84ms/step - loss: 0.1820 - val_loss: 0.2316\n",
      "Epoch 51/300\n",
      "162/162 [==============================] - 14s 84ms/step - loss: 0.1816 - val_loss: 0.2387\n",
      "Epoch 52/300\n",
      "162/162 [==============================] - 14s 84ms/step - loss: 0.1782 - val_loss: 0.2340\n",
      "Epoch 53/300\n",
      "162/162 [==============================] - 14s 85ms/step - loss: 0.1776 - val_loss: 0.2314\n",
      "Epoch 54/300\n",
      "162/162 [==============================] - 14s 84ms/step - loss: 0.1776 - val_loss: 0.2314\n",
      "Epoch 55/300\n",
      "162/162 [==============================] - 14s 84ms/step - loss: 0.1767 - val_loss: 0.2308\n",
      "Epoch 56/300\n",
      "162/162 [==============================] - 14s 84ms/step - loss: 0.1769 - val_loss: 0.2339\n",
      "Epoch 57/300\n",
      "162/162 [==============================] - 14s 84ms/step - loss: 0.1772 - val_loss: 0.2317\n",
      "Epoch 58/300\n",
      "162/162 [==============================] - 14s 84ms/step - loss: 0.1774 - val_loss: 0.2311\n",
      "Epoch 59/300\n",
      "162/162 [==============================] - 14s 84ms/step - loss: 0.1768 - val_loss: 0.2312\n",
      "Epoch 60/300\n",
      "162/162 [==============================] - 14s 84ms/step - loss: 0.1766 - val_loss: 0.2315\n",
      "Epoch 61/300\n",
      "162/162 [==============================] - 14s 84ms/step - loss: 0.1771 - val_loss: 0.2315\n",
      "Epoch 62/300\n",
      "162/162 [==============================] - 14s 84ms/step - loss: 0.1770 - val_loss: 0.2314\n",
      "Epoch 63/300\n",
      "162/162 [==============================] - 14s 84ms/step - loss: 0.1762 - val_loss: 0.2314\n",
      "Epoch 64/300\n",
      "162/162 [==============================] - 14s 84ms/step - loss: 0.1772 - val_loss: 0.2314\n",
      "Epoch 65/300\n",
      "162/162 [==============================] - 14s 84ms/step - loss: 0.1774 - val_loss: 0.2314\n"
     ]
    }
   ],
   "source": [
    "from keras.callbacks import EarlyStopping\n",
    "from keras.callbacks import ReduceLROnPlateau\n",
    "lr_reducer = ReduceLROnPlateau(monitor=\"val_loss\",\n",
    "                               factor=0.1,\n",
    "                                cooldown= 0,\n",
    "                                patience= 5,\n",
    "                                min_lr=0.1e-7)\n",
    "early_stopping_monitor = EarlyStopping(monitor= 'val_loss', patience = 10) #10  17.20 1.32\n",
    "callbacks = [lr_reducer, early_stopping_monitor]\n",
    "\n",
    "\n",
    "\n",
    "\n",
    "model = get_model()\n",
    "model.fit(train_x, train_y, epochs=300, batch_size=256,  \n",
    "            validation_split=0.1, callbacks=callbacks)  #256 ,train_physics  ,test_physics ,train_physics\n",
    "\n",
    "pred_train_all = model.predict(train_x).ravel()\n",
    "#pred_test_all = model.predict(test_x).ravel()  ##ravel() 转换成1列\n",
    "\n",
    "\n",
    "#pred_valid_all = scaler_seq.inverse_transform(pred_valid_all)\n",
    "#reverse_valid = scaler_seq.inverse_transform(y_valid)\n",
    "#pred_test_all = scaler_seq.inverse_transform(pred_test_all)\n",
    "#reverse_test = scaler_seq.inverse_transform(y_test)"
   ]
  },
  {
   "cell_type": "code",
   "execution_count": 13,
   "metadata": {},
   "outputs": [],
   "source": [
    "# 保存权重（推荐方式）\n",
    "model.save_weights(\"LSTM_Mag_weights.h5\")  # HDF5格式"
   ]
  },
  {
   "cell_type": "code",
   "execution_count": 14,
   "metadata": {},
   "outputs": [
    {
     "name": "stdout",
     "output_type": "stream",
     "text": [
      "Model size (MB): 3.5169639587402344\n"
     ]
    }
   ],
   "source": [
    "def get_model_size_mb(model):\n",
    "    params = model.count_params()\n",
    "    # 假设所有参数为float32（4字节）\n",
    "    size_mb = params * 4 / 1024**2\n",
    "    return size_mb\n",
    " \n",
    "print(\"Model size (MB):\", get_model_size_mb(model))"
   ]
  },
  {
   "cell_type": "code",
   "execution_count": 15,
   "metadata": {
    "scrolled": true
   },
   "outputs": [
    {
     "name": "stdout",
     "output_type": "stream",
     "text": [
      "训练标准差STD= 0.40120087655256503\n",
      "训练误差均值MEAN= -0.00999410211358565\n",
      "训练平均绝对误差MAE= 0.2917899892793509\n",
      "训练RMSE= 0.4013253361346668\n",
      "训练MAPE= 6.73595170945242\n",
      "训练r2 score: 0.8428381122765068\n"
     ]
    },
    {
     "data": {
      "image/png": "[encoded data removed]",
      "text/plain": [
       "<Figure size 360x360 with 1 Axes>"
      ]
     },
     "metadata": {
      "needs_background": "light"
     },
     "output_type": "display_data"
    }
   ],
   "source": [
    "from sklearn import metrics\n",
    "from sklearn.metrics import r2_score\n",
    "print(\"训练标准差STD=\",np.std(pred_train_all-train_y.ravel()))\n",
    "print(\"训练误差均值MEAN=\",np.mean(pred_train_all-train_y.ravel()))\n",
    "print(\"训练平均绝对误差MAE=\",metrics.mean_absolute_error(pred_train_all, train_y.ravel()))\n",
    "print(\"训练RMSE=\",metrics.mean_squared_error(pred_train_all, train_y.ravel())**0.5)\n",
    "print(\"训练MAPE=\",np.mean(np.abs((train_y.ravel() - pred_train_all) / train_y.ravel())) * 100)\n",
    "print(\"训练r2 score:\", r2_score(train_y.ravel(), pred_train_all))\n",
    "\n",
    "\n",
    "plt.figure(figsize=(5, 5))\n",
    "plt.axis('equal')\n",
    "\n",
    "x3 = np.arange(2.5, 8, 0.01)\n",
    "y3=x3\n",
    "plt.plot(x3, y3, \"black\")\n",
    "plt.plot(train_y.ravel(),pred_train_all,'.')\n",
    "plt.xlim(2.5, 8)\n",
    "plt.ylim(2.5, 8)\n",
    "plt.show()"
   ]
  },
  {
   "cell_type": "code",
   "execution_count": 16,
   "metadata": {},
   "outputs": [],
   "source": [
    "#########################保存训练结果####################################\n",
    "pred_train_all=pred_train_all.reshape(pred_train_all.shape[0],1)\n",
    "\n",
    "#y_score_tr=y_score_tr.reshape(y_score_tr.shape[0],1)\n",
    "#print(pred_train_all.shape)\n",
    "#print(train_y.shape)\n",
    "\n",
    "tr_result=np.concatenate((train_y,pred_train_all),axis=1)\n",
    "\n",
    "#print(tr_result.shape)\n",
    "\n",
    "data_tr = pd.DataFrame(tr_result) #将数组转换为dataframe结构\n",
    "data_tr.columns=['True M','Pred M']\n",
    "writer_tr = pd.ExcelWriter(r'\\LSTM-Mag\\magtrain.xls')   # 写入Excel文件\n",
    "\n",
    "data_tr.to_excel(writer_tr,float_format='%.5f',index=False)   ## ‘page_1’是写入excel的sheet名\n",
    "writer_tr.save()\n",
    "writer_tr.close()\n",
    "#########################保存训练结果####################################"
   ]
  },
  {
   "cell_type": "code",
   "execution_count": 17,
   "metadata": {},
   "outputs": [],
   "source": [
    "#震例\n",
    "import scipy.io as scio\n",
    "import pandas as pd\n",
    "\n",
    "#input\n",
    "feature1z = r'\\Test dataset\\ACC_UD.mat'\n",
    "data1z = scio.loadmat(feature1z)\n",
    "AAz=data1z['ACC_UD']\n",
    "Az=AAz[:,0:300]\n",
    "\n",
    "feature2z = r'\\Test dataset\\ACC_EW.mat'\n",
    "data2z = scio.loadmat(feature2z)\n",
    "BBz=data2z['ACC_EW']\n",
    "Bz=BBz[:,0:300]\n",
    "\n",
    "feature3z = r'\\Test dataset\\ACC_NS.mat'\n",
    "data3z = scio.loadmat(feature3z)\n",
    "CCz=data3z['ACC_NS']\n",
    "Cz=CCz[:,0:300]\n",
    "\n",
    "feature4z = r'\\Test dataset\\VEL_UD.mat'\n",
    "data4z = scio.loadmat(feature4z)\n",
    "DDz=data4z['VEL_UD']\n",
    "Dz=DDz[:,0:300]\n",
    "\n",
    "feature5z = r'\\Test dataset\\VEL_EW.mat'\n",
    "data5z = scio.loadmat(feature5z)\n",
    "EEz=data5z['VEL_EW']\n",
    "Ez=EEz[:,0:300]\n",
    "\n",
    "feature6z = r'\\Test dataset\\VEL_NS.mat'\n",
    "data6z = scio.loadmat(feature6z)\n",
    "FFz=data6z['VEL_NS']\n",
    "Fz=FFz[:,0:300]\n",
    "\n",
    "feature7z = r'\\Test dataset\\DIS_UD.mat'\n",
    "data7z = scio.loadmat(feature7z)\n",
    "GGz=data7z['DIS_UD']\n",
    "Gz=GGz[:,0:300]\n",
    "\n",
    "feature8z = r'\\Test dataset\\DIS_EW.mat'\n",
    "data8z = scio.loadmat(feature8z)\n",
    "HHz=data8z['DIS_EW']\n",
    "Hz=HHz[:,0:300]\n",
    "\n",
    "feature9z = r'\\Test dataset\\DIS_NS.mat'\n",
    "data9z = scio.loadmat(feature9z)\n",
    "IIz=data9z['DIS_NS']\n",
    "Iz=IIz[:,0:300]\n",
    "\n",
    "\n",
    "labelz = pd.read_csv(open(r'\\Test dataset\\lable.csv',encoding='UTF-8'))\n"
   ]
  },
  {
   "cell_type": "code",
   "execution_count": 18,
   "metadata": {},
   "outputs": [],
   "source": [
    "raw_data1z=np.hstack((Az,Bz))\n",
    "x_dataz=np.hstack((raw_data1z,Cz))\n",
    "\n",
    "\n",
    "y_dataz=labelz.iloc[:,[1,3]].values  #知识嵌入\n",
    "#y_data=label.iloc[:,[12]].values    #导入数据  iloc通过行号获取行数据\n",
    "#print(y_dataz[0])\n",
    "#print(y_dataz.shape)"
   ]
  },
  {
   "cell_type": "code",
   "execution_count": 19,
   "metadata": {},
   "outputs": [],
   "source": [
    "zhenli_y=y_dataz[:,[1]] #y_train_lable\n",
    "dis_zhenli=y_dataz[:,[0]] #train_site_distance\n",
    "\n"
   ]
  },
  {
   "cell_type": "code",
   "execution_count": 20,
   "metadata": {},
   "outputs": [],
   "source": [
    "zhenli_x=[]\n",
    "for i in range(len(x_dataz)):\n",
    "    zhenli_x.append(np.array(x_dataz[i].reshape(3,1,300)).T)"
   ]
  },
  {
   "cell_type": "code",
   "execution_count": 21,
   "metadata": {},
   "outputs": [],
   "source": [
    "zhenli_dis=[]\n",
    "for i in range(len(dis_zhenli)):\n",
    "    zhenli_dis.append(np.array(dis_zhenli[i].reshape(1,1,1)).T)\n",
    "\n"
   ]
  },
  {
   "cell_type": "code",
   "execution_count": 22,
   "metadata": {},
   "outputs": [],
   "source": [
    "zhenli_x=np.array(zhenli_x)\n",
    "zhenli_dis=np.array(zhenli_dis)"
   ]
  },
  {
   "cell_type": "code",
   "execution_count": 23,
   "metadata": {},
   "outputs": [],
   "source": [
    "zhenli_x = np.reshape(zhenli_x, (zhenli_x.shape[0], 300, 3))\n",
    "zhenli_dis = np.reshape(zhenli_dis, (zhenli_dis.shape[0], 1, 1))"
   ]
  },
  {
   "cell_type": "code",
   "execution_count": 22,
   "metadata": {},
   "outputs": [
    {
     "name": "stdout",
     "output_type": "stream",
     "text": [
      "(1, 300, 3)\n"
     ]
    }
   ],
   "source": [
    "\n",
    "zhenli_x1=zhenli_x[0]\n",
    "zhenli_x1=zhenli_x1.reshape(1, 300, 3)\n",
    "print(zhenli_x1.shape)"
   ]
  },
  {
   "cell_type": "code",
   "execution_count": 30,
   "metadata": {},
   "outputs": [
    {
     "name": "stdout",
     "output_type": "stream",
     "text": [
      "Elapsed time: 59.65 ms\n"
     ]
    }
   ],
   "source": [
    "import time\n",
    "start_time = time.perf_counter()  # 记录开始时间\n",
    "pred_zhenli_all = model.predict(zhenli_x1).ravel()  ##ravel() 转换成1列\n",
    "end_time = time.perf_counter()  # 记录结束时间\n",
    "elapsed_time_ms = (end_time - start_time) * 1000  # 转换为毫秒\n",
    "print(f\"Elapsed time: {elapsed_time_ms:.2f} ms\")"
   ]
  },
  {
   "cell_type": "code",
   "execution_count": 24,
   "metadata": {
    "scrolled": true
   },
   "outputs": [
    {
     "name": "stdout",
     "output_type": "stream",
     "text": [
      "震例标准差STD= 0.4216588283954194\n",
      "震例误差均值MEAN= -0.05611222497413943\n",
      "震例平均绝对误差MAE= 0.3166783289097282\n",
      "震例RMSE= 0.4253760093791682\n",
      "震例MAPE= 7.336078954626951\n",
      "震例r2 score: 0.8119013513230751\n"
     ]
    },
    {
     "data": {
      "image/png": "[encoded data removed]",
      "text/plain": [
       "<Figure size 360x360 with 1 Axes>"
      ]
     },
     "metadata": {
      "needs_background": "light"
     },
     "output_type": "display_data"
    }
   ],
   "source": [
    "pred_zhenli_all = model.predict(zhenli_x).ravel()  ##ravel() 转换成1列\n",
    "print(\"震例标准差STD=\",np.std(pred_zhenli_all-zhenli_y.ravel()))\n",
    "print(\"震例误差均值MEAN=\",np.mean(pred_zhenli_all-zhenli_y.ravel()))\n",
    "print(\"震例平均绝对误差MAE=\",metrics.mean_absolute_error(pred_zhenli_all, zhenli_y.ravel()))\n",
    "print(\"震例RMSE=\",metrics.mean_squared_error(pred_zhenli_all, zhenli_y.ravel())**0.5)\n",
    "print(\"震例MAPE=\",np.mean(np.abs((zhenli_y.ravel() - pred_zhenli_all) / zhenli_y.ravel())) * 100)\n",
    "print(\"震例r2 score:\", r2_score(zhenli_y.ravel(), pred_zhenli_all))\n",
    "\n",
    "\n",
    "plt.figure(figsize=(5, 5))\n",
    "plt.axis('equal')\n",
    "\n",
    "x3 = np.arange(2.5, 8, 0.01)\n",
    "y3=x3\n",
    "plt.plot(x3, y3, \"black\")\n",
    "plt.plot(zhenli_y.ravel(),pred_zhenli_all,'.')\n",
    "plt.xlim(2.5, 8)\n",
    "plt.ylim(2.5, 8)\n",
    "plt.show()  "
   ]
  },
  {
   "cell_type": "code",
   "execution_count": 25,
   "metadata": {},
   "outputs": [],
   "source": [
    "#########################保存震例结果####################################\n",
    "pred_zhenli_all=pred_zhenli_all.reshape(pred_zhenli_all.shape[0],1)\n",
    "\n",
    "#print(pred_zhenli_all.shape)\n",
    "#print(zhenli_y.shape)\n",
    "\n",
    "tz_result=np.concatenate((zhenli_y,pred_zhenli_all),axis=1)\n",
    "\n",
    "#print(tz_result.shape)\n",
    "\n",
    "data_tz = pd.DataFrame(tz_result) #将数组转换为dataframe结构\n",
    "data_tz.columns=['True M','Pred M']\n",
    "writer_tz = pd.ExcelWriter(r'\\LSTM-Mag\\magtest.xls')   # 写入Excel文件\n",
    "\n",
    "data_tz.to_excel(writer_tz,float_format='%.5f',index=False)   ## ‘page_1’是写入excel的sheet名\n",
    "writer_tz.save()\n",
    "writer_tz.close()\n",
    "#########################保存震例结果####################################"
   ]
  },
  {
   "cell_type": "markdown",
   "metadata": {},
   "source": [
    "# Test on the Chinese strong-ground motion data"
   ]
  },
  {
   "cell_type": "code",
   "execution_count": 26,
   "metadata": {},
   "outputs": [],
   "source": [
    "#在中国地区的应用\n",
    "import scipy.io as scio\n",
    "import pandas as pd\n",
    "\n",
    "#input\n",
    "feature1z_CH = r'\\Chinese strong-ground motion test dataset\\ACC_UD.mat'\n",
    "data1z_CH = scio.loadmat(feature1z_CH)\n",
    "AAz_CH=data1z_CH['ACC_UD']\n",
    "Az_CH=AAz_CH[:,0:300]\n",
    "\n",
    "feature2z_CH = r'\\Chinese strong-ground motion test dataset\\ACC_EW.mat'\n",
    "data2z_CH = scio.loadmat(feature2z_CH)\n",
    "BBz_CH=data2z_CH['ACC_EW']\n",
    "Bz_CH=BBz_CH[:,0:300]\n",
    "\n",
    "feature3z_CH = r'\\Chinese strong-ground motion test dataset\\ACC_NS.mat'\n",
    "data3z_CH = scio.loadmat(feature3z_CH)\n",
    "CCz_CH=data3z_CH['ACC_NS']\n",
    "Cz_CH=CCz_CH[:,0:300]\n",
    "\n",
    "feature4z_CH = r'\\Chinese strong-ground motion test dataset\\VEL_UD.mat'\n",
    "data4z_CH = scio.loadmat(feature4z_CH)\n",
    "DDz_CH=data4z_CH['VEL_UD']\n",
    "Dz_CH=DDz_CH[:,0:300]\n",
    "\n",
    "feature5z_CH = r'\\Chinese strong-ground motion test dataset\\VEL_EW.mat'\n",
    "data5z_CH = scio.loadmat(feature5z_CH)\n",
    "EEz_CH=data5z_CH['VEL_EW']\n",
    "Ez_CH=EEz_CH[:,0:300]\n",
    "\n",
    "feature6z_CH = r'\\Chinese strong-ground motion test dataset\\VEL_NS.mat'\n",
    "data6z_CH = scio.loadmat(feature6z_CH)\n",
    "FFz_CH=data6z_CH['VEL_NS']\n",
    "Fz_CH=FFz_CH[:,0:300]\n",
    "\n",
    "feature7z_CH = r'\\Chinese strong-ground motion test dataset\\DIS_UD.mat'\n",
    "data7z_CH = scio.loadmat(feature7z_CH)\n",
    "GGz_CH=data7z_CH['DIS_UD']\n",
    "Gz_CH=GGz_CH[:,0:300]\n",
    "\n",
    "feature8z_CH = r'\\Chinese strong-ground motion test dataset\\DIS_EW.mat'\n",
    "data8z_CH = scio.loadmat(feature8z_CH)\n",
    "HHz_CH=data8z_CH['DIS_EW']\n",
    "Hz_CH=HHz_CH[:,0:300]\n",
    "\n",
    "feature9z_CH = r'\\Chinese strong-ground motion test dataset\\DIS_NS.mat'\n",
    "data9z_CH = scio.loadmat(feature9z_CH)\n",
    "IIz_CH=data9z_CH['DIS_NS']\n",
    "Iz_CH=IIz_CH[:,0:300]\n",
    "\n",
    "\n",
    "labelz_CH = pd.read_csv(open(r'\\Chinese strong-ground motion test dataset\\lable.csv',encoding='UTF-8'))\n"
   ]
  },
  {
   "cell_type": "code",
   "execution_count": 27,
   "metadata": {},
   "outputs": [],
   "source": [
    "raw_data1z_CH=np.hstack((Az_CH,Bz_CH))\n",
    "x_dataz_CH=np.hstack((raw_data1z_CH,Cz_CH))\n",
    "\n",
    "\n",
    "y_dataz_CH=labelz_CH.iloc[:,[1,3]].values  #知识嵌入\n",
    "#y_data=label.iloc[:,[12]].values    #导入数据  iloc通过行号获取行数据\n",
    "#print(y_dataz_CH[0])\n",
    "#print(y_dataz_CH.shape)"
   ]
  },
  {
   "cell_type": "code",
   "execution_count": 28,
   "metadata": {},
   "outputs": [],
   "source": [
    "zhenli_y_CH=y_dataz_CH[:,[1]] #y_train_lable\n",
    "dis_zhenli_CH=y_dataz_CH[:,[0]] #train_site_distance"
   ]
  },
  {
   "cell_type": "code",
   "execution_count": 29,
   "metadata": {},
   "outputs": [],
   "source": [
    "zhenli_x_CH=[]\n",
    "for i in range(len(x_dataz_CH)):\n",
    "    zhenli_x_CH.append(np.array(x_dataz_CH[i].reshape(3,1,300)).T)"
   ]
  },
  {
   "cell_type": "code",
   "execution_count": 30,
   "metadata": {},
   "outputs": [],
   "source": [
    "zhenli_x_CH=np.array(zhenli_x_CH)\n",
    "zhenli_x_CH = np.reshape(zhenli_x_CH, (zhenli_x_CH.shape[0], 300, 3))"
   ]
  },
  {
   "cell_type": "code",
   "execution_count": 31,
   "metadata": {},
   "outputs": [],
   "source": [
    "pred_zhenli_all_CH = model.predict(zhenli_x_CH).ravel()  ##ravel() 转换成1列"
   ]
  },
  {
   "cell_type": "code",
   "execution_count": 32,
   "metadata": {},
   "outputs": [
    {
     "name": "stdout",
     "output_type": "stream",
     "text": [
      "震例标准差STD= 0.48666690208736724\n",
      "震例误差均值MEAN= 0.18724003937569886\n",
      "震例平均绝对误差MAE= 0.4101273576859787\n",
      "震例RMSE= 0.5214436747461114\n",
      "震例MAPE= 9.448596242862564\n",
      "震例r2 score: 0.5753744955098543\n"
     ]
    },
    {
     "data": {
      "image/png": "[encoded data removed]",
      "text/plain": [
       "<Figure size 360x360 with 1 Axes>"
      ]
     },
     "metadata": {
      "needs_background": "light"
     },
     "output_type": "display_data"
    }
   ],
   "source": [
    "print(\"震例标准差STD=\",np.std(pred_zhenli_all_CH-zhenli_y_CH.ravel()))\n",
    "print(\"震例误差均值MEAN=\",np.mean(pred_zhenli_all_CH-zhenli_y_CH.ravel()))\n",
    "print(\"震例平均绝对误差MAE=\",metrics.mean_absolute_error(pred_zhenli_all_CH, zhenli_y_CH.ravel()))\n",
    "print(\"震例RMSE=\",metrics.mean_squared_error(pred_zhenli_all_CH, zhenli_y_CH.ravel())**0.5)\n",
    "print(\"震例MAPE=\",np.mean(np.abs((zhenli_y_CH.ravel() - pred_zhenli_all_CH) / zhenli_y_CH.ravel())) * 100)\n",
    "print(\"震例r2 score:\", r2_score(zhenli_y_CH.ravel(), pred_zhenli_all_CH))\n",
    "\n",
    "\n",
    "plt.figure(figsize=(5, 5))\n",
    "plt.axis('equal')\n",
    "\n",
    "x3 = np.arange(2.5, 8, 0.01)\n",
    "y3=x3\n",
    "plt.plot(x3, y3, \"black\")\n",
    "plt.plot(zhenli_y_CH.ravel(),pred_zhenli_all_CH,'.')\n",
    "plt.xlim(2.5, 8)\n",
    "plt.ylim(2.5, 8)\n",
    "plt.show()  "
   ]
  },
  {
   "cell_type": "code",
   "execution_count": null,
   "metadata": {},
   "outputs": [],
   "source": []
  },
  {
   "cell_type": "code",
   "execution_count": null,
   "metadata": {},
   "outputs": [],
   "source": []
  },
  {
   "cell_type": "code",
   "execution_count": null,
   "metadata": {},
   "outputs": [],
   "source": []
  }
 ],
 "metadata": {
  "kernelspec": {
   "display_name": "Python 3",
   "language": "python",
   "name": "python3"
  },
  "language_info": {
   "codemirror_mode": {
    "name": "ipython",
    "version": 3
   },
   "file_extension": ".py",
   "mimetype": "text/x-python",
   "name": "python",
   "nbconvert_exporter": "python",
   "pygments_lexer": "ipython3",
   "version": "3.7.0"
  }
 },
 "nbformat": 4,
 "nbformat_minor": 2
}
