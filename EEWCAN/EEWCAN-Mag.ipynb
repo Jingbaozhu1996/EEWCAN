{
 "cells": [
  {
   "cell_type": "markdown",
   "metadata": {},
   "source": [
    "# 1.Import Library"
   ]
  },
  {
   "cell_type": "code",
   "execution_count": 1,
   "metadata": {},
   "outputs": [],
   "source": [
    "import numpy as np\n",
    "import pandas as pd\n",
    "from datetime import date, timedelta\n",
    "import os\n",
    "import random\n",
    "import matplotlib.pyplot as plt\n",
    "from tqdm import tqdm\n",
    "from scipy.stats import skew, kurtosis\n",
    "\n",
    "from sklearn.preprocessing import StandardScaler\n",
    "from sklearn.metrics import mean_squared_error\n",
    "from tensorflow.keras import layers,Sequential,losses,optimizers,datasets\n",
    "\n",
    "import tensorflow as tf\n",
    "from tensorflow import keras\n",
    "from tensorflow.keras.layers import *\n",
    "from tensorflow.keras.models import *\n",
    "from tensorflow.keras.optimizers import *\n",
    "from tensorflow.keras.callbacks import *\n",
    "from tensorflow.keras import backend as K\n",
    "\n",
    "def setup_seed(seed):\n",
    "    random.seed(seed)  # 为python设置随机种子\n",
    "    np.random.seed(seed)  # 为numpy设置随机种子\n",
    "    tf.random.set_seed(seed)  # tf cpu fix seed\n",
    "    os.environ['TF_DETERMINISTIC_OPS'] = '1'  # tf gpu fix seed, please `pip install tensorflow-determinism` first\n",
    "\n",
    "setup_seed(2020)\n",
    "\n",
    "\n",
    "seed = 2020\n",
    "random.seed = 2020\n",
    "np.random.seed = 2020\n",
    "tf.seed = 2020\n",
    "tf.random.set_seed(2020)"
   ]
  },
  {
   "cell_type": "markdown",
   "metadata": {},
   "source": [
    "# 2.Data processing"
   ]
  },
  {
   "cell_type": "code",
   "execution_count": 2,
   "metadata": {},
   "outputs": [],
   "source": [
    "import scipy.io as scio\n",
    "import pandas as pd\n",
    "\n",
    "#input\n",
    "feature1 = r'\\Training dataset\\ACC_UD.mat'\n",
    "data1 = scio.loadmat(feature1)\n",
    "AA=data1['ACC_UD']\n",
    "A=AA[:,0:300]\n",
    "\n",
    "feature2 = r'\\Training dataset\\ACC_EW.mat'\n",
    "data2 = scio.loadmat(feature2)\n",
    "BB=data2['ACC_EW']\n",
    "B=BB[:,0:300]\n",
    "\n",
    "feature3 = r'\\Training dataset\\ACC_NS.mat'\n",
    "data3 = scio.loadmat(feature3)\n",
    "CC=data3['ACC_NS']\n",
    "C=CC[:,0:300]\n",
    "\n",
    "feature4 = r'\\Training dataset\\VEL_UD.mat'\n",
    "data4 = scio.loadmat(feature4)\n",
    "DD=data4['VEL_UD']\n",
    "D=DD[:,0:300]\n",
    "\n",
    "feature5 = r'\\Training dataset\\VEL_EW.mat'\n",
    "data5 = scio.loadmat(feature5)\n",
    "EE=data5['VEL_EW']\n",
    "E=EE[:,0:300]\n",
    "\n",
    "feature6 = r'\\Training dataset\\VEL_NS.mat'\n",
    "data6 = scio.loadmat(feature6)\n",
    "FF=data6['VEL_NS']\n",
    "F=FF[:,0:300]\n",
    "\n",
    "feature7 = r'\\Training dataset\\DIS_UD.mat'\n",
    "data7 = scio.loadmat(feature7)\n",
    "GG=data7['DIS_UD']\n",
    "G=GG[:,0:300]\n",
    "\n",
    "feature8 = r'\\Training dataset\\DIS_EW.mat'\n",
    "data8 = scio.loadmat(feature8)\n",
    "HH=data8['DIS_EW']\n",
    "H=HH[:,0:300]\n",
    "\n",
    "feature9 = r'\\Training dataset\\DIS_NS.mat'\n",
    "data9 = scio.loadmat(feature9)\n",
    "II=data9['DIS_NS']\n",
    "I=II[:,0:300]\n",
    "\n",
    "\n",
    "label = pd.read_csv(open(r'\\Training dataset\\lable.csv',encoding='UTF-8'))\n"
   ]
  },
  {
   "cell_type": "code",
   "execution_count": 3,
   "metadata": {},
   "outputs": [],
   "source": [
    "raw_data1=np.hstack((A,B))\n",
    "raw_data2=np.hstack((raw_data1,C))\n",
    "raw_data3=np.hstack((raw_data2,D))\n",
    "raw_data4=np.hstack((raw_data3,E))\n",
    "raw_data5=np.hstack((raw_data4,F))\n",
    "raw_data6=np.hstack((raw_data5,G))\n",
    "raw_data7=np.hstack((raw_data6,H))\n",
    "train_xx=np.hstack((raw_data7,I))\n",
    "\n",
    "#print(train_xx.shape)\n",
    "\n",
    "\n",
    "y_data=label.iloc[:,[1,3]].values  #知识嵌入\n",
    "#y_data=label.iloc[:,[12]].values    #导入数据  iloc通过行号获取行数据\n",
    "#print(y_data[0])\n",
    "#print(y_data.shape)"
   ]
  },
  {
   "cell_type": "code",
   "execution_count": 4,
   "metadata": {},
   "outputs": [],
   "source": [
    "train_y=y_data[:,[1]] #y_train_lable\n",
    "dis_train=y_data[:,[0]] #train_site_distance\n",
    "\n",
    "\n",
    "#print(train_y.shape)\n",
    "#print(dis_train.shape)\n",
    "\n"
   ]
  },
  {
   "cell_type": "code",
   "execution_count": 5,
   "metadata": {},
   "outputs": [],
   "source": [
    "train_x=[]\n",
    "for i in range(len(train_xx)):\n",
    "    train_x.append(np.array(train_xx[i].reshape(9,1,300)).T)"
   ]
  },
  {
   "cell_type": "code",
   "execution_count": 6,
   "metadata": {},
   "outputs": [],
   "source": [
    "train_dis=[]\n",
    "for i in range(len(dis_train)):\n",
    "    train_dis.append(np.array(dis_train[i].reshape(1,1,1)).T)"
   ]
  },
  {
   "cell_type": "code",
   "execution_count": 7,
   "metadata": {},
   "outputs": [],
   "source": [
    "train_x=np.array(train_x)\n",
    "train_dis=np.array(train_dis)\n",
    "#test_x=np.array(test_x)"
   ]
  },
  {
   "cell_type": "code",
   "execution_count": 8,
   "metadata": {},
   "outputs": [],
   "source": [
    "#3#  ##Reshaping\n",
    "train_x = np.reshape(train_x, (train_x.shape[0], 300, 9))\n",
    "train_dis = np.reshape(train_dis, (train_dis.shape[0], 1, 1))\n",
    "#test_x = np.reshape(test_x, (test_x.shape[0], 300, 9))\n",
    "#print(\"0\",train_x.shape[0])\n",
    "#print(\"1\",train_x.shape[1])\n",
    "#print(train_x.shape)\n",
    "#print(train_x)"
   ]
  },
  {
   "cell_type": "markdown",
   "metadata": {},
   "source": [
    "# 3. EEWCAN-Mag architecture, training and testing"
   ]
  },
  {
   "cell_type": "code",
   "execution_count": 9,
   "metadata": {},
   "outputs": [],
   "source": [
    "from keras import backend as K\n",
    "from keras.engine.topology import Layer\n",
    "class Self_Attention(Layer):\n",
    " \n",
    "    def __init__(self, output_dim, **kwargs):\n",
    "        self.output_dim = output_dim\n",
    "        super(Self_Attention, self).__init__(**kwargs)\n",
    " \n",
    "    def build(self, input_shape):\n",
    "        # 为该层创建一个可训练的权重\n",
    "        #inputs.shape = (batch_size, time_steps, seq_len)\n",
    "        self.kernel = self.add_weight(name='kernel',\n",
    "                                      shape=(3,input_shape[2], self.output_dim),\n",
    "                                      initializer='uniform',\n",
    "                                      trainable=True)\n",
    " \n",
    "        super(Self_Attention, self).build(input_shape)  # 一定要在最后调用它\n",
    " \n",
    "    def call(self, x):\n",
    "        WQ = K.dot(x, self.kernel[0])\n",
    "        WK = K.dot(x, self.kernel[1])\n",
    "        WV = K.dot(x, self.kernel[2])\n",
    " \n",
    "        print(\"WQ.shape\",WQ.shape)\n",
    " \n",
    "        print(\"K.permute_dimensions(WK, [0, 2, 1]).shape\",K.permute_dimensions(WK, [0, 2, 1]).shape)\n",
    " \n",
    " \n",
    "        QK = K.batch_dot(WQ,K.permute_dimensions(WK, [0, 2, 1]))\n",
    " \n",
    "        QK = QK / (64**0.5)\n",
    " \n",
    "        QK = K.softmax(QK)\n",
    " \n",
    "        print(\"QK.shape\",QK.shape)\n",
    " \n",
    "        V = K.batch_dot(QK,WV)\n",
    " \n",
    "        return V\n",
    " \n",
    "    def compute_output_shape(self, input_shape):\n",
    " \n",
    "        return (input_shape[0],input_shape[1],self.output_dim)\n",
    "\n",
    "    def get_config(self):  #在有自定义网络层时，需要保存模型时，重写get_config函数\n",
    "        config = {\"output_dim\": self.output_dim}\n",
    "        base_config = super(Self_Attention, self).get_config()\n",
    "        return dict(list(base_config.items()) + list(config.items()))"
   ]
  },
  {
   "cell_type": "code",
   "execution_count": 10,
   "metadata": {},
   "outputs": [],
   "source": [
    "# 定义一个局部注意力层（适用于序列数据）\n",
    "import tensorflow as tf\n",
    "from tensorflow.keras import layers\n",
    "\n",
    "class LocalAttentionLayer(layers.Layer):\n",
    "    def __init__(self, window_size, units, **kwargs):\n",
    "        super(LocalAttentionLayer, self).__init__(**kwargs)\n",
    "        self.window_size = window_size  # 注意力窗口大小（如5, 7）\n",
    "        self.units = units\n",
    "        \n",
    "        # 局部特征提取层：一维卷积替代全连接，限制感受野为窗口大小\n",
    "        self.conv1 = layers.Conv1D(\n",
    "            filters=units, \n",
    "            kernel_size=window_size, \n",
    "            padding='same',  # 保持序列长度不变\n",
    "            activation='tanh'\n",
    "        )\n",
    "        \n",
    "        # 注意力权重生成层：卷积核为1，输出单通道注意力得分\n",
    "        self.conv2 = layers.Conv1D(\n",
    "            filters=1, \n",
    "            kernel_size=1,  # 仅融合通道信息，不改变空间范围\n",
    "            activation='softmax'  # 窗口内归一化\n",
    "        )\n",
    "        \n",
    "        self.mul = layers.Multiply()\n",
    "\n",
    "    def call(self, inputs, mask=None):\n",
    "        # 输入形状: [batch_size, seq_len, features]\n",
    "        \n",
    "        # Step 1: 通过卷积提取局部特征（窗口内信息）\n",
    "        # 输出形状: [batch_size, seq_len, units]\n",
    "        local_features = self.conv1(inputs)  # 卷积核覆盖窗口大小区域\n",
    "        \n",
    "        # Step 2: 生成局部注意力权重（每个位置仅关注窗口内邻居）\n",
    "        # 输出形状: [batch_size, seq_len, 1]\n",
    "        attention_weights = self.conv2(local_features)  # 窗口内权重归一化\n",
    "        \n",
    "        # Step 3: 加权求和（仅窗口内特征参与）\n",
    "        # 输入与注意力权重逐元素相乘后求和\n",
    "        weighted_sum = self.mul([inputs, attention_weights])\n",
    "        weighted_sum = tf.reduce_sum(weighted_sum, axis=1)  # 形状: [batch_size, features]\n",
    "        \n",
    "        return weighted_sum\n",
    "\n",
    "    def get_config(self):\n",
    "        config = super().get_config()\n",
    "        config.update({\n",
    "            \"window_size\": self.window_size,\n",
    "            \"units\": self.units\n",
    "        })\n",
    "        return config"
   ]
  },
  {
   "cell_type": "code",
   "execution_count": 11,
   "metadata": {},
   "outputs": [],
   "source": [
    "# 定义一个全局注意力层（适用于序列数据）\n",
    "class Attention(Layer):\n",
    "    def __init__(self,**kwargs):\n",
    "        super(Attention,self).__init__(**kwargs)\n",
    " \n",
    "    def build(self,input_shape):\n",
    "        self.weight = self.add_weight(name=\"watt\", shape=(input_shape[-1], 1), initializer=\"normal\")\n",
    "        self.bias = self.add_weight(name=\"batt\", shape=(input_shape[1], 1), initializer=\"zeros\")\n",
    "        super(Attention, self).build(input_shape)\n",
    " \n",
    "    def call(self,x):\n",
    "        att = K.expand_dims(K.softmax(K.squeeze(K.tanh(K.dot(x,self.weight) + self.bias), axis=-1)), axis=-1)\n",
    "        return K.sum(x*att, axis=1)\n",
    " \n",
    "    def compute_output_shape(self,input_shape):\n",
    "        return (input_shape[0], input_shape[-1])\n",
    " \n",
    "    def get_config(self):\n",
    "        return super(Attention,self).get_config()"
   ]
  },
  {
   "cell_type": "code",
   "execution_count": 12,
   "metadata": {},
   "outputs": [],
   "source": [
    "def LocalEncoder(x):\n",
    "    e = Conv1D(32, 3, padding = 'same')(x)\n",
    "    e = ReLU()(e)\n",
    "    e = MaxPooling1D(4, padding='same')(e)\n",
    "    e = Dropout(0.2)(e)\n",
    "    \n",
    "     \n",
    "\n",
    "#    e = Bidirectional(GRU(256, return_sequences=True, dropout=0.0, recurrent_dropout=0.0))(e)\n",
    "    e = Bidirectional(GRU(128, return_sequences=True, dropout=0.0, recurrent_dropout=0.0))(e)\n",
    "    e = Bidirectional(GRU(128, return_sequences=False, dropout=0.0, recurrent_dropout=0.0))(e)\n",
    "    \n",
    "    e = LocalAttentionLayer(128)(e)\n",
    "    \n",
    "    return e\n",
    "    \n",
    "    "
   ]
  },
  {
   "cell_type": "code",
   "execution_count": 13,
   "metadata": {},
   "outputs": [],
   "source": [
    "def GlobalEncoder(x):\n",
    "    e = Conv1D(64, 3, padding = 'same')(x) \n",
    "    e = ReLU()(e)\n",
    "    e = MaxPooling1D(4, padding='same')(e)\n",
    "    e = Dropout(0.2)(e)\n",
    "    \n",
    "\n",
    "    \n",
    "\n",
    "\n",
    "#    e = Bidirectional(GRU(256, return_sequences=True, dropout=0.0, recurrent_dropout=0.0))(e)\n",
    "    e = Bidirectional(GRU(32, return_sequences=True, dropout=0.0, recurrent_dropout=0.0))(e)\n",
    "    e = Bidirectional(GRU(32, return_sequences=True, dropout=0.0, recurrent_dropout=0.0))(e)\n",
    "    \n",
    "    e = Attention()(e)\n",
    "    \n",
    "    return e"
   ]
  },
  {
   "cell_type": "code",
   "execution_count": 14,
   "metadata": {},
   "outputs": [],
   "source": [
    "seed=50\n",
    "#50 17.20 1.32\n",
    "drop_rate = 0.2\n",
    "def get_model():\n",
    "\n",
    "    inp1 = Input(shape=(300, 9), name='input_layer') \n",
    "\n",
    "    x1 = LocalEncoder(inp1)\n",
    "    x2 = GlobalEncoder(inp1)\n",
    "\n",
    "    inp2 = tf.keras.layers.Input(shape=(1,1))   #加入场地放大系数和震中距\n",
    "    x3 = tf.keras.layers.Flatten()(inp2) # 打平层，方便全连接层处理   \n",
    "    \n",
    "    e = tf.keras.layers.Concatenate()([x1,x2,x3])\n",
    "\n",
    "\n",
    "#    e = Dense(256, activation='relu')(concat)#relu\n",
    "    e = Dense(128, activation='relu')(e)#relu\n",
    "    e = Dense(1)(e)\n",
    "    o = Activation('linear', name='output_layer')(e)\n",
    "    \n",
    "\n",
    "    #model = Model([inp_seq, inp_lap, inp_feat], out)  ,inpt2\n",
    "    rms = optimizers.Adam(lr=0.001, beta_1=0.9, beta_2=0.999, epsilon=1e-08)\n",
    "    model = Model([inp1,inp2], o)\n",
    "    model.compile(optimizer = rms, loss = 'mean_squared_error')\n",
    "\n",
    "    return model"
   ]
  },
  {
   "cell_type": "code",
   "execution_count": 15,
   "metadata": {},
   "outputs": [
    {
     "name": "stdout",
     "output_type": "stream",
     "text": [
      "Model: \"functional_1\"\n",
      "__________________________________________________________________________________________________\n",
      "Layer (type)                    Output Shape         Param #     Connected to                     \n",
      "==================================================================================================\n",
      "input_layer (InputLayer)        [(None, 300, 9)]     0                                            \n",
      "__________________________________________________________________________________________________\n",
      "conv1d (Conv1D)                 (None, 300, 32)      896         input_layer[0][0]                \n",
      "__________________________________________________________________________________________________\n",
      "conv1d_1 (Conv1D)               (None, 300, 64)      1792        input_layer[0][0]                \n",
      "__________________________________________________________________________________________________\n",
      "re_lu (ReLU)                    (None, 300, 32)      0           conv1d[0][0]                     \n",
      "__________________________________________________________________________________________________\n",
      "re_lu_1 (ReLU)                  (None, 300, 64)      0           conv1d_1[0][0]                   \n",
      "__________________________________________________________________________________________________\n",
      "max_pooling1d (MaxPooling1D)    (None, 75, 32)       0           re_lu[0][0]                      \n",
      "__________________________________________________________________________________________________\n",
      "max_pooling1d_1 (MaxPooling1D)  (None, 75, 64)       0           re_lu_1[0][0]                    \n",
      "__________________________________________________________________________________________________\n",
      "dropout (Dropout)               (None, 75, 32)       0           max_pooling1d[0][0]              \n",
      "__________________________________________________________________________________________________\n",
      "dropout_1 (Dropout)             (None, 75, 64)       0           max_pooling1d_1[0][0]            \n",
      "__________________________________________________________________________________________________\n",
      "bidirectional (Bidirectional)   (None, 75, 256)      124416      dropout[0][0]                    \n",
      "__________________________________________________________________________________________________\n",
      "bidirectional_2 (Bidirectional) (None, 75, 64)       18816       dropout_1[0][0]                  \n",
      "__________________________________________________________________________________________________\n",
      "bidirectional_1 (Bidirectional) (None, 256)          296448      bidirectional[0][0]              \n",
      "__________________________________________________________________________________________________\n",
      "bidirectional_3 (Bidirectional) (None, 75, 64)       18816       bidirectional_2[0][0]            \n",
      "__________________________________________________________________________________________________\n",
      "input_1 (InputLayer)            [(None, 1, 1)]       0                                            \n",
      "__________________________________________________________________________________________________\n",
      "local_attention_layer (LocalAtt (None, 256)          33025       bidirectional_1[0][0]            \n",
      "__________________________________________________________________________________________________\n",
      "attention (Attention)           (None, 64)           139         bidirectional_3[0][0]            \n",
      "__________________________________________________________________________________________________\n",
      "flatten (Flatten)               (None, 1)            0           input_1[0][0]                    \n",
      "__________________________________________________________________________________________________\n",
      "concatenate (Concatenate)       (None, 321)          0           local_attention_layer[0][0]      \n",
      "                                                                 attention[0][0]                  \n",
      "                                                                 flatten[0][0]                    \n",
      "__________________________________________________________________________________________________\n",
      "dense_2 (Dense)                 (None, 128)          41216       concatenate[0][0]                \n",
      "__________________________________________________________________________________________________\n",
      "dense_3 (Dense)                 (None, 1)            129         dense_2[0][0]                    \n",
      "__________________________________________________________________________________________________\n",
      "output_layer (Activation)       (None, 1)            0           dense_3[0][0]                    \n",
      "==================================================================================================\n",
      "Total params: 535,693\n",
      "Trainable params: 535,693\n",
      "Non-trainable params: 0\n",
      "__________________________________________________________________________________________________\n"
     ]
    }
   ],
   "source": [
    "model = get_model()\n",
    "model.summary() "
   ]
  },
  {
   "cell_type": "code",
   "execution_count": 16,
   "metadata": {},
   "outputs": [
    {
     "name": "stdout",
     "output_type": "stream",
     "text": [
      "Epoch 1/300\n",
      "162/162 [==============================] - 27s 169ms/step - loss: 1.2107 - val_loss: 0.4153\n",
      "Epoch 2/300\n",
      "162/162 [==============================] - 31s 190ms/step - loss: 0.3394 - val_loss: 0.3612\n",
      "Epoch 3/300\n",
      "162/162 [==============================] - 31s 191ms/step - loss: 0.2795 - val_loss: 0.2692\n",
      "Epoch 4/300\n",
      "162/162 [==============================] - 31s 194ms/step - loss: 0.2305 - val_loss: 0.2123\n",
      "Epoch 5/300\n",
      "162/162 [==============================] - 31s 193ms/step - loss: 0.2030 - val_loss: 0.1882\n",
      "Epoch 6/300\n",
      "162/162 [==============================] - 31s 191ms/step - loss: 0.1718 - val_loss: 0.1705\n",
      "Epoch 7/300\n",
      "162/162 [==============================] - 31s 191ms/step - loss: 0.1526 - val_loss: 0.1518\n",
      "Epoch 8/300\n",
      "162/162 [==============================] - 31s 191ms/step - loss: 0.1421 - val_loss: 0.1365\n",
      "Epoch 9/300\n",
      "162/162 [==============================] - 31s 191ms/step - loss: 0.1375 - val_loss: 0.1437\n",
      "Epoch 10/300\n",
      "162/162 [==============================] - 31s 191ms/step - loss: 0.1334 - val_loss: 0.1659\n",
      "Epoch 11/300\n",
      "162/162 [==============================] - 31s 192ms/step - loss: 0.1268 - val_loss: 0.1277\n",
      "Epoch 12/300\n",
      "162/162 [==============================] - 31s 191ms/step - loss: 0.1230 - val_loss: 0.1261\n",
      "Epoch 13/300\n",
      "162/162 [==============================] - 31s 191ms/step - loss: 0.1207 - val_loss: 0.1308\n",
      "Epoch 14/300\n",
      "162/162 [==============================] - 31s 191ms/step - loss: 0.1213 - val_loss: 0.1216\n",
      "Epoch 15/300\n",
      "162/162 [==============================] - 31s 191ms/step - loss: 0.1170 - val_loss: 0.1256\n",
      "Epoch 16/300\n",
      "162/162 [==============================] - 31s 191ms/step - loss: 0.1138 - val_loss: 0.1253\n",
      "Epoch 17/300\n",
      "162/162 [==============================] - 31s 191ms/step - loss: 0.1128 - val_loss: 0.1377\n",
      "Epoch 18/300\n",
      "162/162 [==============================] - 32s 195ms/step - loss: 0.1123 - val_loss: 0.1577\n",
      "Epoch 19/300\n",
      "162/162 [==============================] - 32s 195ms/step - loss: 0.1102 - val_loss: 0.1138\n",
      "Epoch 20/300\n",
      "162/162 [==============================] - 31s 191ms/step - loss: 0.1067 - val_loss: 0.1113\n",
      "Epoch 21/300\n",
      "162/162 [==============================] - 31s 191ms/step - loss: 0.1053 - val_loss: 0.1229\n",
      "Epoch 22/300\n",
      "162/162 [==============================] - 31s 191ms/step - loss: 0.1030 - val_loss: 0.1154\n",
      "Epoch 23/300\n",
      "162/162 [==============================] - 31s 192ms/step - loss: 0.1009 - val_loss: 0.1319\n",
      "Epoch 24/300\n",
      "162/162 [==============================] - 31s 191ms/step - loss: 0.0982 - val_loss: 0.1171\n",
      "Epoch 25/300\n",
      "162/162 [==============================] - 31s 191ms/step - loss: 0.0998 - val_loss: 0.1090\n",
      "Epoch 26/300\n",
      "162/162 [==============================] - 31s 191ms/step - loss: 0.0979 - val_loss: 0.1032\n",
      "Epoch 27/300\n",
      "162/162 [==============================] - 31s 191ms/step - loss: 0.0946 - val_loss: 0.1005\n",
      "Epoch 28/300\n",
      "162/162 [==============================] - 31s 191ms/step - loss: 0.0936 - val_loss: 0.1024\n",
      "Epoch 29/300\n",
      "162/162 [==============================] - 31s 191ms/step - loss: 0.0924 - val_loss: 0.1072\n",
      "Epoch 30/300\n",
      "162/162 [==============================] - 31s 191ms/step - loss: 0.0903 - val_loss: 0.0992\n",
      "Epoch 31/300\n",
      "162/162 [==============================] - 31s 191ms/step - loss: 0.0898 - val_loss: 0.1051\n",
      "Epoch 32/300\n",
      "162/162 [==============================] - 31s 191ms/step - loss: 0.0892 - val_loss: 0.1003\n",
      "Epoch 33/300\n",
      "162/162 [==============================] - 31s 191ms/step - loss: 0.0882 - val_loss: 0.0985\n",
      "Epoch 34/300\n",
      "162/162 [==============================] - 31s 191ms/step - loss: 0.0856 - val_loss: 0.0947\n",
      "Epoch 35/300\n",
      "162/162 [==============================] - 31s 191ms/step - loss: 0.0861 - val_loss: 0.0981\n",
      "Epoch 36/300\n",
      "162/162 [==============================] - 31s 193ms/step - loss: 0.0836 - val_loss: 0.0994\n",
      "Epoch 37/300\n",
      "162/162 [==============================] - 31s 191ms/step - loss: 0.0835 - val_loss: 0.0949\n",
      "Epoch 38/300\n",
      "162/162 [==============================] - 31s 192ms/step - loss: 0.0819 - val_loss: 0.1004\n",
      "Epoch 39/300\n",
      "162/162 [==============================] - 31s 192ms/step - loss: 0.0807 - val_loss: 0.0938\n",
      "Epoch 40/300\n",
      "162/162 [==============================] - 31s 191ms/step - loss: 0.0813 - val_loss: 0.0907\n",
      "Epoch 41/300\n",
      "162/162 [==============================] - 31s 191ms/step - loss: 0.0791 - val_loss: 0.0959\n",
      "Epoch 42/300\n",
      "162/162 [==============================] - 31s 191ms/step - loss: 0.0793 - val_loss: 0.0916\n",
      "Epoch 43/300\n",
      "162/162 [==============================] - 31s 191ms/step - loss: 0.0784 - val_loss: 0.0893\n",
      "Epoch 44/300\n",
      "162/162 [==============================] - 31s 191ms/step - loss: 0.0767 - val_loss: 0.1184\n",
      "Epoch 45/300\n",
      "162/162 [==============================] - 31s 191ms/step - loss: 0.0777 - val_loss: 0.0930\n",
      "Epoch 46/300\n",
      "162/162 [==============================] - 31s 191ms/step - loss: 0.0751 - val_loss: 0.0902\n",
      "Epoch 47/300\n",
      "162/162 [==============================] - 31s 193ms/step - loss: 0.0759 - val_loss: 0.0920\n",
      "Epoch 48/300\n",
      "162/162 [==============================] - 31s 191ms/step - loss: 0.0741 - val_loss: 0.0970\n",
      "Epoch 49/300\n",
      "162/162 [==============================] - 31s 191ms/step - loss: 0.0664 - val_loss: 0.0851\n",
      "Epoch 50/300\n",
      "162/162 [==============================] - 31s 191ms/step - loss: 0.0649 - val_loss: 0.0854\n",
      "Epoch 51/300\n",
      "162/162 [==============================] - 31s 191ms/step - loss: 0.0644 - val_loss: 0.0856\n",
      "Epoch 52/300\n",
      "162/162 [==============================] - 31s 191ms/step - loss: 0.0640 - val_loss: 0.0871\n",
      "Epoch 53/300\n",
      "162/162 [==============================] - 31s 192ms/step - loss: 0.0643 - val_loss: 0.0850\n",
      "Epoch 54/300\n",
      "162/162 [==============================] - 31s 191ms/step - loss: 0.0638 - val_loss: 0.0885\n",
      "Epoch 55/300\n",
      "162/162 [==============================] - 31s 191ms/step - loss: 0.0629 - val_loss: 0.0859\n",
      "Epoch 56/300\n",
      "162/162 [==============================] - 31s 191ms/step - loss: 0.0629 - val_loss: 0.0859\n",
      "Epoch 57/300\n",
      "162/162 [==============================] - 31s 191ms/step - loss: 0.0626 - val_loss: 0.0863\n",
      "Epoch 58/300\n",
      "162/162 [==============================] - 31s 192ms/step - loss: 0.0629 - val_loss: 0.0856\n",
      "Epoch 59/300\n",
      "162/162 [==============================] - 31s 191ms/step - loss: 0.0625 - val_loss: 0.0857\n",
      "Epoch 60/300\n",
      "162/162 [==============================] - 31s 193ms/step - loss: 0.0627 - val_loss: 0.0857\n",
      "Epoch 61/300\n",
      "162/162 [==============================] - 31s 193ms/step - loss: 0.0626 - val_loss: 0.0858\n",
      "Epoch 62/300\n",
      "162/162 [==============================] - 31s 192ms/step - loss: 0.0624 - val_loss: 0.0858\n",
      "Epoch 63/300\n",
      "162/162 [==============================] - 31s 191ms/step - loss: 0.0625 - val_loss: 0.0858\n"
     ]
    }
   ],
   "source": [
    "from keras.callbacks import EarlyStopping\n",
    "from keras.callbacks import ReduceLROnPlateau\n",
    "lr_reducer = ReduceLROnPlateau(monitor=\"val_loss\",\n",
    "                               factor=0.1,\n",
    "                                cooldown= 0,\n",
    "                                patience= 5,\n",
    "                                min_lr=0.1e-7)\n",
    "early_stopping_monitor = EarlyStopping(monitor= 'val_loss', patience = 10) #10  17.20 1.32\n",
    "callbacks = [lr_reducer, early_stopping_monitor]\n",
    "\n",
    "\n",
    "\n",
    "\n",
    "model = get_model()\n",
    "history=model.fit([train_x,train_dis], train_y, epochs=300, batch_size=256,  \n",
    "            validation_split=0.1, callbacks=callbacks)  #256 ,train_physics  ,test_physics ,train_physics\n",
    "\n",
    "pred_train_all = model.predict([train_x,train_dis]).ravel()\n",
    "#pred_test_all = model.predict(test_x).ravel()  ##ravel() 转换成1列\n",
    "\n",
    "\n",
    "#pred_valid_all = scaler_seq.inverse_transform(pred_valid_all)\n",
    "#reverse_valid = scaler_seq.inverse_transform(y_valid)\n",
    "#pred_test_all = scaler_seq.inverse_transform(pred_test_all)\n",
    "#reverse_test = scaler_seq.inverse_transform(y_test)"
   ]
  },
  {
   "cell_type": "code",
   "execution_count": 17,
   "metadata": {},
   "outputs": [],
   "source": [
    "# 保存权重（推荐方式）\n",
    "model.save_weights(\"EEWCAN_Mag_weights.h5\")  # HDF5格式"
   ]
  },
  {
   "cell_type": "code",
   "execution_count": 19,
   "metadata": {},
   "outputs": [
    {
     "data": {
      "text/plain": [
       "Text(0, 0.5, 'Loss')"
      ]
     },
     "execution_count": 19,
     "metadata": {},
     "output_type": "execute_result"
    },
    {
     "data": {
      "image/png": "[encoded data removed]",
      "text/plain": [
       "<Figure size 576x432 with 1 Axes>"
      ]
     },
     "metadata": {
      "needs_background": "light"
     },
     "output_type": "display_data"
    }
   ],
   "source": [
    "from matplotlib.pyplot import plot,savefig\n",
    "loss = history.history['loss']\n",
    "val_loss = history.history['val_loss']\n",
    "epoch = range(1,len(loss)+1)\n",
    "plt.figure(figsize=(8, 6))\n",
    "\n",
    "#plt.semilogy(epoch,loss, color=\"red\",label='Training loss')\n",
    "#plt.semilogy(epoch, val_loss,color=\"blue\", label='Validation loss')\n",
    "\n",
    "plt.plot(epoch,loss, color=\"red\",label='Training loss')\n",
    "plt.plot(epoch, val_loss,color=\"blue\", label='Validation loss')\n",
    "\n",
    "\n",
    "plt.legend()\n",
    "plt.title('Training and validation loss')\n",
    "plt.xlabel('Epochs')\n",
    "plt.ylabel('Loss')"
   ]
  },
  {
   "cell_type": "code",
   "execution_count": 18,
   "metadata": {},
   "outputs": [
    {
     "name": "stdout",
     "output_type": "stream",
     "text": [
      "(63, 1)\n",
      "(63, 1)\n",
      "(63, 1)\n",
      "(63, 3)\n"
     ]
    }
   ],
   "source": [
    "loss=np.array(loss)\n",
    "val_loss=np.array(val_loss)\n",
    "epoch=np.array(epoch)\n",
    "\n",
    "loss=loss.reshape(loss.shape[0],1)\n",
    "val_loss=val_loss.reshape(val_loss.shape[0],1)\n",
    "epoch=epoch.reshape(epoch.shape[0],1)\n",
    "\n",
    "loss_zong=np.concatenate((epoch,loss,val_loss),axis=1)\n",
    "\n",
    "\n",
    "print(epoch.shape)\n",
    "print(val_loss.shape)\n",
    "print(loss.shape)\n",
    "print(loss_zong.shape)\n",
    "\n",
    "data_loss = pd.DataFrame(loss_zong) #将数组转换为dataframe结构\n",
    "data_loss.columns=['epoch','loss','val_loss']\n",
    "writer_loss = pd.ExcelWriter(r'\\EEWCAN\\Magloss.xls')   # 写入Excel文件\n",
    "\n",
    "data_loss.to_excel(writer_loss,float_format='%.5f',index=False)   ## ‘page_1’是写入excel的sheet名\n",
    "writer_loss.save()\n",
    "writer_loss.close()"
   ]
  },
  {
   "cell_type": "markdown",
   "metadata": {},
   "source": [
    "# 4.Model memory"
   ]
  },
  {
   "cell_type": "code",
   "execution_count": 18,
   "metadata": {},
   "outputs": [
    {
     "name": "stdout",
     "output_type": "stream",
     "text": [
      "Model size (MB): 2.043506622314453\n"
     ]
    }
   ],
   "source": [
    "def get_model_size_mb(model):\n",
    "    params = model.count_params()\n",
    "    # 假设所有参数为float32（4字节）\n",
    "    size_mb = params * 4 / 1024**2\n",
    "    return size_mb\n",
    " \n",
    "print(\"Model size (MB):\", get_model_size_mb(model))"
   ]
  },
  {
   "cell_type": "markdown",
   "metadata": {},
   "source": [
    "# 5. Training results"
   ]
  },
  {
   "cell_type": "code",
   "execution_count": 20,
   "metadata": {
    "scrolled": true
   },
   "outputs": [
    {
     "name": "stdout",
     "output_type": "stream",
     "text": [
      "训练标准差STD= 0.24900837748565613\n",
      "训练误差均值MEAN= -0.020452953675030746\n",
      "训练平均绝对误差MAE= 0.186720284131278\n",
      "训练RMSE= 0.24984694389179943\n",
      "训练MAPE= 4.336475244353982\n",
      "训练r2 score: 0.9390880976122641\n"
     ]
    },
    {
     "data": {
      "image/png": "[encoded data removed]",
      "text/plain": [
       "<Figure size 360x360 with 1 Axes>"
      ]
     },
     "metadata": {
      "needs_background": "light"
     },
     "output_type": "display_data"
    }
   ],
   "source": [
    "from sklearn import metrics\n",
    "from sklearn.metrics import r2_score\n",
    "print(\"训练标准差STD=\",np.std(pred_train_all-train_y.ravel()))\n",
    "print(\"训练误差均值MEAN=\",np.mean(pred_train_all-train_y.ravel()))\n",
    "print(\"训练平均绝对误差MAE=\",metrics.mean_absolute_error(pred_train_all, train_y.ravel()))\n",
    "print(\"训练RMSE=\",metrics.mean_squared_error(pred_train_all, train_y.ravel())**0.5)\n",
    "print(\"训练MAPE=\",np.mean(np.abs((train_y.ravel() - pred_train_all) / train_y.ravel())) * 100)\n",
    "print(\"训练r2 score:\", r2_score(train_y.ravel(), pred_train_all))\n",
    "\n",
    "\n",
    "plt.figure(figsize=(5, 5))\n",
    "plt.axis('equal')\n",
    "\n",
    "x3 = np.arange(2.5, 8, 0.01)\n",
    "y3=x3\n",
    "plt.plot(x3, y3, \"black\")\n",
    "plt.plot(train_y.ravel(),pred_train_all,'.')\n",
    "plt.xlim(2.5, 8)\n",
    "plt.ylim(2.5, 8)\n",
    "plt.show()"
   ]
  },
  {
   "cell_type": "code",
   "execution_count": 21,
   "metadata": {},
   "outputs": [],
   "source": [
    "#########################保存训练结果####################################\n",
    "pred_train_all=pred_train_all.reshape(pred_train_all.shape[0],1)\n",
    "\n",
    "#y_score_tr=y_score_tr.reshape(y_score_tr.shape[0],1)\n",
    "#print(pred_train_all.shape)\n",
    "#print(train_y.shape)\n",
    "\n",
    "tr_result=np.concatenate((train_y,pred_train_all),axis=1)\n",
    "\n",
    "#print(tr_result.shape)\n",
    "\n",
    "data_tr = pd.DataFrame(tr_result) #将数组转换为dataframe结构\n",
    "data_tr.columns=['True M','Pred M']\n",
    "writer_tr = pd.ExcelWriter(r'\\EEWCAN\\Magtrain.xls')   # 写入Excel文件\n",
    "\n",
    "data_tr.to_excel(writer_tr,float_format='%.5f',index=False)   ## ‘page_1’是写入excel的sheet名\n",
    "writer_tr.save()\n",
    "writer_tr.close()\n",
    "#########################保存训练结果####################################"
   ]
  },
  {
   "cell_type": "markdown",
   "metadata": {},
   "source": [
    "# 6. Test Results"
   ]
  },
  {
   "cell_type": "code",
   "execution_count": 22,
   "metadata": {},
   "outputs": [],
   "source": [
    "#震例\n",
    "import scipy.io as scio\n",
    "import pandas as pd\n",
    "\n",
    "#input\n",
    "feature1z = r'\\Test dataset\\ACC_UD.mat'\n",
    "data1z = scio.loadmat(feature1z)\n",
    "AAz=data1z['ACC_UD']\n",
    "Az=AAz[:,0:300]\n",
    "\n",
    "feature2z = r'\\Test dataset\\ACC_EW.mat'\n",
    "data2z = scio.loadmat(feature2z)\n",
    "BBz=data2z['ACC_EW']\n",
    "Bz=BBz[:,0:300]\n",
    "\n",
    "feature3z = r'\\Test dataset\\ACC_NS.mat'\n",
    "data3z = scio.loadmat(feature3z)\n",
    "CCz=data3z['ACC_NS']\n",
    "Cz=CCz[:,0:300]\n",
    "\n",
    "feature4z = r'\\Test dataset\\VEL_UD.mat'\n",
    "data4z = scio.loadmat(feature4z)\n",
    "DDz=data4z['VEL_UD']\n",
    "Dz=DDz[:,0:300]\n",
    "\n",
    "feature5z = r'\\Test dataset\\VEL_EW.mat'\n",
    "data5z = scio.loadmat(feature5z)\n",
    "EEz=data5z['VEL_EW']\n",
    "Ez=EEz[:,0:300]\n",
    "\n",
    "feature6z = r'\\Test dataset\\VEL_NS.mat'\n",
    "data6z = scio.loadmat(feature6z)\n",
    "FFz=data6z['VEL_NS']\n",
    "Fz=FFz[:,0:300]\n",
    "\n",
    "feature7z = r'\\Test dataset\\DIS_UD.mat'\n",
    "data7z = scio.loadmat(feature7z)\n",
    "GGz=data7z['DIS_UD']\n",
    "Gz=GGz[:,0:300]\n",
    "\n",
    "feature8z = r'\\Test dataset\\DIS_EW.mat'\n",
    "data8z = scio.loadmat(feature8z)\n",
    "HHz=data8z['DIS_EW']\n",
    "Hz=HHz[:,0:300]\n",
    "\n",
    "feature9z = r'\\Test dataset\\DIS_NS.mat'\n",
    "data9z = scio.loadmat(feature9z)\n",
    "IIz=data9z['DIS_NS']\n",
    "Iz=IIz[:,0:300]\n",
    "\n",
    "\n",
    "labelz = pd.read_csv(open(r'\\Test dataset\\lable.csv',encoding='UTF-8'))\n"
   ]
  },
  {
   "cell_type": "code",
   "execution_count": 23,
   "metadata": {},
   "outputs": [],
   "source": [
    "raw_data1z=np.hstack((Az,Bz))\n",
    "raw_data2z=np.hstack((raw_data1z,Cz))\n",
    "raw_data3z=np.hstack((raw_data2z,Dz))\n",
    "raw_data4z=np.hstack((raw_data3z,Ez))\n",
    "raw_data5z=np.hstack((raw_data4z,Fz))\n",
    "raw_data6z=np.hstack((raw_data5z,Gz))\n",
    "raw_data7z=np.hstack((raw_data6z,Hz))\n",
    "x_dataz=np.hstack((raw_data7z,Iz))\n",
    "\n",
    "y_dataz=labelz.iloc[:,[2,3]].values  #知识嵌入\n",
    "#y_data=label.iloc[:,[12]].values    #导入数据  iloc通过行号获取行数据\n",
    "#print(y_dataz[0])\n",
    "#print(y_dataz.shape)"
   ]
  },
  {
   "cell_type": "code",
   "execution_count": 24,
   "metadata": {},
   "outputs": [],
   "source": [
    "zhenli_y=y_dataz[:,[1]] #y_train_lable\n",
    "dis_zhenli=y_dataz[:,[0]] #train_site_distance\n",
    "\n"
   ]
  },
  {
   "cell_type": "code",
   "execution_count": 25,
   "metadata": {},
   "outputs": [],
   "source": [
    "zhenli_x=[]\n",
    "for i in range(len(x_dataz)):\n",
    "    zhenli_x.append(np.array(x_dataz[i].reshape(9,1,300)).T)"
   ]
  },
  {
   "cell_type": "code",
   "execution_count": 26,
   "metadata": {},
   "outputs": [],
   "source": [
    "zhenli_dis=[]\n",
    "for i in range(len(dis_zhenli)):\n",
    "    zhenli_dis.append(np.array(dis_zhenli[i].reshape(1,1,1)).T)\n",
    "\n"
   ]
  },
  {
   "cell_type": "code",
   "execution_count": 27,
   "metadata": {},
   "outputs": [],
   "source": [
    "zhenli_x=np.array(zhenli_x)\n",
    "zhenli_dis=np.array(zhenli_dis)"
   ]
  },
  {
   "cell_type": "code",
   "execution_count": 28,
   "metadata": {},
   "outputs": [],
   "source": [
    "zhenli_x = np.reshape(zhenli_x, (zhenli_x.shape[0], 300, 9))\n",
    "zhenli_dis = np.reshape(zhenli_dis, (zhenli_dis.shape[0], 1, 1))"
   ]
  },
  {
   "cell_type": "code",
   "execution_count": 29,
   "metadata": {
    "scrolled": true
   },
   "outputs": [
    {
     "name": "stdout",
     "output_type": "stream",
     "text": [
      "震例标准差STD= 0.3305882985907964\n",
      "震例误差均值MEAN= -0.07391078100801379\n",
      "震例平均绝对误差MAE= 0.25794204210610366\n",
      "震例RMSE= 0.33874979957834983\n",
      "震例MAPE= 6.001308312152702\n",
      "震例r2 score: 0.8807117179380876\n"
     ]
    },
    {
     "data": {
      "image/png": "[encoded data removed]",
      "text/plain": [
       "<Figure size 360x360 with 1 Axes>"
      ]
     },
     "metadata": {
      "needs_background": "light"
     },
     "output_type": "display_data"
    }
   ],
   "source": [
    "pred_zhenli_all = model.predict([zhenli_x,zhenli_dis]).ravel()  ##ravel() 转换成1列\n",
    "print(\"震例标准差STD=\",np.std(pred_zhenli_all-zhenli_y.ravel()))\n",
    "print(\"震例误差均值MEAN=\",np.mean(pred_zhenli_all-zhenli_y.ravel()))\n",
    "print(\"震例平均绝对误差MAE=\",metrics.mean_absolute_error(pred_zhenli_all, zhenli_y.ravel()))\n",
    "print(\"震例RMSE=\",metrics.mean_squared_error(pred_zhenli_all, zhenli_y.ravel())**0.5)\n",
    "print(\"震例MAPE=\",np.mean(np.abs((zhenli_y.ravel() - pred_zhenli_all) / zhenli_y.ravel())) * 100)\n",
    "print(\"震例r2 score:\", r2_score(zhenli_y.ravel(), pred_zhenli_all))\n",
    "\n",
    "\n",
    "plt.figure(figsize=(5, 5))\n",
    "plt.axis('equal')\n",
    "\n",
    "x3 = np.arange(2.5, 8, 0.01)\n",
    "y3=x3\n",
    "plt.plot(x3, y3, \"black\")\n",
    "plt.plot(zhenli_y.ravel(),pred_zhenli_all,'.')\n",
    "plt.xlim(2.5, 8)\n",
    "plt.ylim(2.5, 8)\n",
    "plt.show()  "
   ]
  },
  {
   "cell_type": "code",
   "execution_count": 30,
   "metadata": {},
   "outputs": [],
   "source": [
    "#########################保存震例结果####################################\n",
    "pred_zhenli_all=pred_zhenli_all.reshape(pred_zhenli_all.shape[0],1)\n",
    "\n",
    "#print(pred_zhenli_all.shape)\n",
    "#print(zhenli_y.shape)\n",
    "\n",
    "tz_result=np.concatenate((zhenli_y,pred_zhenli_all),axis=1)\n",
    "\n",
    "#print(tz_result.shape)\n",
    "\n",
    "data_tz = pd.DataFrame(tz_result) #将数组转换为dataframe结构\n",
    "data_tz.columns=['True M','Pred M']\n",
    "writer_tz = pd.ExcelWriter(r'\\EEWCAN\\Magtest.xls')   # 写入Excel文件\n",
    "\n",
    "data_tz.to_excel(writer_tz,float_format='%.5f',index=False)   ## ‘page_1’是写入excel的sheet名\n",
    "writer_tz.save()\n",
    "writer_tz.close()\n",
    "#########################保存震例结果####################################"
   ]
  },
  {
   "cell_type": "markdown",
   "metadata": {},
   "source": [
    "# 7.Inference latency for each sample"
   ]
  },
  {
   "cell_type": "code",
   "execution_count": 27,
   "metadata": {},
   "outputs": [
    {
     "name": "stdout",
     "output_type": "stream",
     "text": [
      "(1, 300, 9)\n",
      "(1, 1)\n"
     ]
    }
   ],
   "source": [
    "zhenli_x1=zhenli_x[0]\n",
    "zhenli_x1=zhenli_x1.reshape(1, 300, 9)\n",
    "\n",
    "zhenli_dis1=zhenli_dis[0]\n",
    "zhenli_dis1=zhenli_dis1.reshape(1,1)\n",
    "print(zhenli_x1.shape)\n",
    "print(zhenli_dis1.shape)"
   ]
  },
  {
   "cell_type": "code",
   "execution_count": 29,
   "metadata": {},
   "outputs": [
    {
     "name": "stdout",
     "output_type": "stream",
     "text": [
      "Elapsed time: 73.15 ms\n"
     ]
    }
   ],
   "source": [
    "import time\n",
    "start_time = time.perf_counter()  # 记录开始时间\n",
    "pred_zhenli_all = model.predict([zhenli_x1,zhenli_dis1]).ravel()  ##ravel() 转换成1列\n",
    "end_time = time.perf_counter()  # 记录结束时间\n",
    "elapsed_time_ms = (end_time - start_time) * 1000  # 转换为毫秒\n",
    "print(f\"Elapsed time: {elapsed_time_ms:.2f} ms\")"
   ]
  },
  {
   "cell_type": "markdown",
   "metadata": {},
   "source": [
    "# 8. Test on the Chinese strong-ground motion data"
   ]
  },
  {
   "cell_type": "code",
   "execution_count": 31,
   "metadata": {},
   "outputs": [],
   "source": [
    "#中国地区应用\n",
    "import scipy.io as scio\n",
    "import pandas as pd\n",
    "\n",
    "#input\n",
    "feature1z_CH = r'\\Chinese strong-ground motion test dataset\\ACC_UD.mat'\n",
    "data1z_CH = scio.loadmat(feature1z_CH)\n",
    "AAz_CH=data1z_CH['ACC_UD']\n",
    "Az_CH=AAz_CH[:,0:300]\n",
    "\n",
    "feature2z_CH = r'\\Chinese strong-ground motion test dataset\\ACC_EW.mat'\n",
    "data2z_CH = scio.loadmat(feature2z_CH)\n",
    "BBz_CH=data2z_CH['ACC_EW']\n",
    "Bz_CH=BBz_CH[:,0:300]\n",
    "\n",
    "feature3z_CH = r'\\Chinese strong-ground motion test dataset\\ACC_NS.mat'\n",
    "data3z_CH = scio.loadmat(feature3z_CH)\n",
    "CCz_CH=data3z_CH['ACC_NS']\n",
    "Cz_CH=CCz_CH[:,0:300]\n",
    "\n",
    "feature4z_CH = r'\\Chinese strong-ground motion test dataset\\VEL_UD.mat'\n",
    "data4z_CH = scio.loadmat(feature4z_CH)\n",
    "DDz_CH=data4z_CH['VEL_UD']\n",
    "Dz_CH=DDz_CH[:,0:300]\n",
    "\n",
    "feature5z_CH = r'\\Chinese strong-ground motion test dataset\\VEL_EW.mat'\n",
    "data5z_CH = scio.loadmat(feature5z_CH)\n",
    "EEz_CH=data5z_CH['VEL_EW']\n",
    "Ez_CH=EEz_CH[:,0:300]\n",
    "\n",
    "feature6z_CH = r'\\Chinese strong-ground motion test dataset\\VEL_NS.mat'\n",
    "data6z_CH = scio.loadmat(feature6z_CH)\n",
    "FFz_CH=data6z_CH['VEL_NS']\n",
    "Fz_CH=FFz_CH[:,0:300]\n",
    "\n",
    "feature7z_CH = r'\\Chinese strong-ground motion test dataset\\DIS_UD.mat'\n",
    "data7z_CH = scio.loadmat(feature7z_CH)\n",
    "GGz_CH=data7z_CH['DIS_UD']\n",
    "Gz_CH=GGz_CH[:,0:300]\n",
    "\n",
    "feature8z_CH = r'\\Chinese strong-ground motion test dataset\\DIS_EW.mat'\n",
    "data8z_CH = scio.loadmat(feature8z_CH)\n",
    "HHz_CH=data8z_CH['DIS_EW']\n",
    "Hz_CH=HHz_CH[:,0:300]\n",
    "\n",
    "feature9z_CH = r'\\Chinese strong-ground motion test dataset\\DIS_NS.mat'\n",
    "data9z_CH = scio.loadmat(feature9z_CH)\n",
    "IIz_CH=data9z_CH['DIS_NS']\n",
    "Iz_CH=IIz_CH[:,0:300]\n",
    "\n",
    "\n",
    "labelz_CH = pd.read_csv(open(r'\\Chinese strong-ground motion test dataset\\lable.csv',encoding='UTF-8'))"
   ]
  },
  {
   "cell_type": "code",
   "execution_count": 32,
   "metadata": {},
   "outputs": [],
   "source": [
    "raw_data1z_CH=np.hstack((Az_CH,Bz_CH))\n",
    "raw_data2z_CH=np.hstack((raw_data1z_CH,Cz_CH))\n",
    "raw_data3z_CH=np.hstack((raw_data2z_CH,Dz_CH))\n",
    "raw_data4z_CH=np.hstack((raw_data3z_CH,Ez_CH))\n",
    "raw_data5z_CH=np.hstack((raw_data4z_CH,Fz_CH))\n",
    "raw_data6z_CH=np.hstack((raw_data5z_CH,Gz_CH))\n",
    "raw_data7z_CH=np.hstack((raw_data6z_CH,Hz_CH))\n",
    "x_dataz_CH=np.hstack((raw_data7z_CH,Iz_CH))\n",
    "\n",
    "y_dataz_CH=labelz_CH.iloc[:,[2,3]].values  #知识嵌入\n",
    "#y_data=label.iloc[:,[12]].values    #导入数据  iloc通过行号获取行数据\n",
    "#print(y_dataz_CH[0])\n",
    "#print(y_dataz_CH.shape)"
   ]
  },
  {
   "cell_type": "code",
   "execution_count": 33,
   "metadata": {},
   "outputs": [],
   "source": [
    "zhenli_y_CH=y_dataz_CH[:,[1]] #y_train_lable\n",
    "dis_zhenli_CH=y_dataz_CH[:,[0]] #train_site_distance"
   ]
  },
  {
   "cell_type": "code",
   "execution_count": 34,
   "metadata": {},
   "outputs": [],
   "source": [
    "zhenli_x_CH=[]\n",
    "for i in range(len(x_dataz_CH)):\n",
    "    zhenli_x_CH.append(np.array(x_dataz_CH[i].reshape(9,1,300)).T)"
   ]
  },
  {
   "cell_type": "code",
   "execution_count": 35,
   "metadata": {},
   "outputs": [],
   "source": [
    "zhenli_dis_CH=[]\n",
    "for i in range(len(dis_zhenli_CH)):\n",
    "    zhenli_dis_CH.append(np.array(dis_zhenli_CH[i].reshape(1,1,1)).T)"
   ]
  },
  {
   "cell_type": "code",
   "execution_count": 36,
   "metadata": {},
   "outputs": [],
   "source": [
    "zhenli_x_CH=np.array(zhenli_x_CH)\n",
    "zhenli_dis_CH=np.array(zhenli_dis_CH)"
   ]
  },
  {
   "cell_type": "code",
   "execution_count": 37,
   "metadata": {},
   "outputs": [],
   "source": [
    "zhenli_x_CH = np.reshape(zhenli_x_CH, (zhenli_x_CH.shape[0], 300, 9))\n",
    "zhenli_dis_CH = np.reshape(zhenli_dis_CH, (zhenli_dis_CH.shape[0], 1, 1))"
   ]
  },
  {
   "cell_type": "code",
   "execution_count": 38,
   "metadata": {},
   "outputs": [
    {
     "name": "stdout",
     "output_type": "stream",
     "text": [
      "震例标准差STD= 0.3580903970010211\n",
      "震例误差均值MEAN= 0.17905826014214135\n",
      "震例平均绝对误差MAE= 0.3178833879262773\n",
      "震例RMSE= 0.40036307640625357\n",
      "震例MAPE= 7.41497162974359\n",
      "震例r2 score: 0.7496778363974572\n"
     ]
    },
    {
     "data": {
      "image/png": "[encoded data removed]",
      "text/plain": [
       "<Figure size 360x360 with 1 Axes>"
      ]
     },
     "metadata": {
      "needs_background": "light"
     },
     "output_type": "display_data"
    }
   ],
   "source": [
    "pred_zhenli_all_CH = model.predict([zhenli_x_CH,zhenli_dis_CH]).ravel()  ##ravel() 转换成1列\n",
    "print(\"震例标准差STD=\",np.std(pred_zhenli_all_CH-zhenli_y_CH.ravel()))\n",
    "print(\"震例误差均值MEAN=\",np.mean(pred_zhenli_all_CH-zhenli_y_CH.ravel()))\n",
    "print(\"震例平均绝对误差MAE=\",metrics.mean_absolute_error(pred_zhenli_all_CH, zhenli_y_CH.ravel()))\n",
    "print(\"震例RMSE=\",metrics.mean_squared_error(pred_zhenli_all_CH, zhenli_y_CH.ravel())**0.5)\n",
    "print(\"震例MAPE=\",np.mean(np.abs((zhenli_y_CH.ravel() - pred_zhenli_all_CH) / zhenli_y_CH.ravel())) * 100)\n",
    "print(\"震例r2 score:\", r2_score(zhenli_y_CH.ravel(), pred_zhenli_all_CH))\n",
    "\n",
    "\n",
    "plt.figure(figsize=(5, 5))\n",
    "plt.axis('equal')\n",
    "\n",
    "x3 = np.arange(2.5, 8, 0.01)\n",
    "y3=x3\n",
    "plt.plot(x3, y3, \"black\")\n",
    "plt.plot(zhenli_y_CH.ravel(),pred_zhenli_all_CH,'.')\n",
    "plt.xlim(2.5, 8)\n",
    "plt.ylim(2.5, 8)\n",
    "plt.show()  "
   ]
  },
  {
   "cell_type": "code",
   "execution_count": 39,
   "metadata": {},
   "outputs": [],
   "source": [
    "#########################保存震例结果####################################\n",
    "pred_zhenli_all_CH=pred_zhenli_all_CH.reshape(pred_zhenli_all_CH.shape[0],1)\n",
    "\n",
    "#print(pred_zhenli_all_CH.shape)\n",
    "#print(zhenli_y_CH.shape)\n",
    "\n",
    "tz_result_CH=np.concatenate((zhenli_y_CH,pred_zhenli_all_CH),axis=1)\n",
    "\n",
    "#print(tz_result_CH.shape)\n",
    "\n",
    "data_tz_CH = pd.DataFrame(tz_result_CH) #将数组转换为dataframe结构\n",
    "data_tz_CH.columns=['True M','Pred M']\n",
    "writer_tz_CH = pd.ExcelWriter(r'\\CAN\\MagtestChina.xls')   # 写入Excel文件\n",
    "\n",
    "data_tz_CH.to_excel(writer_tz_CH,float_format='%.5f',index=False)   ## ‘page_1’是写入excel的sheet名\n",
    "writer_tz_CH.save()\n",
    "writer_tz_CH.close()\n",
    "#########################保存震例结果####################################"
   ]
  },
  {
   "cell_type": "code",
   "execution_count": null,
   "metadata": {},
   "outputs": [],
   "source": []
  }
 ],
 "metadata": {
  "kernelspec": {
   "display_name": "Python 3",
   "language": "python",
   "name": "python3"
  },
  "language_info": {
   "codemirror_mode": {
    "name": "ipython",
    "version": 3
   },
   "file_extension": ".py",
   "mimetype": "text/x-python",
   "name": "python",
   "nbconvert_exporter": "python",
   "pygments_lexer": "ipython3",
   "version": "3.7.0"
  }
 },
 "nbformat": 4,
 "nbformat_minor": 2
}
