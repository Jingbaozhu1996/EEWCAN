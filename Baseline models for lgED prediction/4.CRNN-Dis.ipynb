{
 "cells": [
  {
   "cell_type": "markdown",
   "metadata": {},
   "source": [
    "# Import Library"
   ]
  },
  {
   "cell_type": "code",
   "execution_count": 1,
   "metadata": {},
   "outputs": [],
   "source": [
    "import numpy as np\n",
    "import pandas as pd\n",
    "from datetime import date, timedelta\n",
    "import os\n",
    "import random\n",
    "import matplotlib.pyplot as plt\n",
    "from tqdm import tqdm\n",
    "from scipy.stats import skew, kurtosis\n",
    "\n",
    "from sklearn.preprocessing import StandardScaler\n",
    "from sklearn.metrics import mean_squared_error\n",
    "from tensorflow.keras import layers,Sequential,losses,optimizers,datasets\n",
    "\n",
    "import tensorflow as tf\n",
    "from tensorflow import keras\n",
    "from tensorflow.keras.layers import *\n",
    "from tensorflow.keras.models import *\n",
    "from tensorflow.keras.optimizers import *\n",
    "from tensorflow.keras.callbacks import *\n",
    "from tensorflow.keras import backend as K\n",
    "\n",
    "def setup_seed(seed):\n",
    "    random.seed(seed)  # 为python设置随机种子\n",
    "    np.random.seed(seed)  # 为numpy设置随机种子\n",
    "    tf.random.set_seed(seed)  # tf cpu fix seed\n",
    "    os.environ['TF_DETERMINISTIC_OPS'] = '1'  # tf gpu fix seed, please `pip install tensorflow-determinism` first\n",
    "\n",
    "setup_seed(2020)\n",
    "\n",
    "\n",
    "seed = 2020\n",
    "random.seed = 2020\n",
    "np.random.seed = 2020\n",
    "tf.seed = 2020\n",
    "tf.random.set_seed(2020)"
   ]
  },
  {
   "cell_type": "markdown",
   "metadata": {},
   "source": [
    "# Data processing"
   ]
  },
  {
   "cell_type": "code",
   "execution_count": 2,
   "metadata": {},
   "outputs": [],
   "source": [
    "import scipy.io as scio\n",
    "import pandas as pd\n",
    "\n",
    "#input\n",
    "feature1 = r'\\Training dataset\\ACC_EW.mat'\n",
    "data1 = scio.loadmat(feature1)\n",
    "AA=data1['ACC_EW']\n",
    "A=AA[:,0:300]\n",
    "\n",
    "feature2 = r'\\Training dataset\\ACC_NS.mat'\n",
    "data2 = scio.loadmat(feature2)\n",
    "BB=data2['ACC_NS']\n",
    "B=BB[:,0:300]\n",
    "\n",
    "feature3 = r'\\Training dataset\\ACC_UD.mat'\n",
    "data3 = scio.loadmat(feature3)\n",
    "CC=data3['ACC_UD']\n",
    "C=CC[:,0:300]\n",
    "\n",
    "\n",
    "label = pd.read_csv(open(r'\\Training dataset\\lable.csv',encoding='UTF-8'))\n"
   ]
  },
  {
   "cell_type": "code",
   "execution_count": 3,
   "metadata": {},
   "outputs": [],
   "source": [
    "raw_data1=np.hstack((A,B))\n",
    "train_xx=np.hstack((raw_data1,C))\n",
    "\n",
    "#print(train_xx.shape)\n",
    "\n",
    "\n",
    "train_y=label.iloc[:,[0]].values  #知识嵌入\n",
    "#y_data=label.iloc[:,[12]].values    #导入数据  iloc通过行号获取行数据\n",
    "#print(train_y[0])\n",
    "#print(train_y.shape)"
   ]
  },
  {
   "cell_type": "code",
   "execution_count": 4,
   "metadata": {},
   "outputs": [],
   "source": [
    "train_x=[]\n",
    "for i in range(len(train_xx)):\n",
    "    train_x.append(np.array(train_xx[i].reshape(3,1,300)).T)"
   ]
  },
  {
   "cell_type": "code",
   "execution_count": 5,
   "metadata": {},
   "outputs": [],
   "source": [
    "train_x=np.array(train_x)"
   ]
  },
  {
   "cell_type": "code",
   "execution_count": 6,
   "metadata": {},
   "outputs": [],
   "source": [
    "#3#  ##Reshaping\n",
    "train_x = np.reshape(train_x, (train_x.shape[0], 300, 3))\n",
    "#print(\"0\",train_x.shape[0])\n",
    "#print(\"1\",train_x.shape[1])\n",
    "#print(train_x.shape)\n",
    "#print(train_x)"
   ]
  },
  {
   "cell_type": "markdown",
   "metadata": {},
   "source": [
    "# CRNN-Dis architecture, training and testing"
   ]
  },
  {
   "cell_type": "code",
   "execution_count": 7,
   "metadata": {},
   "outputs": [],
   "source": [
    "seed=50\n",
    "#50 17.20 1.32\n",
    "drop_rate = 0.2\n",
    "def get_model():\n",
    "\n",
    "    inp1 = Input(shape=(300, 3), name='input_layer') \n",
    "\n",
    "    e = Conv1D(128, 9, padding = 'same')(inp1) \n",
    "    e = ReLU()(e)\n",
    "    e = MaxPooling1D(2, padding='same')(e)\n",
    "# \n",
    "    e = Conv1D(128, 7, padding = 'same')(e) \n",
    "    e = ReLU()(e)\n",
    "    e = MaxPooling1D(2, padding='same')(e)\n",
    "\n",
    "    e = Conv1D(128, 5, padding = 'same')(e) \n",
    "    e = ReLU()(e)\n",
    "    e = MaxPooling1D(2, padding='same')(e)\n",
    "    \n",
    "    e = Conv1D(128, 3, padding = 'same')(e) \n",
    "    e = ReLU()(e)\n",
    "    e = MaxPooling1D(2, padding='same')(e)\n",
    "\n",
    "\n",
    "\n",
    "  \n",
    "\n",
    "\n",
    "    \n",
    "    e = Bidirectional(LSTM(100, return_sequences=False, dropout=0.0, recurrent_dropout=0.0))(e)\n",
    "    e = tf.keras.layers.Dense(128,activation='relu')(e) # 全连接层，14节点  0.340\n",
    "    e = layers.Dropout(rate=0.5)(e)\n",
    "    e = tf.keras.layers.Dense(128,activation='relu')(e) # 全连接层，14节点  0.340\n",
    "    e = layers.Dropout(rate=0.5)(e) \n",
    "    e = Dense(1)(e)\n",
    "    o = Activation('linear', name='output_layer')(e)\n",
    "    \n",
    "\n",
    "    #model = Model([inp_seq, inp_lap, inp_feat], out)  ,inpt2\n",
    "    rms = optimizers.Adam(lr=0.001, beta_1=0.9, beta_2=0.999, epsilon=1e-08)\n",
    "    model = Model(inp1, o)\n",
    "    model.compile(optimizer = rms, loss = 'mean_squared_error')\n",
    "\n",
    "    return model"
   ]
  },
  {
   "cell_type": "code",
   "execution_count": 8,
   "metadata": {},
   "outputs": [
    {
     "name": "stdout",
     "output_type": "stream",
     "text": [
      "Model: \"functional_1\"\n",
      "_________________________________________________________________\n",
      "Layer (type)                 Output Shape              Param #   \n",
      "=================================================================\n",
      "input_layer (InputLayer)     [(None, 300, 3)]          0         \n",
      "_________________________________________________________________\n",
      "conv1d (Conv1D)              (None, 300, 128)          3584      \n",
      "_________________________________________________________________\n",
      "re_lu (ReLU)                 (None, 300, 128)          0         \n",
      "_________________________________________________________________\n",
      "max_pooling1d (MaxPooling1D) (None, 150, 128)          0         \n",
      "_________________________________________________________________\n",
      "conv1d_1 (Conv1D)            (None, 150, 128)          114816    \n",
      "_________________________________________________________________\n",
      "re_lu_1 (ReLU)               (None, 150, 128)          0         \n",
      "_________________________________________________________________\n",
      "max_pooling1d_1 (MaxPooling1 (None, 75, 128)           0         \n",
      "_________________________________________________________________\n",
      "conv1d_2 (Conv1D)            (None, 75, 128)           82048     \n",
      "_________________________________________________________________\n",
      "re_lu_2 (ReLU)               (None, 75, 128)           0         \n",
      "_________________________________________________________________\n",
      "max_pooling1d_2 (MaxPooling1 (None, 38, 128)           0         \n",
      "_________________________________________________________________\n",
      "conv1d_3 (Conv1D)            (None, 38, 128)           49280     \n",
      "_________________________________________________________________\n",
      "re_lu_3 (ReLU)               (None, 38, 128)           0         \n",
      "_________________________________________________________________\n",
      "max_pooling1d_3 (MaxPooling1 (None, 19, 128)           0         \n",
      "_________________________________________________________________\n",
      "bidirectional (Bidirectional (None, 200)               183200    \n",
      "_________________________________________________________________\n",
      "dense (Dense)                (None, 128)               25728     \n",
      "_________________________________________________________________\n",
      "dropout (Dropout)            (None, 128)               0         \n",
      "_________________________________________________________________\n",
      "dense_1 (Dense)              (None, 128)               16512     \n",
      "_________________________________________________________________\n",
      "dropout_1 (Dropout)          (None, 128)               0         \n",
      "_________________________________________________________________\n",
      "dense_2 (Dense)              (None, 1)                 129       \n",
      "_________________________________________________________________\n",
      "output_layer (Activation)    (None, 1)                 0         \n",
      "=================================================================\n",
      "Total params: 475,297\n",
      "Trainable params: 475,297\n",
      "Non-trainable params: 0\n",
      "_________________________________________________________________\n"
     ]
    }
   ],
   "source": [
    "model = get_model()\n",
    "model.summary() "
   ]
  },
  {
   "cell_type": "code",
   "execution_count": 9,
   "metadata": {},
   "outputs": [],
   "source": [
    "### TRAIN A MODEL FOR EACH STORES USING ALL THE DATA AVAILALBE FROM OTHER STORES ###\n",
    "\n",
    "\n",
    "tf.random.set_seed(seed)\n",
    "os.environ['PYTHONHASHSEED'] = str(33)\n",
    "#np.random.seed(seed)\n",
    "#random.seed(seed)\n",
    "\n",
    "#session_conf = tf.compat.v1.ConfigProto(\n",
    "#    intra_op_parallelism_threads=1, \n",
    "#    inter_op_parallelism_threads=1\n",
    "#)\n",
    "#sess = tf.compat.v1.Session(\n",
    "#    graph=tf.compat.v1.get_default_graph(), \n",
    "#    config=session_conf\n",
    "#)\n",
    "#tf.compat.v1.keras.backend.set_session(sess)\n",
    "\n",
    "pred_train_all=np.zeros(train_y.shape)\n",
    "#pred_test_all = np.zeros(test_y.shape)\n",
    "#pred_zhenli_all = np.zeros(y_zhenli.shape)\n",
    "\n",
    "    \n",
    "#es = EarlyStopping(patience=10, verbose=1, min_delta=0.001, monitor='val_loss', mode='auto', restore_best_weights=True)\n"
   ]
  },
  {
   "cell_type": "code",
   "execution_count": 10,
   "metadata": {},
   "outputs": [
    {
     "name": "stdout",
     "output_type": "stream",
     "text": [
      "Epoch 1/300\n",
      "162/162 [==============================] - 13s 81ms/step - loss: 2690.0361 - val_loss: 1704.2019\n",
      "Epoch 2/300\n",
      "162/162 [==============================] - 12s 76ms/step - loss: 1533.9288 - val_loss: 1368.5010\n",
      "Epoch 3/300\n",
      "162/162 [==============================] - 14s 87ms/step - loss: 1366.0842 - val_loss: 1040.1663\n",
      "Epoch 4/300\n",
      "162/162 [==============================] - 16s 96ms/step - loss: 1196.2955 - val_loss: 1025.8318 - los - ETA: 1s - loss: 1190. - ETA: 1s - los - ETA: 0s - loss:\n",
      "Epoch 5/300\n",
      "162/162 [==============================] - 16s 98ms/step - loss: 1121.1794 - val_loss: 947.9971A: 12s -  - ETA: 12s - loss: 1 - ETA: 12s - loss: 1092.4 - ETA: 12s - loss: 110 - ETA: 11s - loss: 1098.60 - ETA:  - ETA: 9s - l - ETA: 9s - l - ETA: 5s - loss: - ETA: 5s - l - ETA: 4s - loss: 113 - ETA - ETA: 3s - l - ETA: 2s - loss: 1134. - ETA: 2s - ETA: 1s - loss: 113 - ETA: 0s - loss: 1120.\n",
      "Epoch 6/300\n",
      "162/162 [==============================] - 18s 109ms/step - loss: 1056.8181 - val_loss: 964.6499\n",
      "Epoch 7/300\n",
      "162/162 [==============================] - 18s 113ms/step - loss: 1034.4730 - val_loss: 836.7160\n",
      "Epoch 8/300\n",
      "162/162 [==============================] - 14s 89ms/step - loss: 992.6243 - val_loss: 852.6843\n",
      "Epoch 9/300\n",
      "162/162 [==============================] - 16s 99ms/step - loss: 978.5203 - val_loss: 823.7885\n",
      "Epoch 10/300\n",
      "162/162 [==============================] - 15s 94ms/step - loss: 961.2313 - val_loss: 863.0594\n",
      "Epoch 11/300\n",
      "162/162 [==============================] - 18s 112ms/step - loss: 943.9277 - val_loss: 963.6466\n",
      "Epoch 12/300\n",
      "162/162 [==============================] - 18s 111ms/step - loss: 919.7187 - val_loss: 812.3730\n",
      "Epoch 13/300\n",
      "162/162 [==============================] - 17s 104ms/step - loss: 896.2338 - val_loss: 1071.6887\n",
      "Epoch 14/300\n",
      "162/162 [==============================] - 17s 104ms/step - loss: 863.8385 - val_loss: 905.4669\n",
      "Epoch 15/300\n",
      "162/162 [==============================] - 18s 109ms/step - loss: 850.8053 - val_loss: 802.6378\n",
      "Epoch 16/300\n",
      "162/162 [==============================] - 17s 108ms/step - loss: 828.1080 - val_loss: 900.9894\n",
      "Epoch 17/300\n",
      "162/162 [==============================] - 19s 117ms/step - loss: 796.2585 - val_loss: 826.0662\n",
      "Epoch 18/300\n",
      "162/162 [==============================] - 20s 121ms/step - loss: 811.1125 - val_loss: 876.2617\n",
      "Epoch 19/300\n",
      "162/162 [==============================] - 19s 117ms/step - loss: 774.9284 - val_loss: 902.0339\n",
      "Epoch 20/300\n",
      "162/162 [==============================] - 20s 123ms/step - loss: 755.6350 - val_loss: 879.8588\n",
      "Epoch 21/300\n",
      "162/162 [==============================] - 19s 120ms/step - loss: 688.5202 - val_loss: 861.5746\n",
      "Epoch 22/300\n",
      "162/162 [==============================] - 19s 120ms/step - loss: 659.4086 - val_loss: 872.8010\n",
      "Epoch 23/300\n",
      "162/162 [==============================] - 19s 120ms/step - loss: 664.2455 - val_loss: 875.5132\n",
      "Epoch 24/300\n",
      "162/162 [==============================] - 19s 117ms/step - loss: 643.4747 - val_loss: 859.4531\n",
      "Epoch 25/300\n",
      "162/162 [==============================] - 19s 117ms/step - loss: 641.7737 - val_loss: 860.5547\n"
     ]
    }
   ],
   "source": [
    "from keras.callbacks import EarlyStopping\n",
    "from keras.callbacks import ReduceLROnPlateau\n",
    "lr_reducer = ReduceLROnPlateau(monitor=\"val_loss\",\n",
    "                               factor=0.1,\n",
    "                                cooldown= 0,\n",
    "                                patience= 5,\n",
    "                                min_lr=0.1e-7)\n",
    "early_stopping_monitor = EarlyStopping(monitor= 'val_loss', patience = 10) #10  17.20 1.32\n",
    "callbacks = [lr_reducer, early_stopping_monitor]\n",
    "\n",
    "\n",
    "\n",
    "\n",
    "model = get_model()\n",
    "model.fit(train_x, train_y, epochs=300, batch_size=256,  \n",
    "            validation_split=0.1, callbacks=callbacks)  #256 ,train_physics  ,test_physics ,train_physics\n",
    "\n",
    "pred_train_all = model.predict(train_x).ravel()\n",
    "#pred_test_all = model.predict(test_x).ravel()  ##ravel() 转换成1列\n",
    "\n",
    "\n",
    "#pred_valid_all = scaler_seq.inverse_transform(pred_valid_all)\n",
    "#reverse_valid = scaler_seq.inverse_transform(y_valid)\n",
    "#pred_test_all = scaler_seq.inverse_transform(pred_test_all)\n",
    "#reverse_test = scaler_seq.inverse_transform(y_test)"
   ]
  },
  {
   "cell_type": "code",
   "execution_count": 11,
   "metadata": {},
   "outputs": [],
   "source": [
    "# 保存权重（推荐方式）\n",
    "model.save_weights(\"CRNN_Dis_weights.h5\")  # HDF5格式"
   ]
  },
  {
   "cell_type": "code",
   "execution_count": 12,
   "metadata": {},
   "outputs": [
    {
     "name": "stdout",
     "output_type": "stream",
     "text": [
      "Model size (MB): 1.8131141662597656\n"
     ]
    }
   ],
   "source": [
    "def get_model_size_mb(model):\n",
    "    params = model.count_params()\n",
    "    # 假设所有参数为float32（4字节）\n",
    "    size_mb = params * 4 / 1024**2\n",
    "    return size_mb\n",
    " \n",
    "print(\"Model size (MB):\", get_model_size_mb(model))"
   ]
  },
  {
   "cell_type": "code",
   "execution_count": 13,
   "metadata": {
    "scrolled": true
   },
   "outputs": [
    {
     "name": "stdout",
     "output_type": "stream",
     "text": [
      "训练标准差STD= 0.16468392201081475\n",
      "训练误差均值MEAN= 0.022084144754314194\n",
      "训练平均绝对误差MAE= 0.12181068592892906\n",
      "训练RMSE= 0.1661580681712255\n",
      "训练MAPE= 14.838414082654902\n",
      "训练r2 score: 0.7777924164242793\n"
     ]
    },
    {
     "data": {
      "image/png": "[encoded data removed]",
      "text/plain": [
       "<Figure size 360x360 with 1 Axes>"
      ]
     },
     "metadata": {
      "needs_background": "light"
     },
     "output_type": "display_data"
    }
   ],
   "source": [
    "from sklearn import metrics\n",
    "from sklearn.metrics import r2_score\n",
    "pred_train_all[pred_train_all <= 0] = 10\n",
    "train_y=np.log10(train_y) \n",
    "pred_train_all=np.log10(pred_train_all)\n",
    "\n",
    "print(\"训练标准差STD=\",np.std(pred_train_all-train_y.ravel()))\n",
    "print(\"训练误差均值MEAN=\",np.mean(pred_train_all-train_y.ravel()))\n",
    "print(\"训练平均绝对误差MAE=\",metrics.mean_absolute_error(pred_train_all, train_y.ravel()))\n",
    "print(\"训练RMSE=\",metrics.mean_squared_error(pred_train_all, train_y.ravel())**0.5)\n",
    "print(\"训练MAPE=\",np.mean(np.abs((train_y.ravel() - pred_train_all) / train_y.ravel())) * 100)\n",
    "print(\"训练r2 score:\", r2_score(train_y.ravel(), pred_train_all))\n",
    "\n",
    "\n",
    "plt.figure(figsize=(5, 5))\n",
    "plt.axis('equal')\n",
    "\n",
    "x3 = np.arange(-2, 5, 0.01)\n",
    "y3=x3\n",
    "plt.plot(x3, y3, \"black\")\n",
    "plt.plot(train_y.ravel(),pred_train_all,'.')\n",
    "plt.xlim(-2, 5)\n",
    "plt.ylim(-2, 5)\n",
    "plt.show()"
   ]
  },
  {
   "cell_type": "code",
   "execution_count": null,
   "metadata": {},
   "outputs": [],
   "source": []
  },
  {
   "cell_type": "code",
   "execution_count": 14,
   "metadata": {},
   "outputs": [],
   "source": [
    "#########################保存训练结果####################################\n",
    "pred_train_all=pred_train_all.reshape(pred_train_all.shape[0],1)\n",
    "\n",
    "#y_score_tr=y_score_tr.reshape(y_score_tr.shape[0],1)\n",
    "#print(pred_train_all.shape)\n",
    "#print(train_y.shape)\n",
    "\n",
    "tr_result=np.concatenate((train_y,pred_train_all),axis=1)\n",
    "\n",
    "#print(tr_result.shape)\n",
    "\n",
    "data_tr = pd.DataFrame(tr_result) #将数组转换为dataframe结构\n",
    "data_tr.columns=['True LGED','Pred LGED']\n",
    "writer_tr = pd.ExcelWriter(r'\\CRNN-Dis\\distrain.xls')   # 写入Excel文件\n",
    "\n",
    "data_tr.to_excel(writer_tr,float_format='%.5f',index=False)   ## ‘page_1’是写入excel的sheet名\n",
    "writer_tr.save()\n",
    "writer_tr.close()\n",
    "#########################保存训练结果####################################"
   ]
  },
  {
   "cell_type": "code",
   "execution_count": 15,
   "metadata": {},
   "outputs": [],
   "source": [
    "#震例\n",
    "import scipy.io as scio\n",
    "import pandas as pd\n",
    "\n",
    "#input\n",
    "feature1z = r'\\Test dataset\\ACC_EW.mat'\n",
    "data1z = scio.loadmat(feature1z)\n",
    "AAz=data1z['ACC_EW']\n",
    "Az=AAz[:,0:300]\n",
    "\n",
    "feature2z = r'\\Test dataset\\ACC_NS.mat'\n",
    "data2z = scio.loadmat(feature2z)\n",
    "BBz=data2z['ACC_NS']\n",
    "Bz=BBz[:,0:300]\n",
    "\n",
    "feature3z = r'\\Test dataset\\ACC_UD.mat'\n",
    "data3z = scio.loadmat(feature3z)\n",
    "CCz=data3z['ACC_UD']\n",
    "Cz=CCz[:,0:300]\n",
    "\n",
    "\n",
    "\n",
    "labelz = pd.read_csv(open(r'\\Test dataset\\lable.csv',encoding='UTF-8'))\n"
   ]
  },
  {
   "cell_type": "code",
   "execution_count": 16,
   "metadata": {},
   "outputs": [],
   "source": [
    "raw_data1z=np.hstack((Az,Bz))\n",
    "x_dataz=np.hstack((raw_data1z,Cz))\n",
    "\n",
    "\n",
    "zhenli_y=labelz.iloc[:,[0]].values  #知识嵌入\n",
    "#y_data=label.iloc[:,[12]].values    #导入数据  iloc通过行号获取行数据\n",
    "#print(zhenli_y[0])\n",
    "#print(zhenli_y.shape)"
   ]
  },
  {
   "cell_type": "code",
   "execution_count": 17,
   "metadata": {},
   "outputs": [],
   "source": [
    "zhenli_x=[]\n",
    "for i in range(len(x_dataz)):\n",
    "    zhenli_x.append(np.array(x_dataz[i].reshape(3,1,300)).T)"
   ]
  },
  {
   "cell_type": "code",
   "execution_count": 18,
   "metadata": {},
   "outputs": [],
   "source": [
    "zhenli_x=np.array(zhenli_x)"
   ]
  },
  {
   "cell_type": "code",
   "execution_count": 19,
   "metadata": {},
   "outputs": [],
   "source": [
    "zhenli_x = np.reshape(zhenli_x, (zhenli_x.shape[0], 300, 3))"
   ]
  },
  {
   "cell_type": "code",
   "execution_count": 19,
   "metadata": {},
   "outputs": [
    {
     "name": "stdout",
     "output_type": "stream",
     "text": [
      "(1, 300, 3)\n"
     ]
    }
   ],
   "source": [
    "zhenli_x1=zhenli_x[0]\n",
    "zhenli_x1=zhenli_x1.reshape(1, 300, 3)\n",
    "print(zhenli_x1.shape)\n"
   ]
  },
  {
   "cell_type": "code",
   "execution_count": 22,
   "metadata": {},
   "outputs": [
    {
     "name": "stdout",
     "output_type": "stream",
     "text": [
      "Elapsed time: 38.77 ms\n"
     ]
    }
   ],
   "source": [
    "import time\n",
    "start_time = time.perf_counter()  # 记录开始时间\n",
    "pred_zhenli_all = model.predict(zhenli_x1).ravel()  ##ravel() 转换成1列\n",
    "end_time = time.perf_counter()  # 记录结束时间\n",
    "elapsed_time_ms = (end_time - start_time) * 1000  # 转换为毫秒\n",
    "print(f\"Elapsed time: {elapsed_time_ms:.2f} ms\")"
   ]
  },
  {
   "cell_type": "code",
   "execution_count": 20,
   "metadata": {},
   "outputs": [
    {
     "name": "stdout",
     "output_type": "stream",
     "text": [
      "震例标准差STD= 0.187084206712449\n",
      "震例误差均值MEAN= 0.011010981219613063\n",
      "震例平均绝对误差MAE= 0.1391043949578402\n",
      "震例RMSE= 0.1874079563643044\n",
      "震例MAPE= 13.256941089892496\n",
      "震例r2 score: 0.7378330622091988\n"
     ]
    },
    {
     "data": {
      "image/png": "[encoded data removed]",
      "text/plain": [
       "<Figure size 360x360 with 1 Axes>"
      ]
     },
     "metadata": {
      "needs_background": "light"
     },
     "output_type": "display_data"
    }
   ],
   "source": [
    "pred_zhenli_all = model.predict(zhenli_x).ravel()  ##ravel() 转换成1列\n",
    "pred_zhenli_all[pred_zhenli_all <= 0] = 10\n",
    "zhenli_y=np.log10(zhenli_y) \n",
    "pred_zhenli_all=np.log10(pred_zhenli_all)\n",
    "\n",
    "\n",
    "print(\"震例标准差STD=\",np.std(pred_zhenli_all-zhenli_y.ravel()))\n",
    "print(\"震例误差均值MEAN=\",np.mean(pred_zhenli_all-zhenli_y.ravel()))\n",
    "print(\"震例平均绝对误差MAE=\",metrics.mean_absolute_error(pred_zhenli_all, zhenli_y.ravel()))\n",
    "print(\"震例RMSE=\",metrics.mean_squared_error(pred_zhenli_all, zhenli_y.ravel())**0.5)\n",
    "print(\"震例MAPE=\",np.mean(np.abs((zhenli_y.ravel() - pred_zhenli_all) / zhenli_y.ravel())) * 100)\n",
    "print(\"震例r2 score:\", r2_score(zhenli_y.ravel(), pred_zhenli_all))\n",
    "\n",
    "\n",
    "plt.figure(figsize=(5, 5))\n",
    "plt.axis('equal')\n",
    "\n",
    "x3 = np.arange(-2, 5, 0.01)\n",
    "y3=x3\n",
    "plt.plot(x3, y3, \"black\")\n",
    "plt.plot(zhenli_y.ravel(),pred_zhenli_all,'.')\n",
    "plt.xlim(-2, 5)\n",
    "plt.ylim(-2, 5)\n",
    "plt.show()  "
   ]
  },
  {
   "cell_type": "code",
   "execution_count": 21,
   "metadata": {},
   "outputs": [],
   "source": [
    "#########################保存震例结果####################################\n",
    "pred_zhenli_all=pred_zhenli_all.reshape(pred_zhenli_all.shape[0],1)\n",
    "\n",
    "#print(pred_zhenli_all.shape)\n",
    "#print(zhenli_y.shape)\n",
    "\n",
    "tz_result=np.concatenate((zhenli_y,pred_zhenli_all),axis=1)\n",
    "\n",
    "#print(tz_result.shape)\n",
    "\n",
    "data_tz = pd.DataFrame(tz_result) #将数组转换为dataframe结构\n",
    "data_tz.columns=['True LGED','Pred LGED']\n",
    "writer_tz = pd.ExcelWriter(r'\\CRNN-Dis\\distest.xls')   # 写入Excel文件\n",
    "\n",
    "data_tz.to_excel(writer_tz,float_format='%.5f',index=False)   ## ‘page_1’是写入excel的sheet名\n",
    "writer_tz.save()\n",
    "writer_tz.close()\n",
    "#########################保存震例结果####################################"
   ]
  },
  {
   "cell_type": "markdown",
   "metadata": {},
   "source": [
    "# Test on the Chinese strong-ground motion data"
   ]
  },
  {
   "cell_type": "code",
   "execution_count": 22,
   "metadata": {},
   "outputs": [],
   "source": [
    "#在中国地区应用\n",
    "import scipy.io as scio\n",
    "import pandas as pd\n",
    "\n",
    "#input\n",
    "feature1z_CH = r'\\Chinese strong-ground motion test dataset\\ACC_UD.mat'\n",
    "data1z_CH = scio.loadmat(feature1z_CH)\n",
    "AAz_CH=data1z_CH['ACC_UD']\n",
    "Az_CH=AAz_CH[:,0:300]\n",
    "\n",
    "feature2z_CH = r'\\Chinese strong-ground motion test dataset\\ACC_EW.mat'\n",
    "data2z_CH = scio.loadmat(feature2z_CH)\n",
    "BBz_CH=data2z_CH['ACC_EW']\n",
    "Bz_CH=BBz_CH[:,0:300]\n",
    "\n",
    "feature3z_CH = r'\\Chinese strong-ground motion test dataset\\ACC_NS.mat'\n",
    "data3z_CH = scio.loadmat(feature3z_CH)\n",
    "CCz_CH=data3z_CH['ACC_NS']\n",
    "Cz_CH=CCz_CH[:,0:300]\n",
    "\n",
    "\n",
    "\n",
    "labelz_CH = pd.read_csv(open(r'\\Chinese strong-ground motion test dataset\\lable.csv',encoding='UTF-8'))"
   ]
  },
  {
   "cell_type": "code",
   "execution_count": 23,
   "metadata": {},
   "outputs": [],
   "source": [
    "raw_data1z_CH=np.hstack((Az_CH,Bz_CH))\n",
    "x_dataz_CH=np.hstack((raw_data1z_CH,Cz_CH))\n",
    "\n",
    "\n",
    "y_dataz_CH=labelz_CH.iloc[:,[0]].values  #知识嵌入\n",
    "#y_data=label.iloc[:,[12]].values    #导入数据  iloc通过行号获取行数据\n",
    "#print(y_dataz_CH[0])\n",
    "#print(y_dataz_CH.shape)"
   ]
  },
  {
   "cell_type": "code",
   "execution_count": 24,
   "metadata": {},
   "outputs": [],
   "source": [
    "zhenli_y_CH=y_dataz_CH"
   ]
  },
  {
   "cell_type": "code",
   "execution_count": 25,
   "metadata": {},
   "outputs": [],
   "source": [
    "zhenli_x_CH=[]\n",
    "for i in range(len(x_dataz_CH)):\n",
    "    zhenli_x_CH.append(np.array(x_dataz_CH[i].reshape(3,1,300)).T)"
   ]
  },
  {
   "cell_type": "code",
   "execution_count": 26,
   "metadata": {},
   "outputs": [],
   "source": [
    "zhenli_x_CH=np.array(zhenli_x_CH)"
   ]
  },
  {
   "cell_type": "code",
   "execution_count": 27,
   "metadata": {},
   "outputs": [],
   "source": [
    "zhenli_x_CH = np.reshape(zhenli_x_CH, (zhenli_x_CH.shape[0], 300, 3))"
   ]
  },
  {
   "cell_type": "code",
   "execution_count": 28,
   "metadata": {},
   "outputs": [],
   "source": [
    "pred_zhenli_all_CH = model.predict(zhenli_x_CH).ravel()  ##ravel() 转换成1列"
   ]
  },
  {
   "cell_type": "code",
   "execution_count": 29,
   "metadata": {},
   "outputs": [
    {
     "name": "stdout",
     "output_type": "stream",
     "text": [
      "震例标准差STD= 0.25495168662574796\n",
      "震例误差均值MEAN= 0.17702926700473515\n",
      "震例平均绝对误差MAE= 0.2371869646845226\n",
      "震例RMSE= 0.31038641060708083\n",
      "震例MAPE= 17.600691318931457\n",
      "震例r2 score: 0.2024239343424672\n"
     ]
    },
    {
     "data": {
      "image/png": "[encoded data removed]",
      "text/plain": [
       "<Figure size 360x360 with 1 Axes>"
      ]
     },
     "metadata": {
      "needs_background": "light"
     },
     "output_type": "display_data"
    }
   ],
   "source": [
    "pred_zhenli_all_CH[pred_zhenli_all_CH <= 0] = 10\n",
    "zhenli_y_CH=np.log10(zhenli_y_CH) \n",
    "pred_zhenli_all_CH=np.log10(pred_zhenli_all_CH)\n",
    "\n",
    "print(\"震例标准差STD=\",np.std(pred_zhenli_all_CH-zhenli_y_CH.ravel()))\n",
    "print(\"震例误差均值MEAN=\",np.mean(pred_zhenli_all_CH-zhenli_y_CH.ravel()))\n",
    "print(\"震例平均绝对误差MAE=\",metrics.mean_absolute_error(pred_zhenli_all_CH, zhenli_y_CH.ravel()))\n",
    "print(\"震例RMSE=\",metrics.mean_squared_error(pred_zhenli_all_CH, zhenli_y_CH.ravel())**0.5)\n",
    "print(\"震例MAPE=\",np.mean(np.abs((zhenli_y_CH.ravel() - pred_zhenli_all_CH) / zhenli_y_CH.ravel())) * 100)\n",
    "print(\"震例r2 score:\", r2_score(zhenli_y_CH.ravel(), pred_zhenli_all_CH))\n",
    "\n",
    "\n",
    "plt.figure(figsize=(5, 5))\n",
    "plt.axis('equal')\n",
    "\n",
    "x3 = np.arange(-2, 5, 0.01)\n",
    "y3=x3\n",
    "plt.plot(x3, y3, \"black\")\n",
    "plt.plot(zhenli_y_CH.ravel(),pred_zhenli_all_CH,'.')\n",
    "plt.xlim(-2, 5)\n",
    "plt.ylim(-2, 5)\n",
    "plt.show()  "
   ]
  },
  {
   "cell_type": "code",
   "execution_count": null,
   "metadata": {},
   "outputs": [],
   "source": []
  }
 ],
 "metadata": {
  "kernelspec": {
   "display_name": "Python 3",
   "language": "python",
   "name": "python3"
  },
  "language_info": {
   "codemirror_mode": {
    "name": "ipython",
    "version": 3
   },
   "file_extension": ".py",
   "mimetype": "text/x-python",
   "name": "python",
   "nbconvert_exporter": "python",
   "pygments_lexer": "ipython3",
   "version": "3.7.0"
  }
 },
 "nbformat": 4,
 "nbformat_minor": 2
}
