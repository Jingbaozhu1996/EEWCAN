{
 "cells": [
  {
   "cell_type": "markdown",
   "metadata": {},
   "source": [
    "# Import Library"
   ]
  },
  {
   "cell_type": "code",
   "execution_count": 1,
   "metadata": {},
   "outputs": [],
   "source": [
    "# 导入库\n",
    "import numpy as np  # numpy库\n",
    "from sklearn.linear_model import BayesianRidge, LinearRegression, ElasticNet  # 批量导入要实现的回归算法\n",
    "from sklearn.svm import SVR  # SVM中的回归算法\n",
    "from sklearn.svm import LinearSVR  # SVM中的回归算法\n",
    "from sklearn.ensemble import GradientBoostingRegressor as GBR\n",
    "#from sklearn.ensemble.gradient_boosting import GradientBoostingRegressor  # 集成算法\n",
    "from sklearn.model_selection import cross_val_score  # 交叉检验\n",
    "from sklearn.metrics import explained_variance_score, mean_absolute_error, mean_squared_error, r2_score  # 批量导入指标算法\n",
    "import pandas as pd  # 导入pandas\n",
    "import matplotlib.pyplot as plt  # 导入图形展示库\n",
    "import xlwt\n",
    "from sklearn.model_selection import train_test_split\n",
    "from sklearn.preprocessing import StandardScaler\n",
    "import joblib  # 添加模型保存库"
   ]
  },
  {
   "cell_type": "code",
   "execution_count": 2,
   "metadata": {},
   "outputs": [],
   "source": [
    "#读取表头\n",
    "workbook = xlwt.Workbook(encoding='utf-8')\n",
    "#创建表\n",
    "worksheet = workbook.add_sheet('sheet1')\n",
    "#往单元格内写入内容:写入表头\n"
   ]
  },
  {
   "cell_type": "markdown",
   "metadata": {},
   "source": [
    "# Data processing"
   ]
  },
  {
   "cell_type": "code",
   "execution_count": 3,
   "metadata": {},
   "outputs": [],
   "source": [
    "raw_data = pd.read_csv(open(r'\\GBR-Dis train.csv',encoding='UTF-8'))\n",
    "X_train = raw_data.iloc[:, 0:30].values\n",
    "y_train = raw_data.iloc[:, 30].values    #导入数据  iloc通过行号获取行数据\n",
    "#print(\"X\",X)\n",
    "#print(\"y\",y)\n",
    "#print(\"X\",len(X))  \n",
    "#print(X.shape)\n",
    "#print(X[0])\n",
    "#print(y.shape)\n",
    "#print(y[0])"
   ]
  },
  {
   "cell_type": "code",
   "execution_count": 4,
   "metadata": {},
   "outputs": [],
   "source": [
    "#X_train, X_test, y_train, y_test = train_test_split(X, y, test_size=0.2, random_state=30)"
   ]
  },
  {
   "cell_type": "markdown",
   "metadata": {},
   "source": [
    "# GBR-Dis model, training and testing"
   ]
  },
  {
   "cell_type": "code",
   "execution_count": 5,
   "metadata": {},
   "outputs": [
    {
     "name": "stdout",
     "output_type": "stream",
     "text": [
      "GradientBoostingRegressor()\n",
      "----------------------------------------------------------------------\n",
      "cross validation result:\n",
      "            0         1         2        3         4        5\n",
      "GBR  0.684045  0.587118  0.606713  0.45604  0.508721  0.67455\n",
      "----------------------------------------------------------------------\n",
      "regression metrics:\n",
      "          ev        mae         mse       r2\n",
      "GBR  0.65244  20.433704  930.060358  0.65244\n",
      "----------------------------------------------------------------------\n",
      "short name \t full name\n",
      "ev \t explained_variance\n",
      "mae \t mean_absolute_error\n",
      "mse \t mean_squared_error\n",
      "r2 \t r2\n",
      "----------------------------------------------------------------------\n",
      "训练标准差STD= 0.21343541473318361\n",
      "训练误差均值MEAN= 0.05395575876054005\n",
      "训练平均绝对误差MAE= 0.1637136308484832\n",
      "训练RMSE= 0.2201497221568805\n",
      "训练MAPE= 18.70807754713066\n",
      "训练r2 score: 0.6099212506947012\n"
     ]
    }
   ],
   "source": [
    "from sklearn import metrics\n",
    "from sklearn.metrics import r2_score\n",
    "# 训练回归模型\n",
    "n_folds = 6  # 设置交叉检验的次数\n",
    "#model_svr = SVR(kernel='rbf',C=grid.best_params_['C'],epsilon=grid.best_params_['epsilon'],gamma=grid.best_params_['gamma'])  # 建立支持向量机回归模型对象 ,C= 0.01,epsilon= 0.016756819922500475\n",
    "model_GBR = GBR()  # 建立支持向量机回归模型对象 ,C= 0.01,epsilon= 0.016756819922500475\n",
    "\n",
    "\n",
    "model_names = ['GBR']  # 不同模型的名称列表\n",
    "\n",
    "scores = cross_val_score(model_GBR, X_train, y_train, cv=n_folds)  # 将每个回归模型导入交叉检验模型中做训练检验\n",
    "cv_score_list = []  # 交叉检验结果列表\n",
    "cv_score_list.append(scores)  # 将交叉检验结果存入结果列表\n",
    "model_GBR.fit(X_train, y_train)\n",
    "train_prediction=model_GBR.predict(X_train)\n",
    "    \n",
    "\n",
    "print(model_GBR)\n",
    "joblib.dump(model_GBR, 'GBR_Dis.pkl')  # 保存完整模型\n",
    "\n",
    "# 模型效果指标评估\n",
    "n_samples, n_features = X_train.shape  # 总样本量506,总特征数13\n",
    "#print(n_samples, n_features)\n",
    "model_metrics_name = [explained_variance_score, mean_absolute_error, mean_squared_error, r2_score]  # 回归评估指标对象集\n",
    "model_metrics_list = []  # 回归评估指标列表\n",
    "for i in range(1):  # 循环每个模型索引\n",
    "    tmp_list = []  # 每个内循环的临时结果列表\n",
    "    for m in model_metrics_name:  # 循环每个指标对象\n",
    "        tmp_score = m(y_train, train_prediction)  # 计算每个回归指标结果\n",
    "        tmp_list.append(tmp_score)  # 将结果存入每个内循环的临时结果列表\n",
    "    model_metrics_list.append(tmp_list)  # 将结果存入回归评估指标列表\n",
    "df1 = pd.DataFrame(cv_score_list, index=model_names)  # 建立交叉检验的数据框\n",
    "df2 = pd.DataFrame(model_metrics_list, index=model_names, columns=['ev', 'mae', 'mse', 'r2'])  # 建立回归指标的数据框\n",
    "#print ('samples: %d \\t features: %d' % (n_samples, n_features))  # 打印输出样本量和特征数量\n",
    "print (70 * '-')  # 打印分隔线\n",
    "print ('cross validation result:')  # 打印输出标题\n",
    "print (df1)  # 打印输出交叉检验的数据框\n",
    "print (70 * '-')  # 打印分隔线\n",
    "print ('regression metrics:')  # 打印输出标题\n",
    "print (df2)  # 打印输出回归指标的数据框\n",
    "print (70 * '-')  # 打印分隔线\n",
    "print ('short name \\t full name')  # 打印输出缩写和全名标题\n",
    "print ('ev \\t explained_variance')\n",
    "print ('mae \\t mean_absolute_error')\n",
    "print ('mse \\t mean_squared_error')\n",
    "print ('r2 \\t r2')\n",
    "print (70 * '-')  # 打印分隔线\n",
    "\n",
    "\n",
    "#train_prediction[train_prediction <= 0] = 10\n",
    "y_train=np.log10(y_train) \n",
    "train_prediction=np.log10(train_prediction)\n",
    "\n",
    "\n",
    "print(\"训练标准差STD=\",np.std(train_prediction-y_train))\n",
    "print(\"训练误差均值MEAN=\",np.mean(train_prediction-y_train))\n",
    "print(\"训练平均绝对误差MAE=\",metrics.mean_absolute_error(train_prediction, y_train))\n",
    "print(\"训练RMSE=\",metrics.mean_squared_error(train_prediction, y_train)**0.5)\n",
    "print(\"训练MAPE=\",np.mean(np.abs((y_train - train_prediction) / y_train)) * 100)\n",
    "print(\"训练r2 score:\", r2_score(y_train.ravel(), train_prediction))\n",
    "#测试\n",
    "#test_prediction=model_svr.predict(X_test)\n",
    "\n",
    "\n",
    "#print(len(y_test-test_prediction))\n",
    "#print(\"测试标准差=\",np.std(y_test-test_prediction))\n",
    "#print(\"测试误差均值=\",np.mean(y_test-test_prediction))\n",
    "#print(\"测试平均绝对误差=\",np.mean(abs(y_test-test_prediction)))\n",
    "\n",
    "#print(\"测试平均绝对误差MAE=\",metrics.mean_absolute_error(test_prediction, y_test))\n",
    "#print(\"测试RMSE=\",metrics.mean_squared_error(test_prediction, y_test)**0.5)\n",
    "#print(\"测试r2 score:\", r2_score(y_test, test_prediction))\n",
    "\n"
   ]
  },
  {
   "cell_type": "code",
   "execution_count": 6,
   "metadata": {},
   "outputs": [
    {
     "name": "stdout",
     "output_type": "stream",
     "text": [
      "Number of estimators: 100\n",
      "Average tree depth: 3.0\n",
      "Total parameters: 2197\n"
     ]
    }
   ],
   "source": [
    "# 计算参数量\n",
    "def count_gbr_parameters(model):\n",
    "    total_params = 0\n",
    "    for i in range(model.n_estimators_):\n",
    "        tree = model.estimators_[i, 0]  # 单输出回归\n",
    "        n_splits = tree.tree_.node_count - tree.tree_.n_leaves\n",
    "        total_params += n_splits * 2 + tree.tree_.n_leaves\n",
    "    return total_params\n",
    " \n",
    "total_params = count_gbr_parameters(model_GBR)\n",
    "print(f\"Number of estimators: {model_GBR.n_estimators_}\")\n",
    "print(f\"Average tree depth: {np.mean([tree.tree_.max_depth for tree in [model_GBR.estimators_[i, 0] for i in range(model_GBR.n_estimators_)]])}\")\n",
    "print(f\"Total parameters: {total_params}\")\n"
   ]
  },
  {
   "cell_type": "code",
   "execution_count": 7,
   "metadata": {},
   "outputs": [
    {
     "name": "stdout",
     "output_type": "stream",
     "text": [
      "Model size (MB): 0.1176900863647461\n"
     ]
    }
   ],
   "source": [
    "import pickle\n",
    "import os\n",
    "# 序列化模型并计算大小\n",
    "with open('model.pkl', 'wb') as f:\n",
    "    pickle.dump(model_GBR, f)\n",
    "size_mb = os.path.getsize('model.pkl') / 1024**2\n",
    "print(\"Model size (MB):\", size_mb)\n",
    "os.remove('model.pkl')  # 清理临时文件"
   ]
  },
  {
   "cell_type": "code",
   "execution_count": 8,
   "metadata": {},
   "outputs": [
    {
     "data": {
      "image/png": "[encoded data removed]",
      "text/plain": [
       "<Figure size 500x500 with 1 Axes>"
      ]
     },
     "metadata": {},
     "output_type": "display_data"
    }
   ],
   "source": [
    "#训练结果\n",
    "plt.figure(figsize=(5, 5))\n",
    "plt.axis('equal')\n",
    "#y_train-pre_y_list[3]\n",
    "x3 = np.arange(-2, 5, 1)\n",
    "y3=x3\n",
    "plt.plot(x3, y3, \"black\")\n",
    "\n",
    "plt.plot(y_train,train_prediction,'.')\n",
    "plt.xlim(-2, 5)\n",
    "plt.ylim(-2, 5)\n",
    "plt.show()"
   ]
  },
  {
   "cell_type": "code",
   "execution_count": 9,
   "metadata": {},
   "outputs": [
    {
     "name": "stderr",
     "output_type": "stream",
     "text": [
      "C:\\Users\\Public\\Documents\\Wondershare\\CreatorTemp\\ipykernel_22060\\2476878847.py:13: FutureWarning: As the xlwt package is no longer maintained, the xlwt engine will be removed in a future version of pandas. This is the only engine in pandas that supports writing in the xls format. Install openpyxl and write to an xlsx file instead. You can set the option io.excel.xls.writer to 'xlwt' to silence this warning. While this option is deprecated and will also raise a warning, it can be globally set and the warning suppressed.\n",
      "  writer_tr = pd.ExcelWriter(r'E:\\审稿中-震中距和震级估计\\输入\\震中距\\GBR\\train3-GBRdiszzz.xls')   # 写入Excel文件\n",
      "C:\\Users\\Public\\Documents\\Wondershare\\CreatorTemp\\ipykernel_22060\\2476878847.py:16: FutureWarning: save is not part of the public API, usage can give unexpected results and will be removed in a future version\n",
      "  writer_tr.save()\n"
     ]
    }
   ],
   "source": [
    "#########################保存训练结果####################################\n",
    "y_train=y_train.reshape(y_train.shape[0],1)\n",
    "train_prediction=train_prediction.reshape(train_prediction.shape[0],1)\n",
    "#print(y_train.shape)\n",
    "#print(train_prediction.shape)\n",
    "\n",
    "\n",
    "tr_result=np.concatenate((y_train,train_prediction),axis=1)\n",
    "#print(tr_result.shape)\n",
    "\n",
    "data_tr = pd.DataFrame(tr_result) #将数组转换为dataframe结构\n",
    "data_tr.columns=['True LGED','Pred LGED']\n",
    "writer_tr = pd.ExcelWriter(r'\\GBR\\distrain.xls')   # 写入Excel文件\n",
    "\n",
    "data_tr.to_excel(writer_tr,float_format='%.5f',index=False)   ## ‘page_1’是写入excel的sheet名\n",
    "writer_tr.save()\n",
    "writer_tr.close()\n",
    "#########################保存训练结果####################################"
   ]
  },
  {
   "cell_type": "code",
   "execution_count": 10,
   "metadata": {},
   "outputs": [
    {
     "name": "stdout",
     "output_type": "stream",
     "text": [
      "Elapsed time: 0.32 ms\n"
     ]
    }
   ],
   "source": [
    "#推理时间\n",
    "zhenli = pd.read_csv(open(r'\\GBR-Dis test.csv',encoding='UTF-8'))\n",
    "X_zhenli1 = zhenli.iloc[:, 0:30].values\n",
    "y_zhenli1 = zhenli.iloc[:, 30].values    #导入数据  iloc通过行号获取行数据\n",
    "X_zhenli1=X_zhenli1[1,:].reshape(1, -1)\n",
    "y_zhenli1=y_zhenli1[1]\n",
    "\n",
    "import time\n",
    "start_time = time.perf_counter()  # 记录开始时间\n",
    "zhenli_prediction=model_GBR.predict(X_zhenli1)\n",
    "end_time = time.perf_counter()  # 记录结束时间\n",
    "elapsed_time_ms = (end_time - start_time) * 1000  # 转换为毫秒\n",
    "print(f\"Elapsed time: {elapsed_time_ms:.2f} ms\")"
   ]
  },
  {
   "cell_type": "code",
   "execution_count": 10,
   "metadata": {},
   "outputs": [
    {
     "name": "stdout",
     "output_type": "stream",
     "text": [
      "震例标准差= 0.226613090930574\n",
      "震例误差均值= -0.046118544638836974\n",
      "震例平均绝对误差= 0.17308453187778922\n",
      "震例平均绝对误差MAE= 0.17308453187778922\n",
      "震例RMSE= 0.23125832555977957\n",
      "震例r2 score: 0.6007943996195875\n"
     ]
    }
   ],
   "source": [
    "#震例\n",
    "zhenli = pd.read_csv(open(r'\\GBR-Dis test.csv',encoding='UTF-8'))\n",
    "X_zhenli1 = zhenli.iloc[:, 0:30].values\n",
    "y_zhenli1 = zhenli.iloc[:, 30].values    #导入数据  iloc通过行号获取行数据\n",
    "zhenli_prediction=model_GBR.predict(X_zhenli1)\n",
    "\n",
    "zhenli_prediction[zhenli_prediction <= 0] = 10\n",
    "y_zhenli1=np.log10(y_zhenli1) \n",
    "zhenli_prediction=np.log10(zhenli_prediction)\n",
    "\n",
    "from sklearn import metrics\n",
    "from sklearn.metrics import r2_score\n",
    "#print(len(y_zhenli1-zhenli_prediction))\n",
    "print(\"震例标准差=\",np.std(y_zhenli1-zhenli_prediction))\n",
    "print(\"震例误差均值=\",np.mean(y_zhenli1-zhenli_prediction))\n",
    "print(\"震例平均绝对误差=\",np.mean(abs(y_zhenli1-zhenli_prediction)))\n",
    "\n",
    "print(\"震例平均绝对误差MAE=\",metrics.mean_absolute_error(zhenli_prediction, y_zhenli1))\n",
    "print(\"震例RMSE=\",metrics.mean_squared_error(zhenli_prediction, y_zhenli1)**0.5)\n",
    "print(\"震例r2 score:\", r2_score(y_zhenli1, zhenli_prediction))\n"
   ]
  },
  {
   "cell_type": "code",
   "execution_count": 11,
   "metadata": {},
   "outputs": [
    {
     "data": {
      "image/png": "[encoded data removed]",
      "text/plain": [
       "<Figure size 500x500 with 1 Axes>"
      ]
     },
     "metadata": {},
     "output_type": "display_data"
    }
   ],
   "source": [
    "#震例结果\n",
    "plt.figure(figsize=(5, 5))\n",
    "plt.axis('equal')\n",
    "\n",
    "x3 = np.arange(-2, 5, 0.01)\n",
    "y3=x3\n",
    "plt.plot(x3, y3, \"black\")\n",
    "\n",
    "plt.plot(y_zhenli1,zhenli_prediction,'.')\n",
    "plt.xlim(-2, 5)\n",
    "plt.ylim(-2, 5)\n",
    "plt.show()"
   ]
  },
  {
   "cell_type": "code",
   "execution_count": 13,
   "metadata": {},
   "outputs": [
    {
     "name": "stderr",
     "output_type": "stream",
     "text": [
      "C:\\Users\\Public\\Documents\\Wondershare\\CreatorTemp\\ipykernel_22060\\2373991362.py:13: FutureWarning: As the xlwt package is no longer maintained, the xlwt engine will be removed in a future version of pandas. This is the only engine in pandas that supports writing in the xls format. Install openpyxl and write to an xlsx file instead. You can set the option io.excel.xls.writer to 'xlwt' to silence this warning. While this option is deprecated and will also raise a warning, it can be globally set and the warning suppressed.\n",
      "  writer_tr = pd.ExcelWriter(r'E:\\审稿中-震中距和震级估计\\输入\\震中距\\GBR\\zhenli3-GBRdiszzz.xls')   # 写入Excel文件\n",
      "C:\\Users\\Public\\Documents\\Wondershare\\CreatorTemp\\ipykernel_22060\\2373991362.py:16: FutureWarning: save is not part of the public API, usage can give unexpected results and will be removed in a future version\n",
      "  writer_tr.save()\n"
     ]
    }
   ],
   "source": [
    "#########################保存震例结果####################################\n",
    "y_zhenli1=y_zhenli1.reshape(y_zhenli1.shape[0],1)\n",
    "zhenli_prediction=zhenli_prediction.reshape(zhenli_prediction.shape[0],1)\n",
    "#print(y_zhenli.shape)\n",
    "#print(zhenli_prediction.shape)\n",
    "\n",
    "\n",
    "tr_result=np.concatenate((y_zhenli1,zhenli_prediction),axis=1)\n",
    "#print(tr_result.shape)\n",
    "\n",
    "data_tr = pd.DataFrame(tr_result) #将数组转换为dataframe结构\n",
    "data_tr.columns=['True LGED','Pred LGED']\n",
    "writer_tr = pd.ExcelWriter(r'\\GBR\\distest.xls')   # 写入Excel文件\n",
    "\n",
    "data_tr.to_excel(writer_tr,float_format='%.5f',index=False)   ## ‘page_1’是写入excel的sheet名\n",
    "writer_tr.save()\n",
    "writer_tr.close()\n",
    "#########################保存震例结果####################################"
   ]
  },
  {
   "cell_type": "markdown",
   "metadata": {},
   "source": [
    "# Test on the Chinese strong-ground motion data"
   ]
  },
  {
   "cell_type": "code",
   "execution_count": 14,
   "metadata": {},
   "outputs": [
    {
     "name": "stdout",
     "output_type": "stream",
     "text": [
      "震例标准差= 0.23463421382359742\n",
      "震例误差均值= -0.020374072200642593\n",
      "震例平均绝对误差= 0.18368421817327898\n",
      "震例平均绝对误差MAE= 0.18368421817327898\n",
      "震例RMSE= 0.23551712700917238\n",
      "震例r2 score: 0.5407896104864114\n"
     ]
    }
   ],
   "source": [
    "#中国地区应用\n",
    "zhenli_CH = pd.read_csv(open(r'\\GBR-Dis test in China.csv',encoding='UTF-8'))\n",
    "X_zhenli1_CH = zhenli_CH.iloc[:, 0:30].values\n",
    "y_zhenli1_CH = zhenli_CH.iloc[:, 30].values    #导入数据  iloc通过行号获取行数据\n",
    "zhenli_prediction_CH=model_GBR.predict(X_zhenli1_CH)\n",
    "\n",
    "zhenli_prediction_CH[zhenli_prediction_CH <= 0] = 10\n",
    "y_zhenli1_CH=np.log10(y_zhenli1_CH) \n",
    "zhenli_prediction_CH=np.log10(zhenli_prediction_CH)\n",
    "\n",
    "from sklearn import metrics\n",
    "from sklearn.metrics import r2_score\n",
    "#print(len(y_zhenli1_CH-zhenli_prediction_CH))\n",
    "print(\"震例标准差=\",np.std(y_zhenli1_CH-zhenli_prediction_CH))\n",
    "print(\"震例误差均值=\",np.mean(y_zhenli1_CH-zhenli_prediction_CH))\n",
    "print(\"震例平均绝对误差=\",np.mean(abs(y_zhenli1_CH-zhenli_prediction_CH)))\n",
    "\n",
    "print(\"震例平均绝对误差MAE=\",metrics.mean_absolute_error(zhenli_prediction_CH, y_zhenli1_CH))\n",
    "print(\"震例RMSE=\",metrics.mean_squared_error(zhenli_prediction_CH, y_zhenli1_CH)**0.5)\n",
    "print(\"震例r2 score:\", r2_score(y_zhenli1_CH, zhenli_prediction_CH))\n"
   ]
  },
  {
   "cell_type": "code",
   "execution_count": 15,
   "metadata": {},
   "outputs": [
    {
     "data": {
      "image/png": "[encoded data removed]",
      "text/plain": [
       "<Figure size 500x500 with 1 Axes>"
      ]
     },
     "metadata": {},
     "output_type": "display_data"
    }
   ],
   "source": [
    "#震例结果\n",
    "plt.figure(figsize=(5, 5))\n",
    "plt.axis('equal')\n",
    "\n",
    "x3 = np.arange(-2, 5, 0.01)\n",
    "y3=x3\n",
    "plt.plot(x3, y3, \"black\")\n",
    "\n",
    "plt.plot(y_zhenli1_CH,zhenli_prediction_CH,'.')\n",
    "plt.xlim(-2, 5)\n",
    "plt.ylim(-2, 5)\n",
    "plt.show()"
   ]
  },
  {
   "cell_type": "code",
   "execution_count": null,
   "metadata": {},
   "outputs": [],
   "source": []
  },
  {
   "cell_type": "code",
   "execution_count": null,
   "metadata": {},
   "outputs": [],
   "source": []
  }
 ],
 "metadata": {
  "kernelspec": {
   "display_name": "myenv",
   "language": "python",
   "name": "myenv"
  },
  "language_info": {
   "codemirror_mode": {
    "name": "ipython",
    "version": 3
   },
   "file_extension": ".py",
   "mimetype": "text/x-python",
   "name": "python",
   "nbconvert_exporter": "python",
   "pygments_lexer": "ipython3",
   "version": "3.10.6"
  }
 },
 "nbformat": 4,
 "nbformat_minor": 2
}
