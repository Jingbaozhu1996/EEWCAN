{
 "cells": [
  {
   "cell_type": "markdown",
   "metadata": {},
   "source": [
    "# Import Library"
   ]
  },
  {
   "cell_type": "code",
   "execution_count": 1,
   "metadata": {},
   "outputs": [],
   "source": [
    "import numpy as np\n",
    "import pandas as pd\n",
    "from datetime import date, timedelta\n",
    "import os\n",
    "import random\n",
    "import matplotlib.pyplot as plt\n",
    "from tqdm import tqdm\n",
    "from scipy.stats import skew, kurtosis\n",
    "\n",
    "from sklearn.preprocessing import StandardScaler\n",
    "from sklearn.metrics import mean_squared_error\n",
    "from tensorflow.keras import layers,Sequential,losses,optimizers,datasets\n",
    "\n",
    "import tensorflow as tf\n",
    "from tensorflow import keras\n",
    "from tensorflow.keras.layers import *\n",
    "from tensorflow.keras.models import *\n",
    "from tensorflow.keras.optimizers import *\n",
    "from tensorflow.keras.callbacks import *\n",
    "from tensorflow.keras import backend as K\n",
    "\n",
    "def setup_seed(seed):\n",
    "    random.seed(seed)  # 为python设置随机种子\n",
    "    np.random.seed(seed)  # 为numpy设置随机种子\n",
    "    tf.random.set_seed(seed)  # tf cpu fix seed\n",
    "    os.environ['TF_DETERMINISTIC_OPS'] = '1'  # tf gpu fix seed, please `pip install tensorflow-determinism` first\n",
    "\n",
    "setup_seed(2020)\n",
    "\n",
    "\n",
    "seed = 2020\n",
    "random.seed = 2020\n",
    "np.random.seed = 2020\n",
    "tf.seed = 2020\n",
    "tf.random.set_seed(2020)"
   ]
  },
  {
   "cell_type": "markdown",
   "metadata": {},
   "source": [
    "# Data processing"
   ]
  },
  {
   "cell_type": "code",
   "execution_count": 2,
   "metadata": {},
   "outputs": [],
   "source": [
    "import scipy.io as scio\n",
    "import pandas as pd\n",
    "\n",
    "#input\n",
    "feature1 = r'\\Training dataset\\ACC_UD.mat'\n",
    "data1 = scio.loadmat(feature1)\n",
    "AA=data1['ACC_UD']\n",
    "A=AA[:,0:300]\n",
    "\n",
    "feature2 = r'\\Training dataset\\ACC_EW.mat'\n",
    "data2 = scio.loadmat(feature2)\n",
    "BB=data2['ACC_EW']\n",
    "B=BB[:,0:300]\n",
    "\n",
    "feature3 = r'\\Training dataset\\ACC_NS.mat'\n",
    "data3 = scio.loadmat(feature3)\n",
    "CC=data3['ACC_NS']\n",
    "C=CC[:,0:300]\n",
    "\n",
    "\n",
    "\n",
    "\n",
    "label = pd.read_csv(open(r'\\Training dataset\\lable.csv',encoding='UTF-8'))\n"
   ]
  },
  {
   "cell_type": "code",
   "execution_count": 3,
   "metadata": {},
   "outputs": [],
   "source": [
    "raw_data1=np.hstack((A,B))\n",
    "train_xx=np.hstack((raw_data1,C))\n",
    "\n",
    "#print(train_xx.shape)\n",
    "\n",
    "\n",
    "train_y=label.iloc[:,[0]].values  #知识嵌入\n",
    "#y_data=label.iloc[:,[12]].values    #导入数据  iloc通过行号获取行数据\n",
    "#print(train_y[0])\n",
    "#print(train_y.shape)"
   ]
  },
  {
   "cell_type": "code",
   "execution_count": 4,
   "metadata": {},
   "outputs": [],
   "source": [
    "train_x=[]\n",
    "for i in range(len(train_xx)):\n",
    "    train_x.append(np.array(train_xx[i].reshape(3,1,300)).T)"
   ]
  },
  {
   "cell_type": "code",
   "execution_count": 5,
   "metadata": {},
   "outputs": [],
   "source": [
    "train_x=np.array(train_x)\n",
    "#test_x=np.array(test_x)"
   ]
  },
  {
   "cell_type": "code",
   "execution_count": 6,
   "metadata": {},
   "outputs": [],
   "source": [
    "#3#  ##Reshaping\n",
    "train_x = np.reshape(train_x, (train_x.shape[0], 300, 3))\n",
    "#test_x = np.reshape(test_x, (test_x.shape[0], 300, 9))\n",
    "#print(\"0\",train_x.shape[0])\n",
    "#print(\"1\",train_x.shape[1])\n",
    "#print(train_x.shape)\n",
    "#print(train_x)"
   ]
  },
  {
   "cell_type": "markdown",
   "metadata": {},
   "source": [
    "# CNN-Dis architecture, training and testing"
   ]
  },
  {
   "cell_type": "code",
   "execution_count": 7,
   "metadata": {},
   "outputs": [],
   "source": [
    "from keras import backend as K\n",
    "from keras.engine.topology import Layer\n",
    "class Self_Attention(Layer):\n",
    " \n",
    "    def __init__(self, output_dim, **kwargs):\n",
    "        self.output_dim = output_dim\n",
    "        super(Self_Attention, self).__init__(**kwargs)\n",
    " \n",
    "    def build(self, input_shape):\n",
    "        # 为该层创建一个可训练的权重\n",
    "        #inputs.shape = (batch_size, time_steps, seq_len)\n",
    "        self.kernel = self.add_weight(name='kernel',\n",
    "                                      shape=(3,input_shape[2], self.output_dim),\n",
    "                                      initializer='uniform',\n",
    "                                      trainable=True)\n",
    " \n",
    "        super(Self_Attention, self).build(input_shape)  # 一定要在最后调用它\n",
    " \n",
    "    def call(self, x):\n",
    "        WQ = K.dot(x, self.kernel[0])\n",
    "        WK = K.dot(x, self.kernel[1])\n",
    "        WV = K.dot(x, self.kernel[2])\n",
    " \n",
    "        print(\"WQ.shape\",WQ.shape)\n",
    " \n",
    "        print(\"K.permute_dimensions(WK, [0, 2, 1]).shape\",K.permute_dimensions(WK, [0, 2, 1]).shape)\n",
    " \n",
    " \n",
    "        QK = K.batch_dot(WQ,K.permute_dimensions(WK, [0, 2, 1]))\n",
    " \n",
    "        QK = QK / (64**0.5)\n",
    " \n",
    "        QK = K.softmax(QK)\n",
    " \n",
    "        print(\"QK.shape\",QK.shape)\n",
    " \n",
    "        V = K.batch_dot(QK,WV)\n",
    " \n",
    "        return V\n",
    " \n",
    "    def compute_output_shape(self, input_shape):\n",
    " \n",
    "        return (input_shape[0],input_shape[1],self.output_dim)\n",
    "\n",
    "    def get_config(self):  #在有自定义网络层时，需要保存模型时，重写get_config函数\n",
    "        config = {\"output_dim\": self.output_dim}\n",
    "        base_config = super(Self_Attention, self).get_config()\n",
    "        return dict(list(base_config.items()) + list(config.items()))"
   ]
  },
  {
   "cell_type": "code",
   "execution_count": 8,
   "metadata": {},
   "outputs": [],
   "source": [
    "seed=50\n",
    "#50 17.20 1.32\n",
    "drop_rate = 0.2\n",
    "def get_model():\n",
    "\n",
    "    inp1 = Input(shape=(300, 3), name='input_layer') \n",
    "\n",
    "    e = Conv1D(128, 3, padding = 'same')(inp1) \n",
    "    e = ReLU()(e)\n",
    "    e = MaxPooling1D(4, padding='same')(e)\n",
    "# \n",
    "    e = Conv1D(128, 3, padding = 'same')(e) \n",
    "    e = ReLU()(e)\n",
    "    e = MaxPooling1D(4, padding='same')(e)\n",
    "\n",
    "    e = Conv1D(128, 3, padding = 'same')(e) \n",
    "    e = ReLU()(e)\n",
    "    e = MaxPooling1D(4, padding='same')(e)\n",
    "    \n",
    "    e = Conv1D(128, 3, padding = 'same')(e) \n",
    "    e = ReLU()(e)\n",
    "    e = MaxPooling1D(4, padding='same')(e)\n",
    "\n",
    "    e = Conv1D(128, 3, padding = 'same')(e) \n",
    "    e = ReLU()(e)\n",
    "    e = MaxPooling1D(4, padding='same')(e)\n",
    "    \n",
    "    \n",
    "    e = Flatten()(e)\n",
    "\n",
    "\n",
    "    e = Dense(1)(e)\n",
    "    o = Activation('linear', name='output_layer')(e)\n",
    "    \n",
    "\n",
    "    #model = Model([inp_seq, inp_lap, inp_feat], out)  ,inpt2\n",
    "    rms = optimizers.Adam(lr=0.001, beta_1=0.9, beta_2=0.999, epsilon=1e-08)\n",
    "    model = Model(inp1, o)\n",
    "    model.compile(optimizer = rms, loss = 'mean_squared_error')\n",
    "\n",
    "    return model"
   ]
  },
  {
   "cell_type": "code",
   "execution_count": 9,
   "metadata": {},
   "outputs": [
    {
     "name": "stdout",
     "output_type": "stream",
     "text": [
      "Model: \"functional_1\"\n",
      "_________________________________________________________________\n",
      "Layer (type)                 Output Shape              Param #   \n",
      "=================================================================\n",
      "input_layer (InputLayer)     [(None, 300, 3)]          0         \n",
      "_________________________________________________________________\n",
      "conv1d (Conv1D)              (None, 300, 128)          1280      \n",
      "_________________________________________________________________\n",
      "re_lu (ReLU)                 (None, 300, 128)          0         \n",
      "_________________________________________________________________\n",
      "max_pooling1d (MaxPooling1D) (None, 75, 128)           0         \n",
      "_________________________________________________________________\n",
      "conv1d_1 (Conv1D)            (None, 75, 128)           49280     \n",
      "_________________________________________________________________\n",
      "re_lu_1 (ReLU)               (None, 75, 128)           0         \n",
      "_________________________________________________________________\n",
      "max_pooling1d_1 (MaxPooling1 (None, 19, 128)           0         \n",
      "_________________________________________________________________\n",
      "conv1d_2 (Conv1D)            (None, 19, 128)           49280     \n",
      "_________________________________________________________________\n",
      "re_lu_2 (ReLU)               (None, 19, 128)           0         \n",
      "_________________________________________________________________\n",
      "max_pooling1d_2 (MaxPooling1 (None, 5, 128)            0         \n",
      "_________________________________________________________________\n",
      "conv1d_3 (Conv1D)            (None, 5, 128)            49280     \n",
      "_________________________________________________________________\n",
      "re_lu_3 (ReLU)               (None, 5, 128)            0         \n",
      "_________________________________________________________________\n",
      "max_pooling1d_3 (MaxPooling1 (None, 2, 128)            0         \n",
      "_________________________________________________________________\n",
      "conv1d_4 (Conv1D)            (None, 2, 128)            49280     \n",
      "_________________________________________________________________\n",
      "re_lu_4 (ReLU)               (None, 2, 128)            0         \n",
      "_________________________________________________________________\n",
      "max_pooling1d_4 (MaxPooling1 (None, 1, 128)            0         \n",
      "_________________________________________________________________\n",
      "flatten (Flatten)            (None, 128)               0         \n",
      "_________________________________________________________________\n",
      "dense (Dense)                (None, 1)                 129       \n",
      "_________________________________________________________________\n",
      "output_layer (Activation)    (None, 1)                 0         \n",
      "=================================================================\n",
      "Total params: 198,529\n",
      "Trainable params: 198,529\n",
      "Non-trainable params: 0\n",
      "_________________________________________________________________\n"
     ]
    }
   ],
   "source": [
    "model = get_model()\n",
    "model.summary() "
   ]
  },
  {
   "cell_type": "code",
   "execution_count": 10,
   "metadata": {},
   "outputs": [
    {
     "name": "stdout",
     "output_type": "stream",
     "text": [
      "Epoch 1/300\n",
      "  1/162 [..............................] - ETA: 0s - loss: 6886.6729WARNING:tensorflow:Callbacks method `on_train_batch_end` is slow compared to the batch time (batch time: 0.0110s vs `on_train_batch_end` time: 0.0289s). Check your callbacks.\n",
      "162/162 [==============================] - 1063s 7s/step - loss: 3549.2998 - val_loss: 1957.1956\n",
      "Epoch 2/300\n",
      "162/162 [==============================] - 6s 38ms/step - loss: 1455.1802 - val_loss: 1435.6936\n",
      "Epoch 3/300\n",
      "162/162 [==============================] - 6s 39ms/step - loss: 1296.1968 - val_loss: 1391.5488\n",
      "Epoch 4/300\n",
      "162/162 [==============================] - 6s 39ms/step - loss: 1221.0795 - val_loss: 1409.7998\n",
      "Epoch 5/300\n",
      "162/162 [==============================] - 6s 38ms/step - loss: 1164.3798 - val_loss: 1224.3315\n",
      "Epoch 6/300\n",
      "162/162 [==============================] - 6s 38ms/step - loss: 1077.1304 - val_loss: 1118.8475\n",
      "Epoch 7/300\n",
      "162/162 [==============================] - 6s 37ms/step - loss: 1005.6443 - val_loss: 1138.8071\n",
      "Epoch 8/300\n",
      "162/162 [==============================] - 6s 38ms/step - loss: 958.4373 - val_loss: 1081.1179\n",
      "Epoch 9/300\n",
      "162/162 [==============================] - 6s 39ms/step - loss: 910.4532 - val_loss: 988.4298\n",
      "Epoch 10/300\n",
      "162/162 [==============================] - 6s 37ms/step - loss: 871.4543 - val_loss: 947.1357\n",
      "Epoch 11/300\n",
      "162/162 [==============================] - 6s 39ms/step - loss: 828.8526 - val_loss: 891.3297\n",
      "Epoch 12/300\n",
      "162/162 [==============================] - 6s 37ms/step - loss: 832.0221 - val_loss: 894.7214\n",
      "Epoch 13/300\n",
      "162/162 [==============================] - 7s 43ms/step - loss: 782.5901 - val_loss: 892.2447\n",
      "Epoch 14/300\n",
      "162/162 [==============================] - 7s 45ms/step - loss: 776.5788 - val_loss: 919.0573\n",
      "Epoch 15/300\n",
      "162/162 [==============================] - 7s 45ms/step - loss: 753.9421 - val_loss: 925.1974\n",
      "Epoch 16/300\n",
      "162/162 [==============================] - 10s 59ms/step - loss: 743.9023 - val_loss: 912.5344\n",
      "Epoch 17/300\n",
      "162/162 [==============================] - 8s 50ms/step - loss: 686.1944 - val_loss: 880.0902\n",
      "Epoch 18/300\n",
      "162/162 [==============================] - 7s 40ms/step - loss: 670.0017 - val_loss: 887.2559\n",
      "Epoch 19/300\n",
      "162/162 [==============================] - 7s 40ms/step - loss: 660.8826 - val_loss: 877.0245\n",
      "Epoch 20/300\n",
      "162/162 [==============================] - 6s 38ms/step - loss: 655.5142 - val_loss: 879.9260\n",
      "Epoch 21/300\n",
      "162/162 [==============================] - 6s 38ms/step - loss: 648.8909 - val_loss: 890.7761\n",
      "Epoch 22/300\n",
      "162/162 [==============================] - 6s 37ms/step - loss: 645.3552 - val_loss: 886.1384\n",
      "Epoch 23/300\n",
      "162/162 [==============================] - 6s 38ms/step - loss: 639.5891 - val_loss: 891.3463\n",
      "Epoch 24/300\n",
      "162/162 [==============================] - 6s 38ms/step - loss: 634.9478 - val_loss: 878.3719\n",
      "Epoch 25/300\n",
      "162/162 [==============================] - 6s 38ms/step - loss: 625.4922 - val_loss: 878.4465\n",
      "Epoch 26/300\n",
      "162/162 [==============================] - ETA: 0s - loss: 625.110 - 6s 38ms/step - loss: 624.3528 - val_loss: 879.8027\n",
      "Epoch 27/300\n",
      "162/162 [==============================] - 6s 39ms/step - loss: 623.6071 - val_loss: 880.7352\n",
      "Epoch 28/300\n",
      "162/162 [==============================] - 6s 39ms/step - loss: 623.1486 - val_loss: 881.6327\n",
      "Epoch 29/300\n",
      "162/162 [==============================] - 6s 38ms/step - loss: 622.5662 - val_loss: 879.9495\n"
     ]
    }
   ],
   "source": [
    "from keras.callbacks import EarlyStopping\n",
    "from keras.callbacks import ReduceLROnPlateau\n",
    "lr_reducer = ReduceLROnPlateau(monitor=\"val_loss\",\n",
    "                               factor=0.1,\n",
    "                                cooldown= 0,\n",
    "                                patience= 5,\n",
    "                                min_lr=0.1e-7)\n",
    "early_stopping_monitor = EarlyStopping(monitor= 'val_loss', patience = 10) #10  17.20 1.32\n",
    "callbacks = [lr_reducer, early_stopping_monitor]\n",
    "\n",
    "\n",
    "\n",
    "\n",
    "model = get_model()\n",
    "model.fit(train_x, train_y, epochs=300, batch_size=256,  \n",
    "            validation_split=0.1, callbacks=callbacks)  #256 ,train_physics  ,test_physics ,train_physics\n",
    "\n",
    "pred_train_all = model.predict(train_x).ravel()\n",
    "#pred_test_all = model.predict(test_x).ravel()  ##ravel() 转换成1列\n",
    "\n",
    "\n",
    "#pred_valid_all = scaler_seq.inverse_transform(pred_valid_all)\n",
    "#reverse_valid = scaler_seq.inverse_transform(y_valid)\n",
    "#pred_test_all = scaler_seq.inverse_transform(pred_test_all)\n",
    "#reverse_test = scaler_seq.inverse_transform(y_test)"
   ]
  },
  {
   "cell_type": "code",
   "execution_count": 11,
   "metadata": {},
   "outputs": [],
   "source": [
    "# 保存权重（推荐方式）\n",
    "model.save_weights(\"CNN_Dis_weights.h5\")  # HDF5格式"
   ]
  },
  {
   "cell_type": "code",
   "execution_count": 12,
   "metadata": {},
   "outputs": [
    {
     "name": "stdout",
     "output_type": "stream",
     "text": [
      "Model size (MB): 0.7573280334472656\n"
     ]
    }
   ],
   "source": [
    "def get_model_size_mb(model):\n",
    "    params = model.count_params()\n",
    "    # 假设所有参数为float32（4字节）\n",
    "    size_mb = params * 4 / 1024**2\n",
    "    return size_mb\n",
    " \n",
    "print(\"Model size (MB):\", get_model_size_mb(model))\n"
   ]
  },
  {
   "cell_type": "code",
   "execution_count": 13,
   "metadata": {
    "scrolled": true
   },
   "outputs": [
    {
     "name": "stdout",
     "output_type": "stream",
     "text": [
      "训练标准差STD= 0.1718748661948245\n",
      "训练误差均值MEAN= 0.03172442035522854\n",
      "训练平均绝对误差MAE= 0.12860172984740662\n",
      "训练RMSE= 0.17477816933577278\n",
      "训练MAPE= 14.129995229024045\n",
      "训练r2 score: 0.754138582957786\n"
     ]
    },
    {
     "data": {
      "image/png": "[encoded data removed]",
      "text/plain": [
       "<Figure size 360x360 with 1 Axes>"
      ]
     },
     "metadata": {
      "needs_background": "light"
     },
     "output_type": "display_data"
    }
   ],
   "source": [
    "from sklearn import metrics\n",
    "from sklearn.metrics import r2_score\n",
    "\n",
    "pred_train_all[pred_train_all <= 0] = 10\n",
    "train_y=np.log10(train_y) \n",
    "pred_train_all=np.log10(pred_train_all)\n",
    "\n",
    "print(\"训练标准差STD=\",np.std(pred_train_all-train_y.ravel()))\n",
    "print(\"训练误差均值MEAN=\",np.mean(pred_train_all-train_y.ravel()))\n",
    "print(\"训练平均绝对误差MAE=\",metrics.mean_absolute_error(pred_train_all, train_y.ravel()))\n",
    "print(\"训练RMSE=\",metrics.mean_squared_error(pred_train_all, train_y.ravel())**0.5)\n",
    "print(\"训练MAPE=\",np.mean(np.abs((train_y.ravel() - pred_train_all) / train_y.ravel())) * 100)\n",
    "print(\"训练r2 score:\", r2_score(train_y.ravel(), pred_train_all))\n",
    "\n",
    "\n",
    "plt.figure(figsize=(5, 5))\n",
    "plt.axis('equal')\n",
    "\n",
    "x3 = np.arange(-2, 5, 0.01)\n",
    "y3=x3\n",
    "plt.plot(x3, y3, \"black\")\n",
    "plt.plot(train_y.ravel(),pred_train_all,'.')\n",
    "plt.xlim(-2, 5)\n",
    "plt.ylim(-2, 5)\n",
    "plt.show()"
   ]
  },
  {
   "cell_type": "code",
   "execution_count": 14,
   "metadata": {},
   "outputs": [],
   "source": [
    "#########################保存训练结果####################################\n",
    "pred_train_all=pred_train_all.reshape(pred_train_all.shape[0],1)\n",
    "\n",
    "#y_score_tr=y_score_tr.reshape(y_score_tr.shape[0],1)\n",
    "#print(pred_train_all.shape)\n",
    "#print(train_y.shape)\n",
    "\n",
    "tr_result=np.concatenate((train_y,pred_train_all),axis=1)\n",
    "\n",
    "#print(tr_result.shape)\n",
    "\n",
    "data_tr = pd.DataFrame(tr_result) #将数组转换为dataframe结构\n",
    "data_tr.columns=['True LGED','Pred LGED']\n",
    "writer_tr = pd.ExcelWriter(r'\\CNN-Dis\\distrain.xls')   # 写入Excel文件\n",
    "\n",
    "data_tr.to_excel(writer_tr,float_format='%.5f',index=False)   ## ‘page_1’是写入excel的sheet名\n",
    "writer_tr.save()\n",
    "writer_tr.close()\n",
    "#########################保存训练结果####################################"
   ]
  },
  {
   "cell_type": "code",
   "execution_count": 15,
   "metadata": {},
   "outputs": [],
   "source": [
    "#震例\n",
    "import scipy.io as scio\n",
    "import pandas as pd\n",
    "\n",
    "#input\n",
    "feature1z = r'\\Test dataset\\ACC_UD.mat'\n",
    "data1z = scio.loadmat(feature1z)\n",
    "AAz=data1z['ACC_UD']\n",
    "Az=AAz[:,0:300]\n",
    "\n",
    "feature2z = r'\\Test dataset\\ACC_EW.mat'\n",
    "data2z = scio.loadmat(feature2z)\n",
    "BBz=data2z['ACC_EW']\n",
    "Bz=BBz[:,0:300]\n",
    "\n",
    "feature3z = r'\\Test dataset\\ACC_NS.mat'\n",
    "data3z = scio.loadmat(feature3z)\n",
    "CCz=data3z['ACC_NS']\n",
    "Cz=CCz[:,0:300]\n",
    "\n",
    "\n",
    "\n",
    "labelz = pd.read_csv(open(r'\\Test dataset\\lable.csv',encoding='UTF-8'))\n"
   ]
  },
  {
   "cell_type": "code",
   "execution_count": 16,
   "metadata": {},
   "outputs": [],
   "source": [
    "raw_data1z=np.hstack((Az,Bz))\n",
    "x_dataz=np.hstack((raw_data1z,Cz))\n",
    "\n",
    "\n",
    "y_dataz=labelz.iloc[:,[0]].values  #知识嵌入\n",
    "#y_data=label.iloc[:,[12]].values    #导入数据  iloc通过行号获取行数据\n",
    "#print(y_dataz[0])\n",
    "#print(y_dataz.shape)"
   ]
  },
  {
   "cell_type": "code",
   "execution_count": 17,
   "metadata": {},
   "outputs": [],
   "source": [
    "zhenli_y=y_dataz\n",
    "\n"
   ]
  },
  {
   "cell_type": "code",
   "execution_count": 18,
   "metadata": {},
   "outputs": [],
   "source": [
    "zhenli_x=[]\n",
    "for i in range(len(x_dataz)):\n",
    "    zhenli_x.append(np.array(x_dataz[i].reshape(3,1,300)).T)"
   ]
  },
  {
   "cell_type": "code",
   "execution_count": 19,
   "metadata": {},
   "outputs": [],
   "source": [
    "zhenli_x=np.array(zhenli_x)"
   ]
  },
  {
   "cell_type": "code",
   "execution_count": 20,
   "metadata": {},
   "outputs": [],
   "source": [
    "zhenli_x = np.reshape(zhenli_x, (zhenli_x.shape[0], 300, 3))"
   ]
  },
  {
   "cell_type": "code",
   "execution_count": 20,
   "metadata": {},
   "outputs": [
    {
     "name": "stdout",
     "output_type": "stream",
     "text": [
      "(1, 300, 3)\n"
     ]
    }
   ],
   "source": [
    "zhenli_x1=zhenli_x[0]\n",
    "zhenli_x1=zhenli_x1.reshape(1, 300, 3)\n",
    "print(zhenli_x1.shape)\n"
   ]
  },
  {
   "cell_type": "code",
   "execution_count": 22,
   "metadata": {},
   "outputs": [
    {
     "name": "stdout",
     "output_type": "stream",
     "text": [
      "Elapsed time: 32.01 ms\n"
     ]
    }
   ],
   "source": [
    "import time\n",
    "start_time = time.perf_counter()  # 记录开始时间\n",
    "pred_zhenli_all = model.predict(zhenli_x1).ravel()  ##ravel() 转换成1列\n",
    "end_time = time.perf_counter()  # 记录结束时间\n",
    "elapsed_time_ms = (end_time - start_time) * 1000  # 转换为毫秒\n",
    "print(f\"Elapsed time: {elapsed_time_ms:.2f} ms\")"
   ]
  },
  {
   "cell_type": "code",
   "execution_count": 21,
   "metadata": {},
   "outputs": [],
   "source": [
    "pred_zhenli_all = model.predict(zhenli_x).ravel()  ##ravel() 转换成1列"
   ]
  },
  {
   "cell_type": "code",
   "execution_count": 22,
   "metadata": {},
   "outputs": [
    {
     "name": "stdout",
     "output_type": "stream",
     "text": [
      "震例标准差STD= 0.1876608526326431\n",
      "震例误差均值MEAN= 0.019977759806279114\n",
      "震例平均绝对误差MAE= 0.13966717845417806\n",
      "震例RMSE= 0.18872124018691688\n",
      "震例MAPE= 12.284334412939476\n",
      "震例r2 score: 0.7341458552690505\n"
     ]
    },
    {
     "data": {
      "image/png": "[encoded data removed]",
      "text/plain": [
       "<Figure size 360x360 with 1 Axes>"
      ]
     },
     "metadata": {
      "needs_background": "light"
     },
     "output_type": "display_data"
    }
   ],
   "source": [
    "pred_zhenli_all[pred_zhenli_all <= 0] = 10\n",
    "zhenli_y=np.log10(zhenli_y) \n",
    "pred_zhenli_all=np.log10(pred_zhenli_all)\n",
    "\n",
    "print(\"震例标准差STD=\",np.std(pred_zhenli_all-zhenli_y.ravel()))\n",
    "print(\"震例误差均值MEAN=\",np.mean(pred_zhenli_all-zhenli_y.ravel()))\n",
    "print(\"震例平均绝对误差MAE=\",metrics.mean_absolute_error(pred_zhenli_all, zhenli_y.ravel()))\n",
    "print(\"震例RMSE=\",metrics.mean_squared_error(pred_zhenli_all, zhenli_y.ravel())**0.5)\n",
    "print(\"震例MAPE=\",np.mean(np.abs((zhenli_y.ravel() - pred_zhenli_all) / zhenli_y.ravel())) * 100)\n",
    "print(\"震例r2 score:\", r2_score(zhenli_y.ravel(), pred_zhenli_all))\n",
    "\n",
    "\n",
    "plt.figure(figsize=(5, 5))\n",
    "plt.axis('equal')\n",
    "\n",
    "x3 = np.arange(-2, 5, 0.01)\n",
    "y3=x3\n",
    "plt.plot(x3, y3, \"black\")\n",
    "plt.plot(zhenli_y.ravel(),pred_zhenli_all,'.')\n",
    "plt.xlim(-2, 5)\n",
    "plt.ylim(-2, 5)\n",
    "plt.show()  "
   ]
  },
  {
   "cell_type": "code",
   "execution_count": 23,
   "metadata": {},
   "outputs": [],
   "source": [
    "#########################保存震例结果####################################\n",
    "pred_zhenli_all=pred_zhenli_all.reshape(pred_zhenli_all.shape[0],1)\n",
    "\n",
    "#print(pred_zhenli_all.shape)\n",
    "#print(zhenli_y.shape)\n",
    "\n",
    "tz_result=np.concatenate((zhenli_y,pred_zhenli_all),axis=1)\n",
    "\n",
    "#print(tz_result.shape)\n",
    "\n",
    "data_tz = pd.DataFrame(tz_result) #将数组转换为dataframe结构\n",
    "data_tz.columns=['True LGED','Pred LGED']\n",
    "writer_tz = pd.ExcelWriter(r'\\CNN-Dis\\distest.xls')   # 写入Excel文件\n",
    "\n",
    "data_tz.to_excel(writer_tz,float_format='%.5f',index=False)   ## ‘page_1’是写入excel的sheet名\n",
    "writer_tz.save()\n",
    "writer_tz.close()\n",
    "#########################保存震例结果####################################"
   ]
  },
  {
   "cell_type": "markdown",
   "metadata": {},
   "source": [
    "# Test on the Chinese strong-ground motion data"
   ]
  },
  {
   "cell_type": "code",
   "execution_count": 24,
   "metadata": {},
   "outputs": [],
   "source": [
    "#在中国地区应用\n",
    "import scipy.io as scio\n",
    "import pandas as pd\n",
    "\n",
    "#input\n",
    "feature1z_CH = r'\\Chinese strong-ground motion test dataset\\ACC_UD.mat'\n",
    "data1z_CH = scio.loadmat(feature1z_CH)\n",
    "AAz_CH=data1z_CH['ACC_UD']\n",
    "Az_CH=AAz_CH[:,0:300]\n",
    "\n",
    "feature2z_CH = r'\\Chinese strong-ground motion test dataset\\ACC_EW.mat'\n",
    "data2z_CH = scio.loadmat(feature2z_CH)\n",
    "BBz_CH=data2z_CH['ACC_EW']\n",
    "Bz_CH=BBz_CH[:,0:300]\n",
    "\n",
    "feature3z_CH = r'\\Chinese strong-ground motion test dataset\\ACC_NS.mat'\n",
    "data3z_CH = scio.loadmat(feature3z_CH)\n",
    "CCz_CH=data3z_CH['ACC_NS']\n",
    "Cz_CH=CCz_CH[:,0:300]\n",
    "\n",
    "\n",
    "\n",
    "labelz_CH = pd.read_csv(open(r'\\Chinese strong-ground motion test dataset\\lable.csv',encoding='UTF-8'))\n"
   ]
  },
  {
   "cell_type": "code",
   "execution_count": 25,
   "metadata": {},
   "outputs": [],
   "source": [
    "raw_data1z_CH=np.hstack((Az_CH,Bz_CH))\n",
    "x_dataz_CH=np.hstack((raw_data1z_CH,Cz_CH))\n",
    "\n",
    "\n",
    "y_dataz_CH=labelz_CH.iloc[:,[0]].values  #知识嵌入\n",
    "#y_data=label.iloc[:,[12]].values    #导入数据  iloc通过行号获取行数据\n",
    "#print(y_dataz_CH[0])\n",
    "#print(y_dataz_CH.shape)"
   ]
  },
  {
   "cell_type": "code",
   "execution_count": 26,
   "metadata": {},
   "outputs": [],
   "source": [
    "zhenli_y_CH=y_dataz_CH\n"
   ]
  },
  {
   "cell_type": "code",
   "execution_count": 27,
   "metadata": {},
   "outputs": [],
   "source": [
    "zhenli_x_CH=[]\n",
    "for i in range(len(x_dataz_CH)):\n",
    "    zhenli_x_CH.append(np.array(x_dataz_CH[i].reshape(3,1,300)).T)"
   ]
  },
  {
   "cell_type": "code",
   "execution_count": 28,
   "metadata": {},
   "outputs": [],
   "source": [
    "zhenli_x_CH=np.array(zhenli_x_CH)"
   ]
  },
  {
   "cell_type": "code",
   "execution_count": 29,
   "metadata": {},
   "outputs": [],
   "source": [
    "zhenli_x_CH = np.reshape(zhenli_x_CH, (zhenli_x_CH.shape[0], 300, 3))"
   ]
  },
  {
   "cell_type": "code",
   "execution_count": 30,
   "metadata": {},
   "outputs": [],
   "source": [
    "pred_zhenli_all_CH = model.predict(zhenli_x_CH).ravel()  ##ravel() 转换成1列"
   ]
  },
  {
   "cell_type": "code",
   "execution_count": 31,
   "metadata": {},
   "outputs": [
    {
     "name": "stdout",
     "output_type": "stream",
     "text": [
      "震例标准差STD= 0.20091632750652874\n",
      "震例误差均值MEAN= 0.05419524307218411\n",
      "震例平均绝对误差MAE= 0.16303990597562845\n",
      "震例RMSE= 0.20809732105523088\n",
      "震例MAPE= 11.327958436955218\n",
      "震例r2 score: 0.6414913041353327\n"
     ]
    },
    {
     "data": {
      "image/png": "[encoded data removed]",
      "text/plain": [
       "<Figure size 360x360 with 1 Axes>"
      ]
     },
     "metadata": {
      "needs_background": "light"
     },
     "output_type": "display_data"
    }
   ],
   "source": [
    "pred_zhenli_all_CH[pred_zhenli_all_CH <= 0] = 10\n",
    "zhenli_y_CH=np.log10(zhenli_y_CH) \n",
    "pred_zhenli_all_CH=np.log10(pred_zhenli_all_CH)\n",
    "\n",
    "print(\"震例标准差STD=\",np.std(pred_zhenli_all_CH-zhenli_y_CH.ravel()))\n",
    "print(\"震例误差均值MEAN=\",np.mean(pred_zhenli_all_CH-zhenli_y_CH.ravel()))\n",
    "print(\"震例平均绝对误差MAE=\",metrics.mean_absolute_error(pred_zhenli_all_CH, zhenli_y_CH.ravel()))\n",
    "print(\"震例RMSE=\",metrics.mean_squared_error(pred_zhenli_all_CH, zhenli_y_CH.ravel())**0.5)\n",
    "print(\"震例MAPE=\",np.mean(np.abs((zhenli_y_CH.ravel() - pred_zhenli_all_CH) / zhenli_y_CH.ravel())) * 100)\n",
    "print(\"震例r2 score:\", r2_score(zhenli_y_CH.ravel(), pred_zhenli_all_CH))\n",
    "\n",
    "\n",
    "plt.figure(figsize=(5, 5))\n",
    "plt.axis('equal')\n",
    "\n",
    "x3 = np.arange(-2, 5, 0.01)\n",
    "y3=x3\n",
    "plt.plot(x3, y3, \"black\")\n",
    "plt.plot(zhenli_y_CH.ravel(),pred_zhenli_all_CH,'.')\n",
    "plt.xlim(-2, 5)\n",
    "plt.ylim(-2, 5)\n",
    "plt.show()  "
   ]
  },
  {
   "cell_type": "code",
   "execution_count": null,
   "metadata": {},
   "outputs": [],
   "source": []
  },
  {
   "cell_type": "code",
   "execution_count": null,
   "metadata": {},
   "outputs": [],
   "source": []
  }
 ],
 "metadata": {
  "kernelspec": {
   "display_name": "Python 3",
   "language": "python",
   "name": "python3"
  },
  "language_info": {
   "codemirror_mode": {
    "name": "ipython",
    "version": 3
   },
   "file_extension": ".py",
   "mimetype": "text/x-python",
   "name": "python",
   "nbconvert_exporter": "python",
   "pygments_lexer": "ipython3",
   "version": "3.7.0"
  }
 },
 "nbformat": 4,
 "nbformat_minor": 2
}
