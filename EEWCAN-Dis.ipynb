{
 "cells": [
  {
   "cell_type": "code",
   "execution_count": 1,
   "metadata": {},
   "outputs": [],
   "source": [
    "import numpy as np\n",
    "import pandas as pd\n",
    "from datetime import date, timedelta\n",
    "import os\n",
    "import random\n",
    "import matplotlib.pyplot as plt\n",
    "from tqdm import tqdm\n",
    "from scipy.stats import skew, kurtosis\n",
    "\n",
    "from sklearn.preprocessing import StandardScaler\n",
    "from sklearn.metrics import mean_squared_error\n",
    "from tensorflow.keras import layers,Sequential,losses,optimizers,datasets\n",
    "\n",
    "import tensorflow as tf\n",
    "from tensorflow import keras\n",
    "from tensorflow.keras.layers import *\n",
    "from tensorflow.keras.models import *\n",
    "from tensorflow.keras.optimizers import *\n",
    "from tensorflow.keras.callbacks import *\n",
    "from tensorflow.keras import backend as K\n",
    "\n",
    "def setup_seed(seed):\n",
    "    random.seed(seed)  # 为python设置随机种子\n",
    "    np.random.seed(seed)  # 为numpy设置随机种子\n",
    "    tf.random.set_seed(seed)  # tf cpu fix seed\n",
    "    os.environ['TF_DETERMINISTIC_OPS'] = '1'  # tf gpu fix seed, please `pip install tensorflow-determinism` first\n",
    "\n",
    "setup_seed(2020)\n",
    "\n",
    "\n",
    "seed = 2020\n",
    "random.seed = 2020\n",
    "np.random.seed = 2020\n",
    "tf.seed = 2020\n",
    "tf.random.set_seed(2020)"
   ]
  },
  {
   "cell_type": "code",
   "execution_count": 2,
   "metadata": {},
   "outputs": [],
   "source": [
    "import scipy.io as scio\n",
    "import pandas as pd\n",
    "\n",
    "#input\n",
    "feature1 = r'\\Training dataset\\ACC_UD.mat'\n",
    "data1 = scio.loadmat(feature1)\n",
    "AA=data1['ACC_UD']\n",
    "A=AA[:,0:300]\n",
    "\n",
    "feature2 = r'\\Training dataset\\ACC_EW.mat'\n",
    "data2 = scio.loadmat(feature2)\n",
    "BB=data2['ACC_EW']\n",
    "B=BB[:,0:300]\n",
    "\n",
    "feature3 = r'\\Training dataset\\ACC_NS.mat'\n",
    "data3 = scio.loadmat(feature3)\n",
    "CC=data3['ACC_NS']\n",
    "C=CC[:,0:300]\n",
    "\n",
    "feature4 = r'\\Training dataset\\VEL_UD.mat'\n",
    "data4 = scio.loadmat(feature4)\n",
    "DD=data4['VEL_UD']\n",
    "D=DD[:,0:300]\n",
    "\n",
    "feature5 = r'\\Training dataset\\VEL_EW.mat'\n",
    "data5 = scio.loadmat(feature5)\n",
    "EE=data5['VEL_EW']\n",
    "E=EE[:,0:300]\n",
    "\n",
    "feature6 = r'\\Training dataset\\VEL_NS.mat'\n",
    "data6 = scio.loadmat(feature6)\n",
    "FF=data6['VEL_NS']\n",
    "F=FF[:,0:300]\n",
    "\n",
    "feature7 = r'\\Training dataset\\DIS_UD.mat'\n",
    "data7 = scio.loadmat(feature7)\n",
    "GG=data7['DIS_UD']\n",
    "G=GG[:,0:300]\n",
    "\n",
    "feature8 = r'\\Training dataset\\DIS_EW.mat'\n",
    "data8 = scio.loadmat(feature8)\n",
    "HH=data8['DIS_EW']\n",
    "H=HH[:,0:300]\n",
    "\n",
    "feature9 = r'\\Training dataset\\DIS_NS.mat'\n",
    "data9 = scio.loadmat(feature9)\n",
    "II=data9['DIS_NS']\n",
    "I=II[:,0:300]\n",
    "\n",
    "\n",
    "label = pd.read_csv(open(r'\\Training dataset\\lable.csv',encoding='UTF-8'))\n"
   ]
  },
  {
   "cell_type": "code",
   "execution_count": 3,
   "metadata": {},
   "outputs": [
    {
     "name": "stdout",
     "output_type": "stream",
     "text": [
      "(45925, 2700)\n",
      "[1.06980095]\n",
      "(45925, 1)\n"
     ]
    }
   ],
   "source": [
    "raw_data1=np.hstack((A,B))\n",
    "raw_data2=np.hstack((raw_data1,C))\n",
    "raw_data3=np.hstack((raw_data2,D))\n",
    "raw_data4=np.hstack((raw_data3,E))\n",
    "raw_data5=np.hstack((raw_data4,F))\n",
    "raw_data6=np.hstack((raw_data5,G))\n",
    "raw_data7=np.hstack((raw_data6,H))\n",
    "train_xx=np.hstack((raw_data7,I))\n",
    "\n",
    "print(train_xx.shape)\n",
    "\n",
    "\n",
    "train_y=label.iloc[:,[1]].values  #知识嵌入\n",
    "#y_data=label.iloc[:,[12]].values    #导入数据  iloc通过行号获取行数据\n",
    "print(train_y[0])\n",
    "print(train_y.shape)"
   ]
  },
  {
   "cell_type": "code",
   "execution_count": 4,
   "metadata": {},
   "outputs": [],
   "source": [
    "train_x=[]\n",
    "for i in range(len(train_xx)):\n",
    "    train_x.append(np.array(train_xx[i].reshape(9,1,300)).T)"
   ]
  },
  {
   "cell_type": "code",
   "execution_count": 5,
   "metadata": {},
   "outputs": [],
   "source": [
    "train_x=np.array(train_x)\n",
    "#test_x=np.array(test_x)"
   ]
  },
  {
   "cell_type": "code",
   "execution_count": 6,
   "metadata": {},
   "outputs": [
    {
     "name": "stdout",
     "output_type": "stream",
     "text": [
      "0 45925\n",
      "1 300\n",
      "(45925, 300, 9)\n"
     ]
    }
   ],
   "source": [
    "#3#  ##Reshaping\n",
    "train_x = np.reshape(train_x, (train_x.shape[0], 300, 9))\n",
    "#test_x = np.reshape(test_x, (test_x.shape[0], 300, 9))\n",
    "print(\"0\",train_x.shape[0])\n",
    "print(\"1\",train_x.shape[1])\n",
    "print(train_x.shape)\n",
    "#print(train_x)"
   ]
  },
  {
   "cell_type": "code",
   "execution_count": 7,
   "metadata": {},
   "outputs": [],
   "source": [
    "# 定义一个局部注意力层（适用于序列数据）\n",
    "import tensorflow as tf\n",
    "from tensorflow.keras import layers\n",
    "\n",
    "class LocalAttentionLayer(layers.Layer):\n",
    "    def __init__(self, window_size, units, **kwargs):\n",
    "        super(LocalAttentionLayer, self).__init__(**kwargs)\n",
    "        self.window_size = window_size  # 注意力窗口大小（如5, 7）\n",
    "        self.units = units\n",
    "        \n",
    "        # 局部特征提取层：一维卷积替代全连接，限制感受野为窗口大小\n",
    "        self.conv1 = layers.Conv1D(\n",
    "            filters=units, \n",
    "            kernel_size=window_size, \n",
    "            padding='same',  # 保持序列长度不变\n",
    "            activation='tanh'\n",
    "        )\n",
    "        \n",
    "        # 注意力权重生成层：卷积核为1，输出单通道注意力得分\n",
    "        self.conv2 = layers.Conv1D(\n",
    "            filters=1, \n",
    "            kernel_size=1,  # 仅融合通道信息，不改变空间范围\n",
    "            activation='softmax'  # 窗口内归一化\n",
    "        )\n",
    "        \n",
    "        self.mul = layers.Multiply()\n",
    "\n",
    "    def call(self, inputs, mask=None):\n",
    "        # 输入形状: [batch_size, seq_len, features]\n",
    "        \n",
    "        # Step 1: 通过卷积提取局部特征（窗口内信息）\n",
    "        # 输出形状: [batch_size, seq_len, units]\n",
    "        local_features = self.conv1(inputs)  # 卷积核覆盖窗口大小区域\n",
    "        \n",
    "        # Step 2: 生成局部注意力权重（每个位置仅关注窗口内邻居）\n",
    "        # 输出形状: [batch_size, seq_len, 1]\n",
    "        attention_weights = self.conv2(local_features)  # 窗口内权重归一化\n",
    "        \n",
    "        # Step 3: 加权求和（仅窗口内特征参与）\n",
    "        # 输入与注意力权重逐元素相乘后求和\n",
    "        weighted_sum = self.mul([inputs, attention_weights])\n",
    "        weighted_sum = tf.reduce_sum(weighted_sum, axis=1)  # 形状: [batch_size, features]\n",
    "        \n",
    "        return weighted_sum\n",
    "\n",
    "    def get_config(self):\n",
    "        config = super().get_config()\n",
    "        config.update({\n",
    "            \"window_size\": self.window_size,\n",
    "            \"units\": self.units\n",
    "        })\n",
    "        return config\n",
    "    \n"
   ]
  },
  {
   "cell_type": "code",
   "execution_count": 8,
   "metadata": {},
   "outputs": [],
   "source": [
    "# 定义一个全局注意力层（适用于序列数据）\n",
    "class GlobalAttentionLayer(Layer):\n",
    "    def __init__(self,**kwargs):\n",
    "        super(GlobalAttentionLayer,self).__init__(**kwargs)\n",
    " \n",
    "    def build(self,input_shape):\n",
    "        self.weight = self.add_weight(name=\"watt\", shape=(input_shape[-1], 1), initializer=\"normal\")\n",
    "        self.bias = self.add_weight(name=\"batt\", shape=(input_shape[1], 1), initializer=\"zeros\")\n",
    "        super(GlobalAttentionLayer, self).build(input_shape)\n",
    " \n",
    "    def call(self,x):\n",
    "        att = K.expand_dims(K.softmax(K.squeeze(K.tanh(K.dot(x,self.weight) + self.bias), axis=-1)), axis=-1)\n",
    "        return K.sum(x*att, axis=1)\n",
    " \n",
    "    def compute_output_shape(self,input_shape):\n",
    "        return (input_shape[0], input_shape[-1])\n",
    " \n",
    "    def get_config(self):\n",
    "        return super(GlobalAttentionLayer,self).get_config()"
   ]
  },
  {
   "cell_type": "code",
   "execution_count": 9,
   "metadata": {},
   "outputs": [],
   "source": [
    "def LocalEncoder(x):\n",
    "    e = Conv1D(256, 3, padding = 'same')(x)\n",
    "    e = ReLU()(e)\n",
    "    e = MaxPooling1D(4, padding='same')(e)\n",
    "    e = Dropout(0.2)(e)\n",
    "    \n",
    "    e = Conv1D(256, 3, padding = 'same')(e)\n",
    "    e = ReLU()(e)\n",
    "    e = MaxPooling1D(4, padding='same')(e)\n",
    "    e = Dropout(0.2)(e) \n",
    "    \n",
    "    e = Conv1D(256, 3, padding = 'same')(e)\n",
    "    e = ReLU()(e)\n",
    "    e = MaxPooling1D(4, padding='same')(e)\n",
    "    e = Dropout(0.2)(e)  \n",
    "     \n",
    "\n",
    "    e = Bidirectional(GRU(256, return_sequences=True, dropout=0.0, recurrent_dropout=0.0))(e)\n",
    "    e = Bidirectional(GRU(256, return_sequences=True, dropout=0.0, recurrent_dropout=0.0))(e)\n",
    "    e = Bidirectional(GRU(256, return_sequences=False, dropout=0.0, recurrent_dropout=0.0))(e)\n",
    "    \n",
    "    e = LocalAttentionLayer(256)(e)\n",
    "    \n",
    "    return e\n",
    "    \n",
    "    "
   ]
  },
  {
   "cell_type": "code",
   "execution_count": 10,
   "metadata": {},
   "outputs": [],
   "source": [
    "def GlobalEncoder(x):\n",
    "    e = Conv1D(256, 3, padding = 'same')(x) \n",
    "    e = ReLU()(e)\n",
    "    e = MaxPooling1D(4, padding='same')(e)\n",
    "    e = Dropout(0.2)(e)\n",
    "    \n",
    "\n",
    "\n",
    "#    e = Bidirectional(GRU(16, return_sequences=True, dropout=0.0, recurrent_dropout=0.0))(e)\n",
    "    e = Bidirectional(GRU(16, return_sequences=True, dropout=0.0, recurrent_dropout=0.0))(e)\n",
    "    e = Bidirectional(GRU(16, return_sequences=True, dropout=0.0, recurrent_dropout=0.0))(e)\n",
    "    \n",
    "    e = GlobalAttentionLayer()(e)\n",
    "    \n",
    "    return e"
   ]
  },
  {
   "cell_type": "code",
   "execution_count": 11,
   "metadata": {},
   "outputs": [],
   "source": [
    "seed=50\n",
    "#50 17.20 1.32\n",
    "drop_rate = 0.2\n",
    "def get_model():\n",
    "\n",
    "    inp1 = Input(shape=(300, 9), name='input_layer') \n",
    "\n",
    "    x1 = LocalEncoder(inp1)\n",
    "    x2 = GlobalEncoder(inp1)\n",
    "    \n",
    "    e = tf.keras.layers.Concatenate()([x1, x2])\n",
    "\n",
    "\n",
    "#    e = Dense(256, activation='relu')(concat)#relu\n",
    "    e = Dense(128, activation='relu')(e)#relu\n",
    "    e = Dense(1)(e)\n",
    "    o = Activation('linear', name='output_layer')(e)\n",
    "    \n",
    "\n",
    "    #model = Model([inp_seq, inp_lap, inp_feat], out)  ,inpt2\n",
    "    rms = optimizers.Adam(lr=0.001, beta_1=0.9, beta_2=0.999, epsilon=1e-08)\n",
    "    model = Model(inp1, o)\n",
    "    model.compile(optimizer = rms, loss = 'mean_squared_error')\n",
    "\n",
    "    return model"
   ]
  },
  {
   "cell_type": "code",
   "execution_count": 12,
   "metadata": {},
   "outputs": [
    {
     "name": "stdout",
     "output_type": "stream",
     "text": [
      "Model: \"functional_1\"\n",
      "__________________________________________________________________________________________________\n",
      "Layer (type)                    Output Shape         Param #     Connected to                     \n",
      "==================================================================================================\n",
      "input_layer (InputLayer)        [(None, 300, 9)]     0                                            \n",
      "__________________________________________________________________________________________________\n",
      "conv1d (Conv1D)                 (None, 300, 256)     7168        input_layer[0][0]                \n",
      "__________________________________________________________________________________________________\n",
      "re_lu (ReLU)                    (None, 300, 256)     0           conv1d[0][0]                     \n",
      "__________________________________________________________________________________________________\n",
      "max_pooling1d (MaxPooling1D)    (None, 75, 256)      0           re_lu[0][0]                      \n",
      "__________________________________________________________________________________________________\n",
      "dropout (Dropout)               (None, 75, 256)      0           max_pooling1d[0][0]              \n",
      "__________________________________________________________________________________________________\n",
      "conv1d_1 (Conv1D)               (None, 75, 256)      196864      dropout[0][0]                    \n",
      "__________________________________________________________________________________________________\n",
      "re_lu_1 (ReLU)                  (None, 75, 256)      0           conv1d_1[0][0]                   \n",
      "__________________________________________________________________________________________________\n",
      "max_pooling1d_1 (MaxPooling1D)  (None, 19, 256)      0           re_lu_1[0][0]                    \n",
      "__________________________________________________________________________________________________\n",
      "dropout_1 (Dropout)             (None, 19, 256)      0           max_pooling1d_1[0][0]            \n",
      "__________________________________________________________________________________________________\n",
      "conv1d_2 (Conv1D)               (None, 19, 256)      196864      dropout_1[0][0]                  \n",
      "__________________________________________________________________________________________________\n",
      "re_lu_2 (ReLU)                  (None, 19, 256)      0           conv1d_2[0][0]                   \n",
      "__________________________________________________________________________________________________\n",
      "conv1d_3 (Conv1D)               (None, 300, 256)     7168        input_layer[0][0]                \n",
      "__________________________________________________________________________________________________\n",
      "max_pooling1d_2 (MaxPooling1D)  (None, 5, 256)       0           re_lu_2[0][0]                    \n",
      "__________________________________________________________________________________________________\n",
      "re_lu_3 (ReLU)                  (None, 300, 256)     0           conv1d_3[0][0]                   \n",
      "__________________________________________________________________________________________________\n",
      "dropout_2 (Dropout)             (None, 5, 256)       0           max_pooling1d_2[0][0]            \n",
      "__________________________________________________________________________________________________\n",
      "max_pooling1d_3 (MaxPooling1D)  (None, 75, 256)      0           re_lu_3[0][0]                    \n",
      "__________________________________________________________________________________________________\n",
      "bidirectional (Bidirectional)   (None, 5, 512)       789504      dropout_2[0][0]                  \n",
      "__________________________________________________________________________________________________\n",
      "dropout_3 (Dropout)             (None, 75, 256)      0           max_pooling1d_3[0][0]            \n",
      "__________________________________________________________________________________________________\n",
      "bidirectional_1 (Bidirectional) (None, 5, 512)       1182720     bidirectional[0][0]              \n",
      "__________________________________________________________________________________________________\n",
      "bidirectional_3 (Bidirectional) (None, 75, 32)       26304       dropout_3[0][0]                  \n",
      "__________________________________________________________________________________________________\n",
      "bidirectional_2 (Bidirectional) (None, 512)          1182720     bidirectional_1[0][0]            \n",
      "__________________________________________________________________________________________________\n",
      "bidirectional_4 (Bidirectional) (None, 75, 32)       4800        bidirectional_3[0][0]            \n",
      "__________________________________________________________________________________________________\n",
      "local_attention_layer (LocalAtt (None, 512)          131585      bidirectional_2[0][0]            \n",
      "__________________________________________________________________________________________________\n",
      "attention (Attention)           (None, 32)           107         bidirectional_4[0][0]            \n",
      "__________________________________________________________________________________________________\n",
      "concatenate (Concatenate)       (None, 544)          0           local_attention_layer[0][0]      \n",
      "                                                                 attention[0][0]                  \n",
      "__________________________________________________________________________________________________\n",
      "dense_2 (Dense)                 (None, 128)          69760       concatenate[0][0]                \n",
      "__________________________________________________________________________________________________\n",
      "dense_3 (Dense)                 (None, 1)            129         dense_2[0][0]                    \n",
      "__________________________________________________________________________________________________\n",
      "output_layer (Activation)       (None, 1)            0           dense_3[0][0]                    \n",
      "==================================================================================================\n",
      "Total params: 3,795,693\n",
      "Trainable params: 3,795,693\n",
      "Non-trainable params: 0\n",
      "__________________________________________________________________________________________________\n"
     ]
    }
   ],
   "source": [
    "model = get_model()\n",
    "model.summary() "
   ]
  },
  {
   "cell_type": "code",
   "execution_count": 13,
   "metadata": {},
   "outputs": [
    {
     "name": "stdout",
     "output_type": "stream",
     "text": [
      "Epoch 1/300\n",
      "162/162 [==============================] - 28s 171ms/step - loss: 0.1344 - val_loss: 0.0546\n",
      "Epoch 2/300\n",
      "162/162 [==============================] - 23s 142ms/step - loss: 0.0510 - val_loss: 0.0428\n",
      "Epoch 3/300\n",
      "162/162 [==============================] - 23s 141ms/step - loss: 0.0465 - val_loss: 0.0409\n",
      "Epoch 4/300\n",
      "162/162 [==============================] - 23s 142ms/step - loss: 0.0441 - val_loss: 0.0363\n",
      "Epoch 5/300\n",
      "162/162 [==============================] - 23s 142ms/step - loss: 0.0408 - val_loss: 0.0359\n",
      "Epoch 6/300\n",
      "162/162 [==============================] - 23s 142ms/step - loss: 0.0385 - val_loss: 0.0346\n",
      "Epoch 7/300\n",
      "162/162 [==============================] - 23s 141ms/step - loss: 0.0370 - val_loss: 0.0305\n",
      "Epoch 8/300\n",
      "162/162 [==============================] - 23s 141ms/step - loss: 0.0343 - val_loss: 0.0290\n",
      "Epoch 9/300\n",
      "162/162 [==============================] - 23s 141ms/step - loss: 0.0332 - val_loss: 0.0283\n",
      "Epoch 10/300\n",
      "162/162 [==============================] - 23s 141ms/step - loss: 0.0316 - val_loss: 0.0326\n",
      "Epoch 11/300\n",
      "162/162 [==============================] - 23s 141ms/step - loss: 0.0306 - val_loss: 0.0253\n",
      "Epoch 12/300\n",
      "162/162 [==============================] - 23s 141ms/step - loss: 0.0297 - val_loss: 0.0254\n",
      "Epoch 13/300\n",
      "162/162 [==============================] - 23s 143ms/step - loss: 0.0298 - val_loss: 0.0250\n",
      "Epoch 14/300\n",
      "162/162 [==============================] - 24s 147ms/step - loss: 0.0285 - val_loss: 0.0255\n",
      "Epoch 15/300\n",
      "162/162 [==============================] - 23s 143ms/step - loss: 0.0278 - val_loss: 0.0245\n",
      "Epoch 16/300\n",
      "162/162 [==============================] - 23s 142ms/step - loss: 0.0274 - val_loss: 0.0257\n",
      "Epoch 17/300\n",
      "162/162 [==============================] - 24s 146ms/step - loss: 0.0271 - val_loss: 0.0277\n",
      "Epoch 18/300\n",
      "162/162 [==============================] - 24s 149ms/step - loss: 0.0269 - val_loss: 0.0255\n",
      "Epoch 19/300\n",
      "162/162 [==============================] - 23s 142ms/step - loss: 0.0274 - val_loss: 0.0269\n",
      "Epoch 20/300\n",
      "162/162 [==============================] - 23s 145ms/step - loss: 0.0258 - val_loss: 0.0231\n",
      "Epoch 21/300\n",
      "162/162 [==============================] - 23s 141ms/step - loss: 0.0257 - val_loss: 0.0240\n",
      "Epoch 22/300\n",
      "162/162 [==============================] - 23s 141ms/step - loss: 0.0253 - val_loss: 0.0246\n",
      "Epoch 23/300\n",
      "162/162 [==============================] - 23s 141ms/step - loss: 0.0250 - val_loss: 0.0270\n",
      "Epoch 24/300\n",
      "162/162 [==============================] - 23s 142ms/step - loss: 0.0242 - val_loss: 0.0254\n",
      "Epoch 25/300\n",
      "162/162 [==============================] - 23s 142ms/step - loss: 0.0241 - val_loss: 0.0231\n",
      "Epoch 26/300\n",
      "162/162 [==============================] - 23s 142ms/step - loss: 0.0222 - val_loss: 0.0230\n",
      "Epoch 27/300\n",
      "162/162 [==============================] - 23s 141ms/step - loss: 0.0215 - val_loss: 0.0238\n",
      "Epoch 28/300\n",
      "162/162 [==============================] - 23s 141ms/step - loss: 0.0213 - val_loss: 0.0239\n",
      "Epoch 29/300\n",
      "162/162 [==============================] - 23s 142ms/step - loss: 0.0210 - val_loss: 0.0233\n",
      "Epoch 30/300\n",
      "162/162 [==============================] - 23s 141ms/step - loss: 0.0209 - val_loss: 0.0241\n",
      "Epoch 31/300\n",
      "162/162 [==============================] - 23s 141ms/step - loss: 0.0209 - val_loss: 0.0239\n",
      "Epoch 32/300\n",
      "162/162 [==============================] - 23s 141ms/step - loss: 0.0204 - val_loss: 0.0236\n",
      "Epoch 33/300\n",
      "162/162 [==============================] - 23s 142ms/step - loss: 0.0204 - val_loss: 0.0237\n",
      "Epoch 34/300\n",
      "162/162 [==============================] - 23s 142ms/step - loss: 0.0204 - val_loss: 0.0237\n",
      "Epoch 35/300\n",
      "162/162 [==============================] - 23s 142ms/step - loss: 0.0204 - val_loss: 0.0237\n",
      "Epoch 36/300\n",
      "162/162 [==============================] - 23s 141ms/step - loss: 0.0203 - val_loss: 0.0240\n"
     ]
    }
   ],
   "source": [
    "from keras.callbacks import EarlyStopping\n",
    "from keras.callbacks import ReduceLROnPlateau\n",
    "lr_reducer = ReduceLROnPlateau(monitor=\"val_loss\",\n",
    "                               factor=0.1,\n",
    "                                cooldown= 0,\n",
    "                                patience= 5,\n",
    "                                min_lr=0.1e-7)\n",
    "early_stopping_monitor = EarlyStopping(monitor= 'val_loss', patience = 10) #10  17.20 1.32\n",
    "callbacks = [lr_reducer, early_stopping_monitor]\n",
    "\n",
    "\n",
    "\n",
    "\n",
    "model = get_model()\n",
    "history=model.fit(train_x, train_y, epochs=300, batch_size=256,  \n",
    "            validation_split=0.1, callbacks=callbacks)  #256 ,train_physics  ,test_physics ,train_physics\n",
    "\n",
    "pred_train_all = model.predict(train_x).ravel()\n",
    "#pred_test_all = model.predict(test_x).ravel()  ##ravel() 转换成1列\n",
    "\n",
    "\n",
    "#pred_valid_all = scaler_seq.inverse_transform(pred_valid_all)\n",
    "#reverse_valid = scaler_seq.inverse_transform(y_valid)\n",
    "#pred_test_all = scaler_seq.inverse_transform(pred_test_all)\n",
    "#reverse_test = scaler_seq.inverse_transform(y_test)"
   ]
  },
  {
   "cell_type": "code",
   "execution_count": 14,
   "metadata": {},
   "outputs": [
    {
     "data": {
      "text/plain": [
       "Text(0, 0.5, 'Loss')"
      ]
     },
     "execution_count": 14,
     "metadata": {},
     "output_type": "execute_result"
    },
    {
     "data": {
      "image/png": "[encoded data removed]",
      "text/plain": [
       "<Figure size 576x432 with 1 Axes>"
      ]
     },
     "metadata": {
      "needs_background": "light"
     },
     "output_type": "display_data"
    }
   ],
   "source": [
    "from matplotlib.pyplot import plot,savefig\n",
    "loss = history.history['loss']\n",
    "val_loss = history.history['val_loss']\n",
    "epoch = range(1,len(loss)+1)\n",
    "plt.figure(figsize=(8, 6))\n",
    "\n",
    "#plt.semilogy(epoch,loss, color=\"red\",label='Training loss')\n",
    "#plt.semilogy(epoch, val_loss,color=\"blue\", label='Validation loss')\n",
    "\n",
    "plt.plot(epoch,loss, color=\"red\",label='Training loss')\n",
    "plt.plot(epoch, val_loss,color=\"blue\", label='Validation loss')\n",
    "\n",
    "\n",
    "plt.legend()\n",
    "plt.title('Training and validation loss')\n",
    "plt.xlabel('Epochs')\n",
    "plt.ylabel('Loss')"
   ]
  },
  {
   "cell_type": "code",
   "execution_count": 15,
   "metadata": {},
   "outputs": [
    {
     "name": "stdout",
     "output_type": "stream",
     "text": [
      "(36, 1)\n",
      "(36, 1)\n",
      "(36, 1)\n",
      "(36, 3)\n"
     ]
    }
   ],
   "source": [
    "loss=np.array(loss)\n",
    "val_loss=np.array(val_loss)\n",
    "epoch=np.array(epoch)\n",
    "\n",
    "loss=loss.reshape(loss.shape[0],1)\n",
    "val_loss=val_loss.reshape(val_loss.shape[0],1)\n",
    "epoch=epoch.reshape(epoch.shape[0],1)\n",
    "\n",
    "loss_zong=np.concatenate((epoch,loss,val_loss),axis=1)\n",
    "\n",
    "\n",
    "print(epoch.shape)\n",
    "print(val_loss.shape)\n",
    "print(loss.shape)\n",
    "print(loss_zong.shape)\n",
    "\n",
    "data_loss = pd.DataFrame(loss_zong) #将数组转换为dataframe结构\n",
    "data_loss.columns=['epoch','loss','val_loss']\n",
    "writer_loss = pd.ExcelWriter(r'\\Disloss3.xls')   # 写入Excel文件\n",
    "\n",
    "data_loss.to_excel(writer_loss,float_format='%.5f',index=False)   ## ‘page_1’是写入excel的sheet名\n",
    "writer_loss.save()\n",
    "writer_loss.close()"
   ]
  },
  {
   "cell_type": "code",
   "execution_count": 16,
   "metadata": {},
   "outputs": [],
   "source": [
    "#B = get_model()\n",
    "#B.load_weights('baseline.hdf5')\n",
    "#B.summary()\n",
    "\n",
    "#model.save(\"Disnet3s.h5\", save_format=\"tf\")\n",
    "#model.save_weights(\"Magnet3s.h5\")"
   ]
  },
  {
   "cell_type": "code",
   "execution_count": 17,
   "metadata": {
    "scrolled": true
   },
   "outputs": [
    {
     "name": "stdout",
     "output_type": "stream",
     "text": [
      "训练标准差STD= 0.13756661896759517\n",
      "训练误差均值MEAN= -0.0014518779867110684\n",
      "训练平均绝对误差MAE= 0.10397439666586283\n",
      "训练RMSE= 0.13757428031381377\n",
      "训练MAPE= 8.599902220385841\n",
      "训练r2 score: 0.8476682233604858\n"
     ]
    },
    {
     "data": {
      "image/png": "[encoded data removed]",
      "text/plain": [
       "<Figure size 360x360 with 1 Axes>"
      ]
     },
     "metadata": {
      "needs_background": "light"
     },
     "output_type": "display_data"
    }
   ],
   "source": [
    "from sklearn import metrics\n",
    "from sklearn.metrics import r2_score\n",
    "print(\"训练标准差STD=\",np.std(pred_train_all-train_y.ravel()))\n",
    "print(\"训练误差均值MEAN=\",np.mean(pred_train_all-train_y.ravel()))\n",
    "print(\"训练平均绝对误差MAE=\",metrics.mean_absolute_error(pred_train_all, train_y.ravel()))\n",
    "print(\"训练RMSE=\",metrics.mean_squared_error(pred_train_all, train_y.ravel())**0.5)\n",
    "print(\"训练MAPE=\",np.mean(np.abs((train_y.ravel() - pred_train_all) / train_y.ravel())) * 100)\n",
    "print(\"训练r2 score:\", r2_score(train_y.ravel(), pred_train_all))\n",
    "\n",
    "\n",
    "plt.figure(figsize=(5, 5))\n",
    "plt.axis('equal')\n",
    "\n",
    "x3 = np.arange(-2, 5, 0.01)\n",
    "y3=x3\n",
    "plt.plot(x3, y3, \"black\")\n",
    "plt.plot(train_y.ravel(),pred_train_all,'.')\n",
    "plt.xlim(-2, 5)\n",
    "plt.ylim(-2, 5)\n",
    "plt.show()"
   ]
  },
  {
   "cell_type": "code",
   "execution_count": 18,
   "metadata": {},
   "outputs": [
    {
     "name": "stdout",
     "output_type": "stream",
     "text": [
      "(45925, 1)\n",
      "(45925, 1)\n",
      "(45925, 2)\n"
     ]
    }
   ],
   "source": [
    "#########################保存训练结果####################################\n",
    "pred_train_all=pred_train_all.reshape(pred_train_all.shape[0],1)\n",
    "\n",
    "#y_score_tr=y_score_tr.reshape(y_score_tr.shape[0],1)\n",
    "print(pred_train_all.shape)\n",
    "print(train_y.shape)\n",
    "\n",
    "tr_result=np.concatenate((train_y,pred_train_all),axis=1)\n",
    "\n",
    "print(tr_result.shape)\n",
    "\n",
    "data_tr = pd.DataFrame(tr_result) #将数组转换为dataframe结构\n",
    "data_tr.columns=['Truedis','Predis']\n",
    "writer_tr = pd.ExcelWriter(r'\\Dis\\train3.xls')   # 写入Excel文件\n",
    "\n",
    "data_tr.to_excel(writer_tr,float_format='%.5f',index=False)   ## ‘page_1’是写入excel的sheet名\n",
    "writer_tr.save()\n",
    "writer_tr.close()\n",
    "#########################保存训练结果####################################"
   ]
  },
  {
   "cell_type": "code",
   "execution_count": 19,
   "metadata": {},
   "outputs": [],
   "source": [
    "#震例\n",
    "import scipy.io as scio\n",
    "import pandas as pd\n",
    "\n",
    "#input\n",
    "feature1z = r'\\Test dataset\\ACC_UD.mat'\n",
    "data1z = scio.loadmat(feature1z)\n",
    "AAz=data1z['ACC_UD']\n",
    "Az=AAz[:,0:300]\n",
    "\n",
    "feature2z = r'\\Test dataset\\ACC_EW.mat'\n",
    "data2z = scio.loadmat(feature2z)\n",
    "BBz=data2z['ACC_EW']\n",
    "Bz=BBz[:,0:300]\n",
    "\n",
    "feature3z = r'\\Test dataset\\ACC_NS.mat'\n",
    "data3z = scio.loadmat(feature3z)\n",
    "CCz=data3z['ACC_NS']\n",
    "Cz=CCz[:,0:300]\n",
    "\n",
    "feature4z = r'\\Test dataset\\VEL_UD.mat'\n",
    "data4z = scio.loadmat(feature4z)\n",
    "DDz=data4z['VEL_UD']\n",
    "Dz=DDz[:,0:300]\n",
    "\n",
    "feature5z = r'\\Test dataset\\VEL_EW.mat'\n",
    "data5z = scio.loadmat(feature5z)\n",
    "EEz=data5z['VEL_EW']\n",
    "Ez=EEz[:,0:300]\n",
    "\n",
    "feature6z = r'\\Test dataset\\VEL_NS.mat'\n",
    "data6z = scio.loadmat(feature6z)\n",
    "FFz=data6z['VEL_NS']\n",
    "Fz=FFz[:,0:300]\n",
    "\n",
    "feature7z = r'\\Test dataset\\DIS_UD.mat'\n",
    "data7z = scio.loadmat(feature7z)\n",
    "GGz=data7z['DIS_UD']\n",
    "Gz=GGz[:,0:300]\n",
    "\n",
    "feature8z = r'\\Test dataset\\DIS_EW.mat'\n",
    "data8z = scio.loadmat(feature8z)\n",
    "HHz=data8z['DIS_EW']\n",
    "Hz=HHz[:,0:300]\n",
    "\n",
    "feature9z = r'\\Test dataset\\DIS_NS.mat'\n",
    "data9z = scio.loadmat(feature9z)\n",
    "IIz=data9z['DIS_NS']\n",
    "Iz=IIz[:,0:300]\n",
    "\n",
    "\n",
    "labelz = pd.read_csv(open(r'\\Test dataset\\lable.csv',encoding='UTF-8'))\n"
   ]
  },
  {
   "cell_type": "code",
   "execution_count": 20,
   "metadata": {},
   "outputs": [
    {
     "name": "stdout",
     "output_type": "stream",
     "text": [
      "[1.79898088]\n",
      "(10992, 1)\n"
     ]
    }
   ],
   "source": [
    "raw_data1z=np.hstack((Az,Bz))\n",
    "raw_data2z=np.hstack((raw_data1z,Cz))\n",
    "raw_data3z=np.hstack((raw_data2z,Dz))\n",
    "raw_data4z=np.hstack((raw_data3z,Ez))\n",
    "raw_data5z=np.hstack((raw_data4z,Fz))\n",
    "raw_data6z=np.hstack((raw_data5z,Gz))\n",
    "raw_data7z=np.hstack((raw_data6z,Hz))\n",
    "x_dataz=np.hstack((raw_data7z,Iz))\n",
    "\n",
    "y_dataz=labelz.iloc[:,[1]].values  #知识嵌入\n",
    "#y_data=label.iloc[:,[12]].values    #导入数据  iloc通过行号获取行数据\n",
    "print(y_dataz[0])\n",
    "print(y_dataz.shape)"
   ]
  },
  {
   "cell_type": "code",
   "execution_count": 21,
   "metadata": {},
   "outputs": [],
   "source": [
    "zhenli_y=y_dataz\n",
    "\n"
   ]
  },
  {
   "cell_type": "code",
   "execution_count": 22,
   "metadata": {},
   "outputs": [],
   "source": [
    "zhenli_x=[]\n",
    "for i in range(len(x_dataz)):\n",
    "    zhenli_x.append(np.array(x_dataz[i].reshape(9,1,300)).T)"
   ]
  },
  {
   "cell_type": "code",
   "execution_count": 23,
   "metadata": {},
   "outputs": [],
   "source": [
    "zhenli_x=np.array(zhenli_x)"
   ]
  },
  {
   "cell_type": "code",
   "execution_count": 24,
   "metadata": {},
   "outputs": [],
   "source": [
    "zhenli_x = np.reshape(zhenli_x, (zhenli_x.shape[0], 300, 9))"
   ]
  },
  {
   "cell_type": "code",
   "execution_count": 25,
   "metadata": {},
   "outputs": [],
   "source": [
    "pred_zhenli_all = model.predict(zhenli_x).ravel()  ##ravel() 转换成1列"
   ]
  },
  {
   "cell_type": "code",
   "execution_count": 26,
   "metadata": {},
   "outputs": [
    {
     "name": "stdout",
     "output_type": "stream",
     "text": [
      "震例标准差STD= 0.16217060381883194\n",
      "震例误差均值MEAN= -0.010148267021667698\n",
      "震例平均绝对误差MAE= 0.12258702865351281\n",
      "震例RMSE= 0.16248782128672787\n",
      "震例MAPE= 10.37666687489747\n",
      "震例r2 score: 0.8029195692955312\n"
     ]
    },
    {
     "data": {
      "image/png": "[encoded data removed]",
      "text/plain": [
       "<Figure size 360x360 with 1 Axes>"
      ]
     },
     "metadata": {
      "needs_background": "light"
     },
     "output_type": "display_data"
    }
   ],
   "source": [
    "print(\"震例标准差STD=\",np.std(pred_zhenli_all-zhenli_y.ravel()))\n",
    "print(\"震例误差均值MEAN=\",np.mean(pred_zhenli_all-zhenli_y.ravel()))\n",
    "print(\"震例平均绝对误差MAE=\",metrics.mean_absolute_error(pred_zhenli_all, zhenli_y.ravel()))\n",
    "print(\"震例RMSE=\",metrics.mean_squared_error(pred_zhenli_all, zhenli_y.ravel())**0.5)\n",
    "print(\"震例MAPE=\",np.mean(np.abs((zhenli_y.ravel() - pred_zhenli_all) / zhenli_y.ravel())) * 100)\n",
    "print(\"震例r2 score:\", r2_score(zhenli_y.ravel(), pred_zhenli_all))\n",
    "\n",
    "\n",
    "plt.figure(figsize=(5, 5))\n",
    "plt.axis('equal')\n",
    "\n",
    "x3 = np.arange(-2, 5, 0.01)\n",
    "y3=x3\n",
    "plt.plot(x3, y3, \"black\")\n",
    "plt.plot(zhenli_y.ravel(),pred_zhenli_all,'.')\n",
    "plt.xlim(-2, 5)\n",
    "plt.ylim(-2, 5)\n",
    "plt.show()  "
   ]
  },
  {
   "cell_type": "code",
   "execution_count": 27,
   "metadata": {},
   "outputs": [
    {
     "name": "stdout",
     "output_type": "stream",
     "text": [
      "(10992, 1)\n",
      "(10992, 1)\n",
      "(10992, 2)\n"
     ]
    }
   ],
   "source": [
    "#########################保存震例结果####################################\n",
    "pred_zhenli_all=pred_zhenli_all.reshape(pred_zhenli_all.shape[0],1)\n",
    "\n",
    "print(pred_zhenli_all.shape)\n",
    "print(zhenli_y.shape)\n",
    "\n",
    "tz_result=np.concatenate((zhenli_y,pred_zhenli_all),axis=1)\n",
    "\n",
    "print(tz_result.shape)\n",
    "\n",
    "data_tz = pd.DataFrame(tz_result) #将数组转换为dataframe结构\n",
    "data_tz.columns=['Truedis','Predis']\n",
    "writer_tz = pd.ExcelWriter(r'\\zhenli3.xls')   # 写入Excel文件\n",
    "\n",
    "data_tz.to_excel(writer_tz,float_format='%.5f',index=False)   ## ‘page_1’是写入excel的sheet名\n",
    "writer_tz.save()\n",
    "writer_tz.close()\n",
    "#########################保存震例结果####################################"
   ]
  },
  {
   "cell_type": "code",
   "execution_count": null,
   "metadata": {},
   "outputs": [],
   "source": []
  }
 ],
 "metadata": {
  "kernelspec": {
   "display_name": "Python 3",
   "language": "python",
   "name": "python3"
  },
  "language_info": {
   "codemirror_mode": {
    "name": "ipython",
    "version": 3
   },
   "file_extension": ".py",
   "mimetype": "text/x-python",
   "name": "python",
   "nbconvert_exporter": "python",
   "pygments_lexer": "ipython3",
   "version": "3.7.0"
  }
 },
 "nbformat": 4,
 "nbformat_minor": 2
}
